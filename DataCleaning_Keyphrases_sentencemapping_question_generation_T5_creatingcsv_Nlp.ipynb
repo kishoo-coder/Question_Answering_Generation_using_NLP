{
  "nbformat": 4,
  "nbformat_minor": 0,
  "metadata": {
    "colab": {
      "provenance": [],
      "collapsed_sections": [
        "fQfe54gHnyY2",
        "psFVldS_28Iu",
        "yKDbOeZb3DgL",
        "_b3y8Iqh3XFt",
        "4Ug_a6AYeqS8",
        "G35rTMdG6b8g",
        "oGemAEoRe1Mr",
        "EN6F3-ZfmkeY",
        "tBW71Sduq7cN",
        "3qZOFMTVdwJs",
        "P8zojpZ0NMXT",
        "glsT5sHb3FOY",
        "tdd0Da9iEGdt",
        "g6WG6eTqDR6m"
      ]
    },
    "kernelspec": {
      "name": "python3",
      "display_name": "Python 3"
    },
    "language_info": {
      "name": "python"
    },
    "widgets": {
      "application/vnd.jupyter.widget-state+json": {
        "9c1da11ec90d4b3eb5a8ad3ba1029a2c": {
          "model_module": "@jupyter-widgets/controls",
          "model_name": "HBoxModel",
          "model_module_version": "1.5.0",
          "state": {
            "_dom_classes": [],
            "_model_module": "@jupyter-widgets/controls",
            "_model_module_version": "1.5.0",
            "_model_name": "HBoxModel",
            "_view_count": null,
            "_view_module": "@jupyter-widgets/controls",
            "_view_module_version": "1.5.0",
            "_view_name": "HBoxView",
            "box_style": "",
            "children": [
              "IPY_MODEL_8f994fdf570c4ca79cd03861e7d3ca3a",
              "IPY_MODEL_abe3fa87e9c74893b8fce9c14630fd77",
              "IPY_MODEL_28b5c973cb2c45a2938bb8f764e1a7f8"
            ],
            "layout": "IPY_MODEL_769cc4b286dd41d3a6cca99462125a7b"
          }
        },
        "8f994fdf570c4ca79cd03861e7d3ca3a": {
          "model_module": "@jupyter-widgets/controls",
          "model_name": "HTMLModel",
          "model_module_version": "1.5.0",
          "state": {
            "_dom_classes": [],
            "_model_module": "@jupyter-widgets/controls",
            "_model_module_version": "1.5.0",
            "_model_name": "HTMLModel",
            "_view_count": null,
            "_view_module": "@jupyter-widgets/controls",
            "_view_module_version": "1.5.0",
            "_view_name": "HTMLView",
            "description": "",
            "description_tooltip": null,
            "layout": "IPY_MODEL_a0bcb69a00d44964b1800467746779fb",
            "placeholder": "​",
            "style": "IPY_MODEL_396a59387df9459d8f2ce80d9845036b",
            "value": "Downloading: 100%"
          }
        },
        "abe3fa87e9c74893b8fce9c14630fd77": {
          "model_module": "@jupyter-widgets/controls",
          "model_name": "FloatProgressModel",
          "model_module_version": "1.5.0",
          "state": {
            "_dom_classes": [],
            "_model_module": "@jupyter-widgets/controls",
            "_model_module_version": "1.5.0",
            "_model_name": "FloatProgressModel",
            "_view_count": null,
            "_view_module": "@jupyter-widgets/controls",
            "_view_module_version": "1.5.0",
            "_view_name": "ProgressView",
            "bar_style": "success",
            "description": "",
            "description_tooltip": null,
            "layout": "IPY_MODEL_a64f90773d4c4931ae3c241109a4d89e",
            "max": 1230,
            "min": 0,
            "orientation": "horizontal",
            "style": "IPY_MODEL_0656b5ec2cc144168ee953412506953b",
            "value": 1230
          }
        },
        "28b5c973cb2c45a2938bb8f764e1a7f8": {
          "model_module": "@jupyter-widgets/controls",
          "model_name": "HTMLModel",
          "model_module_version": "1.5.0",
          "state": {
            "_dom_classes": [],
            "_model_module": "@jupyter-widgets/controls",
            "_model_module_version": "1.5.0",
            "_model_name": "HTMLModel",
            "_view_count": null,
            "_view_module": "@jupyter-widgets/controls",
            "_view_module_version": "1.5.0",
            "_view_name": "HTMLView",
            "description": "",
            "description_tooltip": null,
            "layout": "IPY_MODEL_19f56093e21642bb9acc56490584cfd5",
            "placeholder": "​",
            "style": "IPY_MODEL_66aaaedb68a1457fa5ad23c8162af90a",
            "value": " 1.23k/1.23k [00:00&lt;00:00, 21.9kB/s]"
          }
        },
        "769cc4b286dd41d3a6cca99462125a7b": {
          "model_module": "@jupyter-widgets/base",
          "model_name": "LayoutModel",
          "model_module_version": "1.2.0",
          "state": {
            "_model_module": "@jupyter-widgets/base",
            "_model_module_version": "1.2.0",
            "_model_name": "LayoutModel",
            "_view_count": null,
            "_view_module": "@jupyter-widgets/base",
            "_view_module_version": "1.2.0",
            "_view_name": "LayoutView",
            "align_content": null,
            "align_items": null,
            "align_self": null,
            "border": null,
            "bottom": null,
            "display": null,
            "flex": null,
            "flex_flow": null,
            "grid_area": null,
            "grid_auto_columns": null,
            "grid_auto_flow": null,
            "grid_auto_rows": null,
            "grid_column": null,
            "grid_gap": null,
            "grid_row": null,
            "grid_template_areas": null,
            "grid_template_columns": null,
            "grid_template_rows": null,
            "height": null,
            "justify_content": null,
            "justify_items": null,
            "left": null,
            "margin": null,
            "max_height": null,
            "max_width": null,
            "min_height": null,
            "min_width": null,
            "object_fit": null,
            "object_position": null,
            "order": null,
            "overflow": null,
            "overflow_x": null,
            "overflow_y": null,
            "padding": null,
            "right": null,
            "top": null,
            "visibility": null,
            "width": null
          }
        },
        "a0bcb69a00d44964b1800467746779fb": {
          "model_module": "@jupyter-widgets/base",
          "model_name": "LayoutModel",
          "model_module_version": "1.2.0",
          "state": {
            "_model_module": "@jupyter-widgets/base",
            "_model_module_version": "1.2.0",
            "_model_name": "LayoutModel",
            "_view_count": null,
            "_view_module": "@jupyter-widgets/base",
            "_view_module_version": "1.2.0",
            "_view_name": "LayoutView",
            "align_content": null,
            "align_items": null,
            "align_self": null,
            "border": null,
            "bottom": null,
            "display": null,
            "flex": null,
            "flex_flow": null,
            "grid_area": null,
            "grid_auto_columns": null,
            "grid_auto_flow": null,
            "grid_auto_rows": null,
            "grid_column": null,
            "grid_gap": null,
            "grid_row": null,
            "grid_template_areas": null,
            "grid_template_columns": null,
            "grid_template_rows": null,
            "height": null,
            "justify_content": null,
            "justify_items": null,
            "left": null,
            "margin": null,
            "max_height": null,
            "max_width": null,
            "min_height": null,
            "min_width": null,
            "object_fit": null,
            "object_position": null,
            "order": null,
            "overflow": null,
            "overflow_x": null,
            "overflow_y": null,
            "padding": null,
            "right": null,
            "top": null,
            "visibility": null,
            "width": null
          }
        },
        "396a59387df9459d8f2ce80d9845036b": {
          "model_module": "@jupyter-widgets/controls",
          "model_name": "DescriptionStyleModel",
          "model_module_version": "1.5.0",
          "state": {
            "_model_module": "@jupyter-widgets/controls",
            "_model_module_version": "1.5.0",
            "_model_name": "DescriptionStyleModel",
            "_view_count": null,
            "_view_module": "@jupyter-widgets/base",
            "_view_module_version": "1.2.0",
            "_view_name": "StyleView",
            "description_width": ""
          }
        },
        "a64f90773d4c4931ae3c241109a4d89e": {
          "model_module": "@jupyter-widgets/base",
          "model_name": "LayoutModel",
          "model_module_version": "1.2.0",
          "state": {
            "_model_module": "@jupyter-widgets/base",
            "_model_module_version": "1.2.0",
            "_model_name": "LayoutModel",
            "_view_count": null,
            "_view_module": "@jupyter-widgets/base",
            "_view_module_version": "1.2.0",
            "_view_name": "LayoutView",
            "align_content": null,
            "align_items": null,
            "align_self": null,
            "border": null,
            "bottom": null,
            "display": null,
            "flex": null,
            "flex_flow": null,
            "grid_area": null,
            "grid_auto_columns": null,
            "grid_auto_flow": null,
            "grid_auto_rows": null,
            "grid_column": null,
            "grid_gap": null,
            "grid_row": null,
            "grid_template_areas": null,
            "grid_template_columns": null,
            "grid_template_rows": null,
            "height": null,
            "justify_content": null,
            "justify_items": null,
            "left": null,
            "margin": null,
            "max_height": null,
            "max_width": null,
            "min_height": null,
            "min_width": null,
            "object_fit": null,
            "object_position": null,
            "order": null,
            "overflow": null,
            "overflow_x": null,
            "overflow_y": null,
            "padding": null,
            "right": null,
            "top": null,
            "visibility": null,
            "width": null
          }
        },
        "0656b5ec2cc144168ee953412506953b": {
          "model_module": "@jupyter-widgets/controls",
          "model_name": "ProgressStyleModel",
          "model_module_version": "1.5.0",
          "state": {
            "_model_module": "@jupyter-widgets/controls",
            "_model_module_version": "1.5.0",
            "_model_name": "ProgressStyleModel",
            "_view_count": null,
            "_view_module": "@jupyter-widgets/base",
            "_view_module_version": "1.2.0",
            "_view_name": "StyleView",
            "bar_color": null,
            "description_width": ""
          }
        },
        "19f56093e21642bb9acc56490584cfd5": {
          "model_module": "@jupyter-widgets/base",
          "model_name": "LayoutModel",
          "model_module_version": "1.2.0",
          "state": {
            "_model_module": "@jupyter-widgets/base",
            "_model_module_version": "1.2.0",
            "_model_name": "LayoutModel",
            "_view_count": null,
            "_view_module": "@jupyter-widgets/base",
            "_view_module_version": "1.2.0",
            "_view_name": "LayoutView",
            "align_content": null,
            "align_items": null,
            "align_self": null,
            "border": null,
            "bottom": null,
            "display": null,
            "flex": null,
            "flex_flow": null,
            "grid_area": null,
            "grid_auto_columns": null,
            "grid_auto_flow": null,
            "grid_auto_rows": null,
            "grid_column": null,
            "grid_gap": null,
            "grid_row": null,
            "grid_template_areas": null,
            "grid_template_columns": null,
            "grid_template_rows": null,
            "height": null,
            "justify_content": null,
            "justify_items": null,
            "left": null,
            "margin": null,
            "max_height": null,
            "max_width": null,
            "min_height": null,
            "min_width": null,
            "object_fit": null,
            "object_position": null,
            "order": null,
            "overflow": null,
            "overflow_x": null,
            "overflow_y": null,
            "padding": null,
            "right": null,
            "top": null,
            "visibility": null,
            "width": null
          }
        },
        "66aaaedb68a1457fa5ad23c8162af90a": {
          "model_module": "@jupyter-widgets/controls",
          "model_name": "DescriptionStyleModel",
          "model_module_version": "1.5.0",
          "state": {
            "_model_module": "@jupyter-widgets/controls",
            "_model_module_version": "1.5.0",
            "_model_name": "DescriptionStyleModel",
            "_view_count": null,
            "_view_module": "@jupyter-widgets/base",
            "_view_module_version": "1.2.0",
            "_view_name": "StyleView",
            "description_width": ""
          }
        },
        "054a3adf53f8431ab7833c1d8de24e32": {
          "model_module": "@jupyter-widgets/controls",
          "model_name": "HBoxModel",
          "model_module_version": "1.5.0",
          "state": {
            "_dom_classes": [],
            "_model_module": "@jupyter-widgets/controls",
            "_model_module_version": "1.5.0",
            "_model_name": "HBoxModel",
            "_view_count": null,
            "_view_module": "@jupyter-widgets/controls",
            "_view_module_version": "1.5.0",
            "_view_name": "HBoxView",
            "box_style": "",
            "children": [
              "IPY_MODEL_a8ea4486b3e54e73a9181540604377ba",
              "IPY_MODEL_e730efe3af29454eb8c3a7cdc65b8270",
              "IPY_MODEL_5d9ef3af23234979bcc1df2a2cd0d7b3"
            ],
            "layout": "IPY_MODEL_53c2bf6678bb467ea54bf93100f787e1"
          }
        },
        "a8ea4486b3e54e73a9181540604377ba": {
          "model_module": "@jupyter-widgets/controls",
          "model_name": "HTMLModel",
          "model_module_version": "1.5.0",
          "state": {
            "_dom_classes": [],
            "_model_module": "@jupyter-widgets/controls",
            "_model_module_version": "1.5.0",
            "_model_name": "HTMLModel",
            "_view_count": null,
            "_view_module": "@jupyter-widgets/controls",
            "_view_module_version": "1.5.0",
            "_view_name": "HTMLView",
            "description": "",
            "description_tooltip": null,
            "layout": "IPY_MODEL_43ba65f08d1b43dba71da2d578c6f69e",
            "placeholder": "​",
            "style": "IPY_MODEL_ec105440dce0435eb98ea6468a3e3c53",
            "value": "Downloading: 100%"
          }
        },
        "e730efe3af29454eb8c3a7cdc65b8270": {
          "model_module": "@jupyter-widgets/controls",
          "model_name": "FloatProgressModel",
          "model_module_version": "1.5.0",
          "state": {
            "_dom_classes": [],
            "_model_module": "@jupyter-widgets/controls",
            "_model_module_version": "1.5.0",
            "_model_name": "FloatProgressModel",
            "_view_count": null,
            "_view_module": "@jupyter-widgets/controls",
            "_view_module_version": "1.5.0",
            "_view_name": "ProgressView",
            "bar_style": "success",
            "description": "",
            "description_tooltip": null,
            "layout": "IPY_MODEL_061261ea634145c7ab3259f8f5da3059",
            "max": 791656,
            "min": 0,
            "orientation": "horizontal",
            "style": "IPY_MODEL_0a91ba6ce4bb45d1ad0248826252bb57",
            "value": 791656
          }
        },
        "5d9ef3af23234979bcc1df2a2cd0d7b3": {
          "model_module": "@jupyter-widgets/controls",
          "model_name": "HTMLModel",
          "model_module_version": "1.5.0",
          "state": {
            "_dom_classes": [],
            "_model_module": "@jupyter-widgets/controls",
            "_model_module_version": "1.5.0",
            "_model_name": "HTMLModel",
            "_view_count": null,
            "_view_module": "@jupyter-widgets/controls",
            "_view_module_version": "1.5.0",
            "_view_name": "HTMLView",
            "description": "",
            "description_tooltip": null,
            "layout": "IPY_MODEL_440aebcf0b5b4b2681c5098a41c0575e",
            "placeholder": "​",
            "style": "IPY_MODEL_b8d2faf3705147e98ef9af6e0708f17d",
            "value": " 792k/792k [00:00&lt;00:00, 1.67MB/s]"
          }
        },
        "53c2bf6678bb467ea54bf93100f787e1": {
          "model_module": "@jupyter-widgets/base",
          "model_name": "LayoutModel",
          "model_module_version": "1.2.0",
          "state": {
            "_model_module": "@jupyter-widgets/base",
            "_model_module_version": "1.2.0",
            "_model_name": "LayoutModel",
            "_view_count": null,
            "_view_module": "@jupyter-widgets/base",
            "_view_module_version": "1.2.0",
            "_view_name": "LayoutView",
            "align_content": null,
            "align_items": null,
            "align_self": null,
            "border": null,
            "bottom": null,
            "display": null,
            "flex": null,
            "flex_flow": null,
            "grid_area": null,
            "grid_auto_columns": null,
            "grid_auto_flow": null,
            "grid_auto_rows": null,
            "grid_column": null,
            "grid_gap": null,
            "grid_row": null,
            "grid_template_areas": null,
            "grid_template_columns": null,
            "grid_template_rows": null,
            "height": null,
            "justify_content": null,
            "justify_items": null,
            "left": null,
            "margin": null,
            "max_height": null,
            "max_width": null,
            "min_height": null,
            "min_width": null,
            "object_fit": null,
            "object_position": null,
            "order": null,
            "overflow": null,
            "overflow_x": null,
            "overflow_y": null,
            "padding": null,
            "right": null,
            "top": null,
            "visibility": null,
            "width": null
          }
        },
        "43ba65f08d1b43dba71da2d578c6f69e": {
          "model_module": "@jupyter-widgets/base",
          "model_name": "LayoutModel",
          "model_module_version": "1.2.0",
          "state": {
            "_model_module": "@jupyter-widgets/base",
            "_model_module_version": "1.2.0",
            "_model_name": "LayoutModel",
            "_view_count": null,
            "_view_module": "@jupyter-widgets/base",
            "_view_module_version": "1.2.0",
            "_view_name": "LayoutView",
            "align_content": null,
            "align_items": null,
            "align_self": null,
            "border": null,
            "bottom": null,
            "display": null,
            "flex": null,
            "flex_flow": null,
            "grid_area": null,
            "grid_auto_columns": null,
            "grid_auto_flow": null,
            "grid_auto_rows": null,
            "grid_column": null,
            "grid_gap": null,
            "grid_row": null,
            "grid_template_areas": null,
            "grid_template_columns": null,
            "grid_template_rows": null,
            "height": null,
            "justify_content": null,
            "justify_items": null,
            "left": null,
            "margin": null,
            "max_height": null,
            "max_width": null,
            "min_height": null,
            "min_width": null,
            "object_fit": null,
            "object_position": null,
            "order": null,
            "overflow": null,
            "overflow_x": null,
            "overflow_y": null,
            "padding": null,
            "right": null,
            "top": null,
            "visibility": null,
            "width": null
          }
        },
        "ec105440dce0435eb98ea6468a3e3c53": {
          "model_module": "@jupyter-widgets/controls",
          "model_name": "DescriptionStyleModel",
          "model_module_version": "1.5.0",
          "state": {
            "_model_module": "@jupyter-widgets/controls",
            "_model_module_version": "1.5.0",
            "_model_name": "DescriptionStyleModel",
            "_view_count": null,
            "_view_module": "@jupyter-widgets/base",
            "_view_module_version": "1.2.0",
            "_view_name": "StyleView",
            "description_width": ""
          }
        },
        "061261ea634145c7ab3259f8f5da3059": {
          "model_module": "@jupyter-widgets/base",
          "model_name": "LayoutModel",
          "model_module_version": "1.2.0",
          "state": {
            "_model_module": "@jupyter-widgets/base",
            "_model_module_version": "1.2.0",
            "_model_name": "LayoutModel",
            "_view_count": null,
            "_view_module": "@jupyter-widgets/base",
            "_view_module_version": "1.2.0",
            "_view_name": "LayoutView",
            "align_content": null,
            "align_items": null,
            "align_self": null,
            "border": null,
            "bottom": null,
            "display": null,
            "flex": null,
            "flex_flow": null,
            "grid_area": null,
            "grid_auto_columns": null,
            "grid_auto_flow": null,
            "grid_auto_rows": null,
            "grid_column": null,
            "grid_gap": null,
            "grid_row": null,
            "grid_template_areas": null,
            "grid_template_columns": null,
            "grid_template_rows": null,
            "height": null,
            "justify_content": null,
            "justify_items": null,
            "left": null,
            "margin": null,
            "max_height": null,
            "max_width": null,
            "min_height": null,
            "min_width": null,
            "object_fit": null,
            "object_position": null,
            "order": null,
            "overflow": null,
            "overflow_x": null,
            "overflow_y": null,
            "padding": null,
            "right": null,
            "top": null,
            "visibility": null,
            "width": null
          }
        },
        "0a91ba6ce4bb45d1ad0248826252bb57": {
          "model_module": "@jupyter-widgets/controls",
          "model_name": "ProgressStyleModel",
          "model_module_version": "1.5.0",
          "state": {
            "_model_module": "@jupyter-widgets/controls",
            "_model_module_version": "1.5.0",
            "_model_name": "ProgressStyleModel",
            "_view_count": null,
            "_view_module": "@jupyter-widgets/base",
            "_view_module_version": "1.2.0",
            "_view_name": "StyleView",
            "bar_color": null,
            "description_width": ""
          }
        },
        "440aebcf0b5b4b2681c5098a41c0575e": {
          "model_module": "@jupyter-widgets/base",
          "model_name": "LayoutModel",
          "model_module_version": "1.2.0",
          "state": {
            "_model_module": "@jupyter-widgets/base",
            "_model_module_version": "1.2.0",
            "_model_name": "LayoutModel",
            "_view_count": null,
            "_view_module": "@jupyter-widgets/base",
            "_view_module_version": "1.2.0",
            "_view_name": "LayoutView",
            "align_content": null,
            "align_items": null,
            "align_self": null,
            "border": null,
            "bottom": null,
            "display": null,
            "flex": null,
            "flex_flow": null,
            "grid_area": null,
            "grid_auto_columns": null,
            "grid_auto_flow": null,
            "grid_auto_rows": null,
            "grid_column": null,
            "grid_gap": null,
            "grid_row": null,
            "grid_template_areas": null,
            "grid_template_columns": null,
            "grid_template_rows": null,
            "height": null,
            "justify_content": null,
            "justify_items": null,
            "left": null,
            "margin": null,
            "max_height": null,
            "max_width": null,
            "min_height": null,
            "min_width": null,
            "object_fit": null,
            "object_position": null,
            "order": null,
            "overflow": null,
            "overflow_x": null,
            "overflow_y": null,
            "padding": null,
            "right": null,
            "top": null,
            "visibility": null,
            "width": null
          }
        },
        "b8d2faf3705147e98ef9af6e0708f17d": {
          "model_module": "@jupyter-widgets/controls",
          "model_name": "DescriptionStyleModel",
          "model_module_version": "1.5.0",
          "state": {
            "_model_module": "@jupyter-widgets/controls",
            "_model_module_version": "1.5.0",
            "_model_name": "DescriptionStyleModel",
            "_view_count": null,
            "_view_module": "@jupyter-widgets/base",
            "_view_module_version": "1.2.0",
            "_view_name": "StyleView",
            "description_width": ""
          }
        },
        "5427a997687143f8a11f217457d7b764": {
          "model_module": "@jupyter-widgets/controls",
          "model_name": "HBoxModel",
          "model_module_version": "1.5.0",
          "state": {
            "_dom_classes": [],
            "_model_module": "@jupyter-widgets/controls",
            "_model_module_version": "1.5.0",
            "_model_name": "HBoxModel",
            "_view_count": null,
            "_view_module": "@jupyter-widgets/controls",
            "_view_module_version": "1.5.0",
            "_view_name": "HBoxView",
            "box_style": "",
            "children": [
              "IPY_MODEL_d64f4eda1b01432ca22b8acfc5255afa",
              "IPY_MODEL_6db4a3929e8248b38d318ae2e36af9bd",
              "IPY_MODEL_5cc93eea14e54020a0255689b9e7698b"
            ],
            "layout": "IPY_MODEL_c17baefc8c074505abd1959299d54c3a"
          }
        },
        "d64f4eda1b01432ca22b8acfc5255afa": {
          "model_module": "@jupyter-widgets/controls",
          "model_name": "HTMLModel",
          "model_module_version": "1.5.0",
          "state": {
            "_dom_classes": [],
            "_model_module": "@jupyter-widgets/controls",
            "_model_module_version": "1.5.0",
            "_model_name": "HTMLModel",
            "_view_count": null,
            "_view_module": "@jupyter-widgets/controls",
            "_view_module_version": "1.5.0",
            "_view_name": "HTMLView",
            "description": "",
            "description_tooltip": null,
            "layout": "IPY_MODEL_25ee713d43de467e8d32e109ef6b4228",
            "placeholder": "​",
            "style": "IPY_MODEL_b6c23bb89a0943d78ac24c03dc024bac",
            "value": "Downloading: 100%"
          }
        },
        "6db4a3929e8248b38d318ae2e36af9bd": {
          "model_module": "@jupyter-widgets/controls",
          "model_name": "FloatProgressModel",
          "model_module_version": "1.5.0",
          "state": {
            "_dom_classes": [],
            "_model_module": "@jupyter-widgets/controls",
            "_model_module_version": "1.5.0",
            "_model_name": "FloatProgressModel",
            "_view_count": null,
            "_view_module": "@jupyter-widgets/controls",
            "_view_module_version": "1.5.0",
            "_view_name": "ProgressView",
            "bar_style": "success",
            "description": "",
            "description_tooltip": null,
            "layout": "IPY_MODEL_d035c95f3a684a0ca51af52cc68b61da",
            "max": 1786,
            "min": 0,
            "orientation": "horizontal",
            "style": "IPY_MODEL_b22a5b90f7ca4dae85597ba7d2fd34ff",
            "value": 1786
          }
        },
        "5cc93eea14e54020a0255689b9e7698b": {
          "model_module": "@jupyter-widgets/controls",
          "model_name": "HTMLModel",
          "model_module_version": "1.5.0",
          "state": {
            "_dom_classes": [],
            "_model_module": "@jupyter-widgets/controls",
            "_model_module_version": "1.5.0",
            "_model_name": "HTMLModel",
            "_view_count": null,
            "_view_module": "@jupyter-widgets/controls",
            "_view_module_version": "1.5.0",
            "_view_name": "HTMLView",
            "description": "",
            "description_tooltip": null,
            "layout": "IPY_MODEL_39a80a73674448eba636bb620a052bbe",
            "placeholder": "​",
            "style": "IPY_MODEL_8877099300d941c0b4f8869417fc67f1",
            "value": " 1.79k/1.79k [00:00&lt;00:00, 34.6kB/s]"
          }
        },
        "c17baefc8c074505abd1959299d54c3a": {
          "model_module": "@jupyter-widgets/base",
          "model_name": "LayoutModel",
          "model_module_version": "1.2.0",
          "state": {
            "_model_module": "@jupyter-widgets/base",
            "_model_module_version": "1.2.0",
            "_model_name": "LayoutModel",
            "_view_count": null,
            "_view_module": "@jupyter-widgets/base",
            "_view_module_version": "1.2.0",
            "_view_name": "LayoutView",
            "align_content": null,
            "align_items": null,
            "align_self": null,
            "border": null,
            "bottom": null,
            "display": null,
            "flex": null,
            "flex_flow": null,
            "grid_area": null,
            "grid_auto_columns": null,
            "grid_auto_flow": null,
            "grid_auto_rows": null,
            "grid_column": null,
            "grid_gap": null,
            "grid_row": null,
            "grid_template_areas": null,
            "grid_template_columns": null,
            "grid_template_rows": null,
            "height": null,
            "justify_content": null,
            "justify_items": null,
            "left": null,
            "margin": null,
            "max_height": null,
            "max_width": null,
            "min_height": null,
            "min_width": null,
            "object_fit": null,
            "object_position": null,
            "order": null,
            "overflow": null,
            "overflow_x": null,
            "overflow_y": null,
            "padding": null,
            "right": null,
            "top": null,
            "visibility": null,
            "width": null
          }
        },
        "25ee713d43de467e8d32e109ef6b4228": {
          "model_module": "@jupyter-widgets/base",
          "model_name": "LayoutModel",
          "model_module_version": "1.2.0",
          "state": {
            "_model_module": "@jupyter-widgets/base",
            "_model_module_version": "1.2.0",
            "_model_name": "LayoutModel",
            "_view_count": null,
            "_view_module": "@jupyter-widgets/base",
            "_view_module_version": "1.2.0",
            "_view_name": "LayoutView",
            "align_content": null,
            "align_items": null,
            "align_self": null,
            "border": null,
            "bottom": null,
            "display": null,
            "flex": null,
            "flex_flow": null,
            "grid_area": null,
            "grid_auto_columns": null,
            "grid_auto_flow": null,
            "grid_auto_rows": null,
            "grid_column": null,
            "grid_gap": null,
            "grid_row": null,
            "grid_template_areas": null,
            "grid_template_columns": null,
            "grid_template_rows": null,
            "height": null,
            "justify_content": null,
            "justify_items": null,
            "left": null,
            "margin": null,
            "max_height": null,
            "max_width": null,
            "min_height": null,
            "min_width": null,
            "object_fit": null,
            "object_position": null,
            "order": null,
            "overflow": null,
            "overflow_x": null,
            "overflow_y": null,
            "padding": null,
            "right": null,
            "top": null,
            "visibility": null,
            "width": null
          }
        },
        "b6c23bb89a0943d78ac24c03dc024bac": {
          "model_module": "@jupyter-widgets/controls",
          "model_name": "DescriptionStyleModel",
          "model_module_version": "1.5.0",
          "state": {
            "_model_module": "@jupyter-widgets/controls",
            "_model_module_version": "1.5.0",
            "_model_name": "DescriptionStyleModel",
            "_view_count": null,
            "_view_module": "@jupyter-widgets/base",
            "_view_module_version": "1.2.0",
            "_view_name": "StyleView",
            "description_width": ""
          }
        },
        "d035c95f3a684a0ca51af52cc68b61da": {
          "model_module": "@jupyter-widgets/base",
          "model_name": "LayoutModel",
          "model_module_version": "1.2.0",
          "state": {
            "_model_module": "@jupyter-widgets/base",
            "_model_module_version": "1.2.0",
            "_model_name": "LayoutModel",
            "_view_count": null,
            "_view_module": "@jupyter-widgets/base",
            "_view_module_version": "1.2.0",
            "_view_name": "LayoutView",
            "align_content": null,
            "align_items": null,
            "align_self": null,
            "border": null,
            "bottom": null,
            "display": null,
            "flex": null,
            "flex_flow": null,
            "grid_area": null,
            "grid_auto_columns": null,
            "grid_auto_flow": null,
            "grid_auto_rows": null,
            "grid_column": null,
            "grid_gap": null,
            "grid_row": null,
            "grid_template_areas": null,
            "grid_template_columns": null,
            "grid_template_rows": null,
            "height": null,
            "justify_content": null,
            "justify_items": null,
            "left": null,
            "margin": null,
            "max_height": null,
            "max_width": null,
            "min_height": null,
            "min_width": null,
            "object_fit": null,
            "object_position": null,
            "order": null,
            "overflow": null,
            "overflow_x": null,
            "overflow_y": null,
            "padding": null,
            "right": null,
            "top": null,
            "visibility": null,
            "width": null
          }
        },
        "b22a5b90f7ca4dae85597ba7d2fd34ff": {
          "model_module": "@jupyter-widgets/controls",
          "model_name": "ProgressStyleModel",
          "model_module_version": "1.5.0",
          "state": {
            "_model_module": "@jupyter-widgets/controls",
            "_model_module_version": "1.5.0",
            "_model_name": "ProgressStyleModel",
            "_view_count": null,
            "_view_module": "@jupyter-widgets/base",
            "_view_module_version": "1.2.0",
            "_view_name": "StyleView",
            "bar_color": null,
            "description_width": ""
          }
        },
        "39a80a73674448eba636bb620a052bbe": {
          "model_module": "@jupyter-widgets/base",
          "model_name": "LayoutModel",
          "model_module_version": "1.2.0",
          "state": {
            "_model_module": "@jupyter-widgets/base",
            "_model_module_version": "1.2.0",
            "_model_name": "LayoutModel",
            "_view_count": null,
            "_view_module": "@jupyter-widgets/base",
            "_view_module_version": "1.2.0",
            "_view_name": "LayoutView",
            "align_content": null,
            "align_items": null,
            "align_self": null,
            "border": null,
            "bottom": null,
            "display": null,
            "flex": null,
            "flex_flow": null,
            "grid_area": null,
            "grid_auto_columns": null,
            "grid_auto_flow": null,
            "grid_auto_rows": null,
            "grid_column": null,
            "grid_gap": null,
            "grid_row": null,
            "grid_template_areas": null,
            "grid_template_columns": null,
            "grid_template_rows": null,
            "height": null,
            "justify_content": null,
            "justify_items": null,
            "left": null,
            "margin": null,
            "max_height": null,
            "max_width": null,
            "min_height": null,
            "min_width": null,
            "object_fit": null,
            "object_position": null,
            "order": null,
            "overflow": null,
            "overflow_x": null,
            "overflow_y": null,
            "padding": null,
            "right": null,
            "top": null,
            "visibility": null,
            "width": null
          }
        },
        "8877099300d941c0b4f8869417fc67f1": {
          "model_module": "@jupyter-widgets/controls",
          "model_name": "DescriptionStyleModel",
          "model_module_version": "1.5.0",
          "state": {
            "_model_module": "@jupyter-widgets/controls",
            "_model_module_version": "1.5.0",
            "_model_name": "DescriptionStyleModel",
            "_view_count": null,
            "_view_module": "@jupyter-widgets/base",
            "_view_module_version": "1.2.0",
            "_view_name": "StyleView",
            "description_width": ""
          }
        },
        "8418e861d3654d4688d3dfec222c314d": {
          "model_module": "@jupyter-widgets/controls",
          "model_name": "HBoxModel",
          "model_module_version": "1.5.0",
          "state": {
            "_dom_classes": [],
            "_model_module": "@jupyter-widgets/controls",
            "_model_module_version": "1.5.0",
            "_model_name": "HBoxModel",
            "_view_count": null,
            "_view_module": "@jupyter-widgets/controls",
            "_view_module_version": "1.5.0",
            "_view_name": "HBoxView",
            "box_style": "",
            "children": [
              "IPY_MODEL_a0f905a475174997bebd21b358181007",
              "IPY_MODEL_10fe6421c6624f86945c15d302f5a72a",
              "IPY_MODEL_665f359bc1094323aea2c18f69086cdb"
            ],
            "layout": "IPY_MODEL_777838627fcf40c788767e15ff6b3540"
          }
        },
        "a0f905a475174997bebd21b358181007": {
          "model_module": "@jupyter-widgets/controls",
          "model_name": "HTMLModel",
          "model_module_version": "1.5.0",
          "state": {
            "_dom_classes": [],
            "_model_module": "@jupyter-widgets/controls",
            "_model_module_version": "1.5.0",
            "_model_name": "HTMLModel",
            "_view_count": null,
            "_view_module": "@jupyter-widgets/controls",
            "_view_module_version": "1.5.0",
            "_view_name": "HTMLView",
            "description": "",
            "description_tooltip": null,
            "layout": "IPY_MODEL_ae4c80dcb17d42fb8270a71b6a273d9f",
            "placeholder": "​",
            "style": "IPY_MODEL_bd6089c513d643a7b2adae0738c7255e",
            "value": "Downloading: 100%"
          }
        },
        "10fe6421c6624f86945c15d302f5a72a": {
          "model_module": "@jupyter-widgets/controls",
          "model_name": "FloatProgressModel",
          "model_module_version": "1.5.0",
          "state": {
            "_dom_classes": [],
            "_model_module": "@jupyter-widgets/controls",
            "_model_module_version": "1.5.0",
            "_model_name": "FloatProgressModel",
            "_view_count": null,
            "_view_module": "@jupyter-widgets/controls",
            "_view_module_version": "1.5.0",
            "_view_name": "ProgressView",
            "bar_style": "success",
            "description": "",
            "description_tooltip": null,
            "layout": "IPY_MODEL_bd513414e47e4ece9fdda100e214e4e3",
            "max": 25,
            "min": 0,
            "orientation": "horizontal",
            "style": "IPY_MODEL_21f6ecfa63ed43e2bb145fba56493042",
            "value": 25
          }
        },
        "665f359bc1094323aea2c18f69086cdb": {
          "model_module": "@jupyter-widgets/controls",
          "model_name": "HTMLModel",
          "model_module_version": "1.5.0",
          "state": {
            "_dom_classes": [],
            "_model_module": "@jupyter-widgets/controls",
            "_model_module_version": "1.5.0",
            "_model_name": "HTMLModel",
            "_view_count": null,
            "_view_module": "@jupyter-widgets/controls",
            "_view_module_version": "1.5.0",
            "_view_name": "HTMLView",
            "description": "",
            "description_tooltip": null,
            "layout": "IPY_MODEL_0170f38cfd2943929997b6c1a2a8c2f7",
            "placeholder": "​",
            "style": "IPY_MODEL_487520ee352d4579a8e1a359e1dd2518",
            "value": " 25.0/25.0 [00:00&lt;00:00, 559B/s]"
          }
        },
        "777838627fcf40c788767e15ff6b3540": {
          "model_module": "@jupyter-widgets/base",
          "model_name": "LayoutModel",
          "model_module_version": "1.2.0",
          "state": {
            "_model_module": "@jupyter-widgets/base",
            "_model_module_version": "1.2.0",
            "_model_name": "LayoutModel",
            "_view_count": null,
            "_view_module": "@jupyter-widgets/base",
            "_view_module_version": "1.2.0",
            "_view_name": "LayoutView",
            "align_content": null,
            "align_items": null,
            "align_self": null,
            "border": null,
            "bottom": null,
            "display": null,
            "flex": null,
            "flex_flow": null,
            "grid_area": null,
            "grid_auto_columns": null,
            "grid_auto_flow": null,
            "grid_auto_rows": null,
            "grid_column": null,
            "grid_gap": null,
            "grid_row": null,
            "grid_template_areas": null,
            "grid_template_columns": null,
            "grid_template_rows": null,
            "height": null,
            "justify_content": null,
            "justify_items": null,
            "left": null,
            "margin": null,
            "max_height": null,
            "max_width": null,
            "min_height": null,
            "min_width": null,
            "object_fit": null,
            "object_position": null,
            "order": null,
            "overflow": null,
            "overflow_x": null,
            "overflow_y": null,
            "padding": null,
            "right": null,
            "top": null,
            "visibility": null,
            "width": null
          }
        },
        "ae4c80dcb17d42fb8270a71b6a273d9f": {
          "model_module": "@jupyter-widgets/base",
          "model_name": "LayoutModel",
          "model_module_version": "1.2.0",
          "state": {
            "_model_module": "@jupyter-widgets/base",
            "_model_module_version": "1.2.0",
            "_model_name": "LayoutModel",
            "_view_count": null,
            "_view_module": "@jupyter-widgets/base",
            "_view_module_version": "1.2.0",
            "_view_name": "LayoutView",
            "align_content": null,
            "align_items": null,
            "align_self": null,
            "border": null,
            "bottom": null,
            "display": null,
            "flex": null,
            "flex_flow": null,
            "grid_area": null,
            "grid_auto_columns": null,
            "grid_auto_flow": null,
            "grid_auto_rows": null,
            "grid_column": null,
            "grid_gap": null,
            "grid_row": null,
            "grid_template_areas": null,
            "grid_template_columns": null,
            "grid_template_rows": null,
            "height": null,
            "justify_content": null,
            "justify_items": null,
            "left": null,
            "margin": null,
            "max_height": null,
            "max_width": null,
            "min_height": null,
            "min_width": null,
            "object_fit": null,
            "object_position": null,
            "order": null,
            "overflow": null,
            "overflow_x": null,
            "overflow_y": null,
            "padding": null,
            "right": null,
            "top": null,
            "visibility": null,
            "width": null
          }
        },
        "bd6089c513d643a7b2adae0738c7255e": {
          "model_module": "@jupyter-widgets/controls",
          "model_name": "DescriptionStyleModel",
          "model_module_version": "1.5.0",
          "state": {
            "_model_module": "@jupyter-widgets/controls",
            "_model_module_version": "1.5.0",
            "_model_name": "DescriptionStyleModel",
            "_view_count": null,
            "_view_module": "@jupyter-widgets/base",
            "_view_module_version": "1.2.0",
            "_view_name": "StyleView",
            "description_width": ""
          }
        },
        "bd513414e47e4ece9fdda100e214e4e3": {
          "model_module": "@jupyter-widgets/base",
          "model_name": "LayoutModel",
          "model_module_version": "1.2.0",
          "state": {
            "_model_module": "@jupyter-widgets/base",
            "_model_module_version": "1.2.0",
            "_model_name": "LayoutModel",
            "_view_count": null,
            "_view_module": "@jupyter-widgets/base",
            "_view_module_version": "1.2.0",
            "_view_name": "LayoutView",
            "align_content": null,
            "align_items": null,
            "align_self": null,
            "border": null,
            "bottom": null,
            "display": null,
            "flex": null,
            "flex_flow": null,
            "grid_area": null,
            "grid_auto_columns": null,
            "grid_auto_flow": null,
            "grid_auto_rows": null,
            "grid_column": null,
            "grid_gap": null,
            "grid_row": null,
            "grid_template_areas": null,
            "grid_template_columns": null,
            "grid_template_rows": null,
            "height": null,
            "justify_content": null,
            "justify_items": null,
            "left": null,
            "margin": null,
            "max_height": null,
            "max_width": null,
            "min_height": null,
            "min_width": null,
            "object_fit": null,
            "object_position": null,
            "order": null,
            "overflow": null,
            "overflow_x": null,
            "overflow_y": null,
            "padding": null,
            "right": null,
            "top": null,
            "visibility": null,
            "width": null
          }
        },
        "21f6ecfa63ed43e2bb145fba56493042": {
          "model_module": "@jupyter-widgets/controls",
          "model_name": "ProgressStyleModel",
          "model_module_version": "1.5.0",
          "state": {
            "_model_module": "@jupyter-widgets/controls",
            "_model_module_version": "1.5.0",
            "_model_name": "ProgressStyleModel",
            "_view_count": null,
            "_view_module": "@jupyter-widgets/base",
            "_view_module_version": "1.2.0",
            "_view_name": "StyleView",
            "bar_color": null,
            "description_width": ""
          }
        },
        "0170f38cfd2943929997b6c1a2a8c2f7": {
          "model_module": "@jupyter-widgets/base",
          "model_name": "LayoutModel",
          "model_module_version": "1.2.0",
          "state": {
            "_model_module": "@jupyter-widgets/base",
            "_model_module_version": "1.2.0",
            "_model_name": "LayoutModel",
            "_view_count": null,
            "_view_module": "@jupyter-widgets/base",
            "_view_module_version": "1.2.0",
            "_view_name": "LayoutView",
            "align_content": null,
            "align_items": null,
            "align_self": null,
            "border": null,
            "bottom": null,
            "display": null,
            "flex": null,
            "flex_flow": null,
            "grid_area": null,
            "grid_auto_columns": null,
            "grid_auto_flow": null,
            "grid_auto_rows": null,
            "grid_column": null,
            "grid_gap": null,
            "grid_row": null,
            "grid_template_areas": null,
            "grid_template_columns": null,
            "grid_template_rows": null,
            "height": null,
            "justify_content": null,
            "justify_items": null,
            "left": null,
            "margin": null,
            "max_height": null,
            "max_width": null,
            "min_height": null,
            "min_width": null,
            "object_fit": null,
            "object_position": null,
            "order": null,
            "overflow": null,
            "overflow_x": null,
            "overflow_y": null,
            "padding": null,
            "right": null,
            "top": null,
            "visibility": null,
            "width": null
          }
        },
        "487520ee352d4579a8e1a359e1dd2518": {
          "model_module": "@jupyter-widgets/controls",
          "model_name": "DescriptionStyleModel",
          "model_module_version": "1.5.0",
          "state": {
            "_model_module": "@jupyter-widgets/controls",
            "_model_module_version": "1.5.0",
            "_model_name": "DescriptionStyleModel",
            "_view_count": null,
            "_view_module": "@jupyter-widgets/base",
            "_view_module_version": "1.2.0",
            "_view_name": "StyleView",
            "description_width": ""
          }
        },
        "51ade7ff86b84141adebf8043aea9230": {
          "model_module": "@jupyter-widgets/controls",
          "model_name": "HBoxModel",
          "model_module_version": "1.5.0",
          "state": {
            "_dom_classes": [],
            "_model_module": "@jupyter-widgets/controls",
            "_model_module_version": "1.5.0",
            "_model_name": "HBoxModel",
            "_view_count": null,
            "_view_module": "@jupyter-widgets/controls",
            "_view_module_version": "1.5.0",
            "_view_name": "HBoxView",
            "box_style": "",
            "children": [
              "IPY_MODEL_eb40fa6578fd4453a2cc9dd885306704",
              "IPY_MODEL_d850303179fa4c7cb92a6148abe07435",
              "IPY_MODEL_6a72d09a746841c2ad95aca2f96c734b"
            ],
            "layout": "IPY_MODEL_fb6150781c7f48c9a8c3270fac339925"
          }
        },
        "eb40fa6578fd4453a2cc9dd885306704": {
          "model_module": "@jupyter-widgets/controls",
          "model_name": "HTMLModel",
          "model_module_version": "1.5.0",
          "state": {
            "_dom_classes": [],
            "_model_module": "@jupyter-widgets/controls",
            "_model_module_version": "1.5.0",
            "_model_name": "HTMLModel",
            "_view_count": null,
            "_view_module": "@jupyter-widgets/controls",
            "_view_module_version": "1.5.0",
            "_view_name": "HTMLView",
            "description": "",
            "description_tooltip": null,
            "layout": "IPY_MODEL_8455e0e272f44090a071a46d315d14b2",
            "placeholder": "​",
            "style": "IPY_MODEL_73a7b0169e6c474c8cd12f3d1e48e265",
            "value": "Downloading: 100%"
          }
        },
        "d850303179fa4c7cb92a6148abe07435": {
          "model_module": "@jupyter-widgets/controls",
          "model_name": "FloatProgressModel",
          "model_module_version": "1.5.0",
          "state": {
            "_dom_classes": [],
            "_model_module": "@jupyter-widgets/controls",
            "_model_module_version": "1.5.0",
            "_model_name": "FloatProgressModel",
            "_view_count": null,
            "_view_module": "@jupyter-widgets/controls",
            "_view_module_version": "1.5.0",
            "_view_name": "ProgressView",
            "bar_style": "success",
            "description": "",
            "description_tooltip": null,
            "layout": "IPY_MODEL_87d975ef81d542d1bc188d3a68359c63",
            "max": 1187795641,
            "min": 0,
            "orientation": "horizontal",
            "style": "IPY_MODEL_ae4430d2c1ff4fecae74f5e6cfb81bca",
            "value": 1187795641
          }
        },
        "6a72d09a746841c2ad95aca2f96c734b": {
          "model_module": "@jupyter-widgets/controls",
          "model_name": "HTMLModel",
          "model_module_version": "1.5.0",
          "state": {
            "_dom_classes": [],
            "_model_module": "@jupyter-widgets/controls",
            "_model_module_version": "1.5.0",
            "_model_name": "HTMLModel",
            "_view_count": null,
            "_view_module": "@jupyter-widgets/controls",
            "_view_module_version": "1.5.0",
            "_view_name": "HTMLView",
            "description": "",
            "description_tooltip": null,
            "layout": "IPY_MODEL_d5ca7c98b21e41d190aef32d07bcb9fd",
            "placeholder": "​",
            "style": "IPY_MODEL_6d93cc9d13a14aa7ba7bb45581b1f478",
            "value": " 1.19G/1.19G [00:51&lt;00:00, 24.9MB/s]"
          }
        },
        "fb6150781c7f48c9a8c3270fac339925": {
          "model_module": "@jupyter-widgets/base",
          "model_name": "LayoutModel",
          "model_module_version": "1.2.0",
          "state": {
            "_model_module": "@jupyter-widgets/base",
            "_model_module_version": "1.2.0",
            "_model_name": "LayoutModel",
            "_view_count": null,
            "_view_module": "@jupyter-widgets/base",
            "_view_module_version": "1.2.0",
            "_view_name": "LayoutView",
            "align_content": null,
            "align_items": null,
            "align_self": null,
            "border": null,
            "bottom": null,
            "display": null,
            "flex": null,
            "flex_flow": null,
            "grid_area": null,
            "grid_auto_columns": null,
            "grid_auto_flow": null,
            "grid_auto_rows": null,
            "grid_column": null,
            "grid_gap": null,
            "grid_row": null,
            "grid_template_areas": null,
            "grid_template_columns": null,
            "grid_template_rows": null,
            "height": null,
            "justify_content": null,
            "justify_items": null,
            "left": null,
            "margin": null,
            "max_height": null,
            "max_width": null,
            "min_height": null,
            "min_width": null,
            "object_fit": null,
            "object_position": null,
            "order": null,
            "overflow": null,
            "overflow_x": null,
            "overflow_y": null,
            "padding": null,
            "right": null,
            "top": null,
            "visibility": null,
            "width": null
          }
        },
        "8455e0e272f44090a071a46d315d14b2": {
          "model_module": "@jupyter-widgets/base",
          "model_name": "LayoutModel",
          "model_module_version": "1.2.0",
          "state": {
            "_model_module": "@jupyter-widgets/base",
            "_model_module_version": "1.2.0",
            "_model_name": "LayoutModel",
            "_view_count": null,
            "_view_module": "@jupyter-widgets/base",
            "_view_module_version": "1.2.0",
            "_view_name": "LayoutView",
            "align_content": null,
            "align_items": null,
            "align_self": null,
            "border": null,
            "bottom": null,
            "display": null,
            "flex": null,
            "flex_flow": null,
            "grid_area": null,
            "grid_auto_columns": null,
            "grid_auto_flow": null,
            "grid_auto_rows": null,
            "grid_column": null,
            "grid_gap": null,
            "grid_row": null,
            "grid_template_areas": null,
            "grid_template_columns": null,
            "grid_template_rows": null,
            "height": null,
            "justify_content": null,
            "justify_items": null,
            "left": null,
            "margin": null,
            "max_height": null,
            "max_width": null,
            "min_height": null,
            "min_width": null,
            "object_fit": null,
            "object_position": null,
            "order": null,
            "overflow": null,
            "overflow_x": null,
            "overflow_y": null,
            "padding": null,
            "right": null,
            "top": null,
            "visibility": null,
            "width": null
          }
        },
        "73a7b0169e6c474c8cd12f3d1e48e265": {
          "model_module": "@jupyter-widgets/controls",
          "model_name": "DescriptionStyleModel",
          "model_module_version": "1.5.0",
          "state": {
            "_model_module": "@jupyter-widgets/controls",
            "_model_module_version": "1.5.0",
            "_model_name": "DescriptionStyleModel",
            "_view_count": null,
            "_view_module": "@jupyter-widgets/base",
            "_view_module_version": "1.2.0",
            "_view_name": "StyleView",
            "description_width": ""
          }
        },
        "87d975ef81d542d1bc188d3a68359c63": {
          "model_module": "@jupyter-widgets/base",
          "model_name": "LayoutModel",
          "model_module_version": "1.2.0",
          "state": {
            "_model_module": "@jupyter-widgets/base",
            "_model_module_version": "1.2.0",
            "_model_name": "LayoutModel",
            "_view_count": null,
            "_view_module": "@jupyter-widgets/base",
            "_view_module_version": "1.2.0",
            "_view_name": "LayoutView",
            "align_content": null,
            "align_items": null,
            "align_self": null,
            "border": null,
            "bottom": null,
            "display": null,
            "flex": null,
            "flex_flow": null,
            "grid_area": null,
            "grid_auto_columns": null,
            "grid_auto_flow": null,
            "grid_auto_rows": null,
            "grid_column": null,
            "grid_gap": null,
            "grid_row": null,
            "grid_template_areas": null,
            "grid_template_columns": null,
            "grid_template_rows": null,
            "height": null,
            "justify_content": null,
            "justify_items": null,
            "left": null,
            "margin": null,
            "max_height": null,
            "max_width": null,
            "min_height": null,
            "min_width": null,
            "object_fit": null,
            "object_position": null,
            "order": null,
            "overflow": null,
            "overflow_x": null,
            "overflow_y": null,
            "padding": null,
            "right": null,
            "top": null,
            "visibility": null,
            "width": null
          }
        },
        "ae4430d2c1ff4fecae74f5e6cfb81bca": {
          "model_module": "@jupyter-widgets/controls",
          "model_name": "ProgressStyleModel",
          "model_module_version": "1.5.0",
          "state": {
            "_model_module": "@jupyter-widgets/controls",
            "_model_module_version": "1.5.0",
            "_model_name": "ProgressStyleModel",
            "_view_count": null,
            "_view_module": "@jupyter-widgets/base",
            "_view_module_version": "1.2.0",
            "_view_name": "StyleView",
            "bar_color": null,
            "description_width": ""
          }
        },
        "d5ca7c98b21e41d190aef32d07bcb9fd": {
          "model_module": "@jupyter-widgets/base",
          "model_name": "LayoutModel",
          "model_module_version": "1.2.0",
          "state": {
            "_model_module": "@jupyter-widgets/base",
            "_model_module_version": "1.2.0",
            "_model_name": "LayoutModel",
            "_view_count": null,
            "_view_module": "@jupyter-widgets/base",
            "_view_module_version": "1.2.0",
            "_view_name": "LayoutView",
            "align_content": null,
            "align_items": null,
            "align_self": null,
            "border": null,
            "bottom": null,
            "display": null,
            "flex": null,
            "flex_flow": null,
            "grid_area": null,
            "grid_auto_columns": null,
            "grid_auto_flow": null,
            "grid_auto_rows": null,
            "grid_column": null,
            "grid_gap": null,
            "grid_row": null,
            "grid_template_areas": null,
            "grid_template_columns": null,
            "grid_template_rows": null,
            "height": null,
            "justify_content": null,
            "justify_items": null,
            "left": null,
            "margin": null,
            "max_height": null,
            "max_width": null,
            "min_height": null,
            "min_width": null,
            "object_fit": null,
            "object_position": null,
            "order": null,
            "overflow": null,
            "overflow_x": null,
            "overflow_y": null,
            "padding": null,
            "right": null,
            "top": null,
            "visibility": null,
            "width": null
          }
        },
        "6d93cc9d13a14aa7ba7bb45581b1f478": {
          "model_module": "@jupyter-widgets/controls",
          "model_name": "DescriptionStyleModel",
          "model_module_version": "1.5.0",
          "state": {
            "_model_module": "@jupyter-widgets/controls",
            "_model_module_version": "1.5.0",
            "_model_name": "DescriptionStyleModel",
            "_view_count": null,
            "_view_module": "@jupyter-widgets/base",
            "_view_module_version": "1.2.0",
            "_view_name": "StyleView",
            "description_width": ""
          }
        }
      }
    }
  },
  "cells": [
    {
      "cell_type": "markdown",
      "source": [
        "## **Installs**"
      ],
      "metadata": {
        "id": "fQfe54gHnyY2"
      }
    },
    {
      "cell_type": "code",
      "execution_count": 1,
      "metadata": {
        "colab": {
          "base_uri": "https://localhost:8080/"
        },
        "id": "2XUqoITinkj7",
        "outputId": "995cabf3-17f9-43d2-95f9-0d88d70af5a6"
      },
      "outputs": [
        {
          "output_type": "stream",
          "name": "stdout",
          "text": [
            "Looking in indexes: https://pypi.org/simple, https://us-python.pkg.dev/colab-wheels/public/simple/\n",
            "Collecting Wikipedia-API\n",
            "  Downloading Wikipedia-API-0.5.4.tar.gz (18 kB)\n",
            "Requirement already satisfied: requests in /usr/local/lib/python3.7/dist-packages (from Wikipedia-API) (2.23.0)\n",
            "Requirement already satisfied: chardet<4,>=3.0.2 in /usr/local/lib/python3.7/dist-packages (from requests->Wikipedia-API) (3.0.4)\n",
            "Requirement already satisfied: idna<3,>=2.5 in /usr/local/lib/python3.7/dist-packages (from requests->Wikipedia-API) (2.10)\n",
            "Requirement already satisfied: urllib3!=1.25.0,!=1.25.1,<1.26,>=1.21.1 in /usr/local/lib/python3.7/dist-packages (from requests->Wikipedia-API) (1.24.3)\n",
            "Requirement already satisfied: certifi>=2017.4.17 in /usr/local/lib/python3.7/dist-packages (from requests->Wikipedia-API) (2022.6.15)\n",
            "Building wheels for collected packages: Wikipedia-API\n",
            "  Building wheel for Wikipedia-API (setup.py) ... \u001b[?25l\u001b[?25hdone\n",
            "  Created wheel for Wikipedia-API: filename=Wikipedia_API-0.5.4-py3-none-any.whl size=13477 sha256=c90e024599038b7316c72d4ac66a4ac86a268e0d11dfebaf0b7b8ac43a109b72\n",
            "  Stored in directory: /root/.cache/pip/wheels/d3/24/56/58ba93cf78be162451144e7a9889603f437976ef1ae7013d04\n",
            "Successfully built Wikipedia-API\n",
            "Installing collected packages: Wikipedia-API\n",
            "Successfully installed Wikipedia-API-0.5.4\n",
            "Looking in indexes: https://pypi.org/simple, https://us-python.pkg.dev/colab-wheels/public/simple/\n",
            "Collecting contractions\n",
            "  Downloading contractions-0.1.72-py2.py3-none-any.whl (8.3 kB)\n",
            "Collecting textsearch>=0.0.21\n",
            "  Downloading textsearch-0.0.24-py2.py3-none-any.whl (7.6 kB)\n",
            "Collecting pyahocorasick\n",
            "  Downloading pyahocorasick-1.4.4-cp37-cp37m-manylinux_2_17_x86_64.manylinux2014_x86_64.whl (106 kB)\n",
            "\u001b[K     |████████████████████████████████| 106 kB 5.4 MB/s \n",
            "\u001b[?25hCollecting anyascii\n",
            "  Downloading anyascii-0.3.1-py3-none-any.whl (287 kB)\n",
            "\u001b[K     |████████████████████████████████| 287 kB 39.0 MB/s \n",
            "\u001b[?25hInstalling collected packages: pyahocorasick, anyascii, textsearch, contractions\n",
            "Successfully installed anyascii-0.3.1 contractions-0.1.72 pyahocorasick-1.4.4 textsearch-0.0.24\n",
            "/bin/bash: {sys.executable}: command not found\n"
          ]
        },
        {
          "output_type": "stream",
          "name": "stderr",
          "text": [
            "[nltk_data] Downloading package stopwords to /root/nltk_data...\n",
            "[nltk_data]   Unzipping corpora/stopwords.zip.\n"
          ]
        },
        {
          "output_type": "execute_result",
          "data": {
            "text/plain": [
              "True"
            ]
          },
          "metadata": {},
          "execution_count": 1
        }
      ],
      "source": [
        "!pip install Wikipedia-API\n",
        "!pip install contractions\n",
        "!{sys.executable} -m pip install contractions\n",
        "import nltk\n",
        "nltk.download('stopwords')"
      ]
    },
    {
      "cell_type": "markdown",
      "source": [
        "## **Imports**"
      ],
      "metadata": {
        "id": "psFVldS_28Iu"
      }
    },
    {
      "cell_type": "code",
      "source": [
        "import wikipediaapi\n",
        "import sys  \n",
        "import nltk\n",
        "import string\n",
        "string.punctuation\n",
        "import contractions\n",
        "import re"
      ],
      "metadata": {
        "id": "h4MWvcXXn55h"
      },
      "execution_count": 2,
      "outputs": []
    },
    {
      "cell_type": "markdown",
      "source": [
        "Download Data"
      ],
      "metadata": {
        "id": "BRFQPhOZ2-QN"
      }
    },
    {
      "cell_type": "code",
      "source": [
        "# with open('/content/Skill_BOK (1).txt',encoding='utf-16') as f:\n",
        "#     contents = f.read()\n",
        "#     print(contents)"
      ],
      "metadata": {
        "id": "30SfpSrWoHi-"
      },
      "execution_count": 3,
      "outputs": []
    },
    {
      "cell_type": "code",
      "source": [],
      "metadata": {
        "id": "gb58EfL34uIa"
      },
      "execution_count": 3,
      "outputs": []
    },
    {
      "cell_type": "markdown",
      "source": [
        "##**Fn CLEAN DATA** "
      ],
      "metadata": {
        "id": "yKDbOeZb3DgL"
      }
    },
    {
      "cell_type": "code",
      "source": [
        "def Clean_Data(contents):\n",
        "  #removing emails\n",
        "  contents = ' '.join([i for i in contents.split() if '@' not in i])\n",
        "  #contraction\n",
        "  expanded_words = []   \n",
        "  for word in contents.split():\n",
        "      expanded_words.append(contractions.fix(word))  \n",
        "    \n",
        "  contents = ' '.join(expanded_words)\n",
        "  #removing numbers\n",
        "  pattern = r'[0-9]'\n",
        "  # Match all digits in the string and replace them with an empty string\n",
        "  contents = re.sub(pattern, ' ', contents)\n",
        "  #lower case\n",
        "  contents = contents.lower()\n",
        "  #removing unwanted punctuations\n",
        "  punctuations = \"!$%&()*-/:;<=>?@[\\]^_{|}~\"\n",
        "  def remove_punctuation(text):\n",
        "      punctuationfree=\"\".join([i for i in text if i not in punctuations])\n",
        "      return punctuationfree\n",
        "  contents = remove_punctuation(contents)\n",
        "  #removing duplicates\n",
        "  pattern1 = '\\.+'\n",
        "  pattern2 = '\\,+'\n",
        "  pattern3 = '\\s+'\n",
        "  \n",
        "  phrase = re.sub(pattern1, \".\", contents)\n",
        "  contents = re.sub(pattern2, \",\", phrase)\n",
        "  contents = re.sub(pattern3, \" \", contents)\n",
        "  \n",
        "  return contents"
      ],
      "metadata": {
        "id": "t62rMJCFoZYl"
      },
      "execution_count": 4,
      "outputs": []
    },
    {
      "cell_type": "markdown",
      "source": [
        "##**Download Data For Testing**"
      ],
      "metadata": {
        "id": "_b3y8Iqh3XFt"
      }
    },
    {
      "cell_type": "code",
      "source": [
        "wiki_wiki = wikipediaapi.Wikipedia(\n",
        "        language='en',\n",
        "        extract_format=wikipediaapi.ExtractFormat.WIKI\n",
        ")\n",
        "\n",
        "p_wiki = wiki_wiki.page(\"programming language\")\n",
        "print(p_wiki.text)\n"
      ],
      "metadata": {
        "colab": {
          "base_uri": "https://localhost:8080/"
        },
        "id": "-8OWG7Ka3WIC",
        "outputId": "49927f99-6ac6-4ee4-9b2f-80f3725d8826"
      },
      "execution_count": 5,
      "outputs": [
        {
          "output_type": "stream",
          "name": "stdout",
          "text": [
            "A programming language is a system of notation for writing computer programs. Most programming languages are text-based formal languages, but they may be also be graphical. They are a kind of computer language.\n",
            "The description of a programming language is usually split into the two components of syntax (form) and semantics (meaning), which are usually defined by a formal language. Some languages are defined by a specification document (for example, the C programming language is specified by an ISO Standard) while other languages (such as Perl) have a dominant implementation that is treated as a reference. Some languages have both, with the basic language defined by a standard and extensions taken from the dominant implementation being common. \n",
            "Programming language theory is a subfield of computer science that deals with the design, implementation, analysis, characterization, and classification of programming languages.\n",
            "\n",
            "Definitions\n",
            "There are many considerations when defining what constitutes a programming language.\n",
            "\n",
            "Computer languages vs programming languages\n",
            "The term computer language is sometimes used interchangeably with programming language. However, the usage of both terms varies among authors, including the exact scope of each. One usage describes programming languages as a subset of computer languages. Similarly, languages used in computing that have a different goal than expressing computer programs are generically designated computer languages. For instance, markup languages are sometimes referred to as computer languages to emphasize that they are not meant to be used for programming.\n",
            "One way of classifying computer languages is by the computations they are capable of expressing, as described by the theory of computation. The majority of practical programming languages are Turing complete, and all Turing complete languages can implement the same set of algorithms. ANSI/ISO SQL-92 and Charity are examples of languages that are not Turing complete, yet are often called programming languages. However, some authors restrict the term \"programming language\" to Turing complete languages.Another usage regards programming languages as theoretical constructs for programming abstract machines, and computer languages as the subset thereof that runs on physical computers, which have finite hardware resources. John C. Reynolds emphasizes that formal specification languages are just as much programming languages as are the languages intended for execution. He also argues that textual and even graphical input formats that affect the behavior of a computer are programming languages, despite the fact they are commonly not Turing-complete, and remarks that ignorance of programming language concepts is the reason for many flaws in input formats.\n",
            "\n",
            "Domain and target\n",
            "In most practical contexts, a programming language involves a computer; consequently, programming languages are usually defined and studied this way. Programming languages differ from natural languages in that natural languages are only used for interaction between people, while programming languages also allow humans to communicate instructions to machines.\n",
            "The domain of the language is also worth consideration. Markup languages like XML, HTML, or troff, which define structured data, are not usually considered programming languages. Programming languages may, however, share the syntax with markup languages if a computational semantics is defined. XSLT, for example, is a Turing complete language entirely using XML syntax. Moreover, LaTeX, which is mostly used for structuring documents, also contains a Turing complete subset.\n",
            "\n",
            "Abstractions\n",
            "Programming languages usually contain abstractions for defining and manipulating data structures or controlling the flow of execution. The practical necessity that a programming language support adequate abstractions is expressed by the abstraction principle. This principle is sometimes formulated as a recommendation to the programmer to make proper use of such abstractions.\n",
            "\n",
            "History\n",
            "Early developments\n",
            "Very early computers, such as Colossus, were programmed without the help of a stored program, by modifying their circuitry or setting banks of physical controls.\n",
            "Slightly later, programs could be written in machine language, where the programmer writes each instruction in a numeric form the hardware can execute directly. For example, the instruction to add the value in two memory locations might consist of 3 numbers: an \"opcode\" that selects the \"add\" operation, and two memory locations. The programs, in decimal or binary form, were read in from punched cards, paper tape, magnetic tape or toggled in on switches on the front panel of the computer.  Machine languages were later termed first-generation programming languages (1GL).\n",
            "The next step was the development of the so-called second-generation programming languages (2GL) or assembly languages, which were still closely tied to the instruction set architecture of the specific computer. These served to make the program much more human-readable and relieved the programmer of tedious and error-prone address calculations.\n",
            "The first high-level programming languages, or third-generation programming languages (3GL), were written in the 1950s. An early high-level programming language to be designed for a computer was Plankalkül, developed for the German Z3 by Konrad Zuse between 1943 and 1945. However, it was not implemented until 1998 and 2000.John Mauchly's Short Code, proposed in 1949, was one of the first high-level languages ever developed for an electronic computer. Unlike machine code, Short Code statements represented mathematical expressions in understandable form. However, the program had to be translated into machine code every time it ran, making the process much slower than running the equivalent machine code.\n",
            "At the University of Manchester, Alick Glennie developed Autocode in the early 1950s. As a programming language, it used a compiler to automatically convert the language into machine code. The first code and compiler was developed in 1952 for the Mark 1 computer at the University of Manchester and is considered to be the first compiled high-level programming language.The second autocode was developed for the Mark 1 by R. A. Brooker in 1954 and was called the \"Mark 1 Autocode\". Brooker also developed an autocode for the Ferranti Mercury in the 1950s in conjunction with the University of Manchester. The version for the EDSAC 2 was devised by D. F. Hartley of University of Cambridge Mathematical Laboratory in 1961. Known as EDSAC 2 Autocode, it was a straight development from Mercury Autocode adapted for local circumstances and was noted for its object code optimisation and source-language diagnostics which were advanced for the time. A contemporary but separate thread of development, Atlas Autocode was developed for the University of Manchester Atlas 1 machine.\n",
            "In 1954, FORTRAN was invented at IBM by John Backus. It was the first widely used high-level general purpose programming language to have a functional implementation, as opposed to just a design on paper. It is still a popular language for high-performance computing and is used for programs that benchmark and rank the world's fastest supercomputers.Another early programming language was devised by Grace Hopper in the US, called FLOW-MATIC. It was developed for the UNIVAC I at Remington Rand during the period from 1955 until 1959. Hopper found that business data processing customers were uncomfortable with mathematical notation, and in early 1955, she and her team wrote a specification for an English programming language and implemented a prototype. The FLOW-MATIC compiler became publicly available in early 1958 and was substantially complete in 1959. FLOW-MATIC was a major influence in the design of COBOL, since only it and its direct descendant AIMACO were in actual use at the time.\n",
            "\n",
            "Refinement\n",
            "The increased use of high-level languages introduced a requirement for low-level programming languages or system programming languages. These languages, to varying degrees, provide facilities between assembly languages and high-level languages. They can be used to perform tasks that require direct access to hardware facilities but still provide higher-level control structures and error-checking.\n",
            "The period from the 1960s to the late 1970s brought the development of the major language paradigms now in use:\n",
            "\n",
            "APL introduced array programming and influenced functional programming.\n",
            "ALGOL refined both structured procedural programming and the discipline of language specification; the \"Revised Report on the Algorithmic Language ALGOL 60\" became a model for how later language specifications were written.\n",
            "Lisp, implemented in 1958, was the first dynamically typed functional programming language.\n",
            "In the 1960s, Simula was the first language designed to support object-oriented programming; in the mid-1970s, Smalltalk followed with the first \"purely\" object-oriented language.\n",
            "C was developed between 1969 and 1973 as a system programming language for the Unix operating system and remains popular.\n",
            "Prolog, designed in 1972, was the first logic programming language.\n",
            "In 1978, ML built a polymorphic type system on top of Lisp, pioneering statically typed functional programming languages.Each of these languages spawned descendants, and most modern programming languages count at least one of them in their ancestry.\n",
            "The 1960s and 1970s also saw considerable debate over the merits of structured programming, and whether programming languages should be designed to support it. Edsger Dijkstra, in a famous 1968 letter published in the Communications of the ACM, argued that Goto statements should be eliminated from all \"higher level\" programming languages.\n",
            "\n",
            "Consolidation and growth\n",
            "The 1980s were years of relative consolidation. C++ combined object-oriented and systems programming. The United States government standardized Ada, a systems programming language derived from Pascal and intended for use by defense contractors. In Japan and elsewhere, vast sums were spent investigating the so-called \"fifth-generation\" languages that incorporated logic programming constructs. The functional languages community moved to standardize ML and Lisp. Rather than inventing new paradigms, all of these movements elaborated upon the ideas invented in the previous decades.\n",
            "One important trend in language design for programming large-scale systems during the 1980s was an increased focus on the use of modules or large-scale organizational units of code. Modula-2, Ada, and ML all developed notable module systems in the 1980s, which were often wedded to generic programming constructs.The rapid growth of the Internet in the mid-1990s created opportunities for new languages. Perl, originally a Unix scripting tool first released in 1987, became common in dynamic websites. Java came to be used for server-side programming, and bytecode virtual machines became popular again in commercial settings with their promise of \"Write once, run anywhere\" (UCSD Pascal had been popular for a time in the early 1980s). These developments were not fundamentally novel; rather, they were refinements of many existing languages and paradigms (although their syntax was often based on the C family of programming languages).\n",
            "Programming language evolution continues, in both industry and research. Current directions include security and reliability verification, new kinds of modularity (mixins, delegates, aspects), and database integration such as Microsoft's LINQ.\n",
            "Fourth-generation programming languages (4GL) are computer programming languages that aim to provide a higher level of abstraction of the internal computer hardware details than 3GLs. Fifth-generation programming languages (5GL) are programming languages based on solving problems using constraints given to the program, rather than using an algorithm written by a programmer.\n",
            "\n",
            "Elements\n",
            "All programming languages have some primitive building blocks for the description of data and the processes or transformations applied to them (like the addition of two numbers or the selection of an item from a collection). These primitives are defined by syntactic and semantic rules which describe their structure and meaning respectively.\n",
            "\n",
            "Syntax\n",
            "A programming language's surface form is known as its syntax. Most programming languages are purely textual; they use sequences of text including words, numbers, and punctuation, much like written natural languages. On the other hand, there are some programming languages which are more graphical in nature, using visual relationships between symbols to specify a program.\n",
            "The syntax of a language describes the possible combinations of symbols that form a syntactically correct program. The meaning given to a combination of symbols is handled by semantics (either formal or hard-coded in a reference implementation). Since most languages are textual, this article discusses textual syntax.\n",
            "Programming language syntax is usually defined using a combination of regular expressions (for lexical structure) and Backus–Naur form (for grammatical structure). Below is a simple grammar, based on Lisp:\n",
            "\n",
            "This grammar specifies the following:\n",
            "\n",
            "an expression is either an atom or a list;\n",
            "an atom is either a number or a symbol;\n",
            "a number is an unbroken sequence of one or more decimal digits, optionally preceded by a plus or minus sign;\n",
            "a symbol is a letter followed by zero or more of any characters (excluding whitespace); and\n",
            "a list is a matched pair of parentheses, with zero or more expressions inside it.The following are examples of well-formed token sequences in this grammar: 12345, () and (a b c232 (1)).\n",
            "Not all syntactically correct programs are semantically correct. Many syntactically correct programs are nonetheless ill-formed, per the language's rules; and may (depending on the language specification and the soundness of the implementation) result in an error on translation or execution. In some cases, such programs may exhibit undefined behavior. Even when a program is well-defined within a language, it may still have a meaning that is not intended by the person who wrote it.\n",
            "Using natural language as an example, it may not be possible to assign a meaning to a grammatically correct sentence or the sentence may be false:\n",
            "\n",
            "\"Colorless green ideas sleep furiously.\" is grammatically well-formed but has no generally accepted meaning.\n",
            "\"John is a married bachelor.\" is grammatically well-formed but expresses a meaning that cannot be true.The following C language fragment is syntactically correct, but performs operations that are not semantically defined (the operation *p >> 4 has no meaning for a value having a complex type and p->im is not defined because the value of p is the null pointer):\n",
            "\n",
            "If the type declaration on the first line were omitted, the program would trigger an error on undefined variable p during compilation. However, the program would still be syntactically correct since type declarations provide only semantic information.\n",
            "The grammar needed to specify a programming language can be classified by its position in the Chomsky hierarchy. The syntax of most programming languages can be specified using a Type-2 grammar, i.e., they are context-free grammars. Some languages, including Perl and Lisp, contain constructs that allow execution during the parsing phase. Languages that have constructs that allow the programmer to alter the behavior of the parser make syntax analysis an undecidable problem, and generally blur the distinction between parsing and execution. In contrast to Lisp's macro system and Perl's BEGIN blocks, which may contain general computations, C macros are merely string replacements and do not require code execution.\n",
            "\n",
            "Semantics\n",
            "The term semantics refers to the meaning of languages, as opposed to their form (syntax).\n",
            "\n",
            "Static semantics\n",
            "The static semantics defines restrictions on the structure of valid texts that are hard or impossible to express in standard syntactic formalisms. For compiled languages, static semantics essentially include those semantic rules that can be checked at compile time. Examples include checking that every identifier is declared before it is used (in languages that require such declarations) or that the labels on the arms of a case statement are distinct. Many important restrictions of this type, like checking that identifiers are used in the appropriate context (e.g. not adding an integer to a function name), or that subroutine calls have the appropriate number and type of arguments, can be enforced by defining them as rules in a logic called a type system. Other forms of static analyses like data flow analysis may also be part of static semantics. Newer programming languages like Java and C# have definite assignment analysis, a form of data flow analysis, as part of their static semantics.\n",
            "\n",
            "Dynamic semantics\n",
            "Once data has been specified, the machine must be instructed to perform operations on the data. For example, the semantics may define the strategy by which expressions are evaluated to values, or the manner in which control structures conditionally execute statements. The dynamic semantics (also known as execution semantics) of a language defines how and when the various constructs of a language should produce a program behavior. There are many ways of defining execution semantics. Natural language is often used to specify the execution semantics of languages commonly used in practice. A significant amount of academic research went into formal semantics of programming languages, which allow execution semantics to be specified in a formal manner. Results from this field of research have seen limited application to programming language design and implementation outside academia.\n",
            "\n",
            "Type system\n",
            "A type system defines how a programming language classifies values and expressions into types, how it can manipulate those types and how they interact. The goal of a type system is to verify and usually enforce a certain level of correctness in programs written in that language by detecting certain incorrect operations. Any decidable type system involves a trade-off: while it rejects many incorrect programs, it can also prohibit some correct, albeit unusual programs. In order to bypass this downside, a number of languages have type loopholes, usually unchecked casts that may be used by the programmer to explicitly allow a normally disallowed operation between different types. In most typed languages, the type system is used only to type check programs, but a number of languages, usually functional ones, infer types, relieving the programmer from the need to write type annotations. The formal design and study of type systems is known as type theory.\n",
            "\n",
            "Typed versus untyped languages\n",
            "A language is typed if the specification of every operation defines types of data to which the operation is applicable. For example, the data represented by \"this text between the quotes\" is a string, and in many programming languages dividing a number by a string has no meaning and will not be executed. The invalid operation may be detected when the program is compiled (\"static\" type checking) and will be rejected by the compiler with a compilation error message, or it may be detected while the program is running (\"dynamic\" type checking), resulting in a run-time exception. Many languages allow a function called an exception handler to handle this exception and, for example, always return \"-1\" as the result.\n",
            "A special case of typed languages are the single-typed languages. These are often scripting or markup languages, such as REXX or SGML, and have only one data type–—most commonly character strings which are used for both symbolic and numeric data.\n",
            "In contrast, an untyped language, such as most assembly languages, allows any operation to be performed on any data, generally sequences of bits of various lengths. High-level untyped languages include BCPL, Tcl, and some varieties of Forth.\n",
            "In practice, while few languages are considered typed from the type theory (verifying or rejecting all operations), most modern languages offer a degree of typing. Many production languages provide means to bypass or subvert the type system, trading type-safety for finer control over the program's execution (see casting).\n",
            "\n",
            "Static vis-à-vis dynamic typing\n",
            "In static typing, all expressions have their types determined prior to when the program is executed, typically at compile-time. For example, 1 and (2+2) are integer expressions; they cannot be passed to a function that expects a string, or stored in a variable that is defined to hold dates.Statically typed languages can be either manifestly typed or type-inferred. In the first case, the programmer must explicitly write types at certain textual positions (for example, at variable declarations). In the second case, the compiler infers the types of expressions and declarations based on context. Most mainstream statically typed languages, such as C++, C# and Java, are manifestly typed. Complete type inference has traditionally been associated with less mainstream languages, such as Haskell and ML. However, many manifestly typed languages support partial type inference; for example, C++, Java and C# all infer types in certain limited cases. Additionally, some programming languages allow for some types to be automatically converted to other types; for example, an int can be used where the program expects a float.\n",
            "Dynamic typing, also called latent typing, determines the type-safety of operations at run time; in other words, types are associated with run-time values rather than textual expressions. As with type-inferred languages, dynamically typed languages do not require the programmer to write explicit type annotations on expressions. Among other things, this may permit a single variable to refer to values of different types at different points in the program execution. However, type errors cannot be automatically detected until a piece of code is actually executed, potentially making debugging more difficult. Lisp, Smalltalk, Perl, Python, JavaScript, and Ruby are all examples of dynamically typed languages.\n",
            "\n",
            "Weak and strong typing\n",
            "Weak typing allows a value of one type to be treated as another, for example treating a string as a number. This can occasionally be useful, but it can also allow some kinds of program faults to go undetected at compile time and even at run time.\n",
            "Strong typing prevents these program faults. An attempt to perform an operation on the wrong type of value raises an error. Strongly typed languages are often termed type-safe or safe.\n",
            "An alternative definition for \"weakly typed\" refers to languages, such as Perl and JavaScript, which permit a large number of implicit type conversions. In JavaScript, for example, the expression 2 * x implicitly converts x to a number, and this conversion succeeds even if x is null, undefined, an Array, or a string of letters. Such implicit conversions are often useful, but they can mask programming errors.\n",
            "Strong and static are now generally considered orthogonal concepts, but usage in the literature differs. Some use the term strongly typed to mean strongly, statically typed, or, even more confusingly, to mean simply statically typed. Thus C has been called both strongly typed and weakly, statically typed.It may seem odd to some professional programmers that C could be \"weakly, statically typed\". However, notice that the use of the generic pointer, the void* pointer, does allow for casting of pointers to other pointers without needing to do an explicit cast. This is extremely similar to somehow casting an array of bytes to any kind of datatype in C without using an explicit cast, such as (int) or (char).\n",
            "\n",
            "Standard library and run-time system\n",
            "Most programming languages have an associated core library (sometimes known as the 'standard library', especially if it is included as part of the published language standard), which is conventionally made available by all implementations of the language. Core libraries typically include definitions for commonly used algorithms, data structures, and mechanisms for input and output.\n",
            "The line between a language and its core library differs from language to language. In some cases, the language designers may treat the library as a separate entity from the language. However, a language's core library is often treated as part of the language by its users, and some language specifications even require that this library be made available in all implementations. Indeed, some languages are designed so that the meanings of certain syntactic constructs cannot even be described without referring to the core library. For example, in Java, a string literal is defined as an instance of the java.lang.String class; similarly, in Smalltalk, an anonymous function expression (a \"block\") constructs an instance of the library's BlockContext class. Conversely, Scheme contains multiple coherent subsets that suffice to construct the rest of the language as library macros, and so the language designers do not even bother to say which portions of the language must be implemented as language constructs, and which must be implemented as parts of a library.\n",
            "\n",
            "Design and implementation\n",
            "Programming languages share properties with natural languages related to their purpose as vehicles for communication, having a syntactic form separate from its semantics, and showing language families of related languages branching one from another. But as artificial constructs, they also differ in fundamental ways from languages that have evolved through usage. A significant difference is that a programming language can be fully described and studied in its entirety since it has a precise and finite definition. By contrast, natural languages have changing meanings given by their users in different communities. While constructed languages are also artificial languages designed from the ground up with a specific purpose, they lack the precise and complete semantic definition that a programming language has.\n",
            "Many programming languages have been designed from scratch, altered to meet new needs, and combined with other languages. Many have eventually fallen into disuse. Although there have been attempts to design one \"universal\" programming language that serves all purposes, all of them have failed to be generally accepted as filling this role. The need for diverse programming languages arises from the diversity of contexts in which languages are used:\n",
            "\n",
            "Programs range from tiny scripts written by individual hobbyists to huge systems written by hundreds of programmers.\n",
            "Programmers range in expertise from novices who need simplicity above all else to experts who may be comfortable with considerable complexity.\n",
            "Programs must balance speed, size, and simplicity on systems ranging from microcontrollers to supercomputers.\n",
            "Programs may be written once and not change for generations, or they may undergo continual modification.\n",
            "Programmers may simply differ in their tastes: they may be accustomed to discussing problems and expressing them in a particular language.One common trend in the development of programming languages has been to add more ability to solve problems using a higher level of abstraction. The earliest programming languages were tied very closely to the underlying hardware of the computer. As new programming languages have developed, features have been added that let programmers express ideas that are more remote from simple translation into underlying hardware instructions. Because programmers are less tied to the complexity of the computer, their programs can do more computing with less effort from the programmer. This lets them write more functionality per time unit.\n",
            "Natural language programming has been proposed as a way to eliminate the need for a specialized language for programming. However, this goal remains distant and its benefits are open to debate. Edsger W. Dijkstra took the position that the use of a formal language is essential to prevent the introduction of meaningless constructs, and dismissed natural language programming as \"foolish\". Alan Perlis was similarly dismissive of the idea. Hybrid approaches have been taken in Structured English and SQL.\n",
            "A language's designers and users must construct a number of artifacts that govern and enable the practice of programming. The most important of these artifacts are the language specification and implementation.\n",
            "\n",
            "Specification\n",
            "The specification of a programming language is an artifact that the language users and the implementors can use to agree upon whether a piece of source code is a valid program in that language, and if so what its behavior shall be.\n",
            "A programming language specification can take several forms, including the following:\n",
            "\n",
            "An explicit definition of the syntax, static semantics, and execution semantics of the language. While syntax is commonly specified using a formal grammar, semantic definitions may be written in natural language (e.g., as in the C language), or a formal semantics (e.g., as in Standard ML and Scheme specifications).\n",
            "A description of the behavior of a translator for the language (e.g., the C++ and Fortran specifications). The syntax and semantics of the language have to be inferred from this description, which may be written in natural or a formal language.\n",
            "A reference or model implementation, sometimes written in the language being specified (e.g., Prolog or ANSI REXX). The syntax and semantics of the language are explicit in the behavior of the reference implementation.\n",
            "\n",
            "Implementation\n",
            "An implementation of a programming language provides a way to write programs in that language and execute them on one or more configurations of hardware and software. There are, broadly, two approaches to programming language implementation: compilation and interpretation. It is generally possible to implement a language using either technique.\n",
            "The output of a compiler may be executed by hardware or a program called an interpreter. In some implementations that make use of the interpreter approach there is no distinct boundary between compiling and interpreting. For instance, some implementations of BASIC compile and then execute the source a line at a time.\n",
            "Programs that are executed directly on the hardware usually run much faster than those that are interpreted in software.One technique for improving the performance of interpreted programs is just-in-time compilation. Here the virtual machine, just before execution, translates the blocks of bytecode which are going to be used to machine code, for direct execution on the hardware.\n",
            "\n",
            "Proprietary languages\n",
            "Although most of the most commonly used programming languages have fully open specifications and implementations, many programming languages exist only as proprietary programming languages with the implementation available only from a single vendor, which may claim that such a proprietary language is their intellectual property. Proprietary programming languages are commonly domain specific languages or internal scripting languages for a single product; some proprietary languages are used only internally within a vendor, while others are available to external users.\n",
            "Some programming languages exist on the border between proprietary and open; for example, Oracle Corporation asserts proprietary rights to some aspects of the Java programming language, and Microsoft's C# programming language, which has open implementations of most parts of the system, also has Common Language Runtime (CLR) as a closed environment.Many proprietary languages are widely used, in spite of their proprietary nature; examples include MATLAB, VBScript, and Wolfram Language.  Some languages may make the transition from closed to open; for example, Erlang was originally an Ericsson's internal programming language.\n",
            "\n",
            "Use\n",
            "Thousands of different programming languages have been created, mainly in the computing field.\n",
            "Individual software projects commonly use five programming languages or more.Programming languages differ from most other forms of human expression in that they require a greater degree of precision and completeness. When using a natural language to communicate with other people, human authors and speakers can be ambiguous and make small errors, and still expect their intent to be understood. However, figuratively speaking, computers \"do exactly what they are told to do\", and cannot \"understand\" what code the programmer intended to write. The combination of the language definition, a program, and the program's inputs must fully specify the external behavior that occurs when the program is executed, within the domain of control of that program. On the other hand, ideas about an algorithm can be communicated to humans without the precision required for execution by using pseudocode, which interleaves natural language with code written in a programming language.\n",
            "A programming language provides a structured mechanism for defining pieces of data, and the operations or transformations that may be carried out automatically on that data. A programmer uses the abstractions present in the language to represent the concepts involved in a computation. These concepts are represented as a collection of the simplest elements available (called primitives). Programming is the process by which programmers combine these primitives to compose new programs, or adapt existing ones to new uses or a changing environment.\n",
            "Programs for a computer might be executed in a batch process without human interaction, or a user might type commands in an interactive session of an interpreter. In this case the \"commands\" are simply programs, whose execution is chained together. When a language can run its commands through an interpreter (such as a Unix shell or other command-line interface), without compiling, it is called a scripting language.\n",
            "\n",
            "Measuring language usage\n",
            "Determining which is the most widely used programming language is difficult since the definition of usage varies by context. One language may occupy the greater number of programmer hours, a different one has more lines of code, and a third may consume the most CPU time. Some languages are very popular for particular kinds of applications. For example, COBOL is still strong in the corporate data center, often on large mainframes; Fortran in scientific and engineering applications; Ada in aerospace, transportation, military, real-time and embedded applications; and C in embedded applications and operating systems. Other languages are regularly used to write many different kinds of applications.\n",
            "Various methods of measuring language popularity, each subject to a different bias over what is measured, have been proposed:\n",
            "\n",
            "counting the number of job advertisements that mention the language\n",
            "the number of books sold that teach or describe the language\n",
            "estimates of the number of existing lines of code written in the language –  which may underestimate languages not often found in public searches\n",
            "counts of language references (i.e., to the name of the language) found using a web search engine.Combining and averaging information from various internet sites, stackify.com reported the ten most popular programming languages as (in descending order by overall popularity): Java, C, C++, Python, C#, JavaScript, VB .NET, R, PHP, and MATLAB.\n",
            "\n",
            "Dialects, flavors and implementations\n",
            "A dialect of a programming language or a data exchange language is a (relatively small) variation or extension of the language that does not change its intrinsic nature. With languages such as Scheme and Forth, standards may be considered insufficient, inadequate or illegitimate by implementors, so often they will deviate from the standard, making a new dialect. In other cases, a dialect is created for use in a domain-specific language, often a subset. In the Lisp world, most languages that use basic S-expression syntax and Lisp-like semantics are considered Lisp dialects, although they vary wildly, as do, say, Racket and Clojure. As it is common for one language to have several dialects, it can become quite difficult for an inexperienced programmer to find the right documentation. The BASIC programming language has many dialects.\n",
            "\n",
            "Taxonomies\n",
            "There is no overarching classification scheme for programming languages. A given programming language does not usually have a single ancestor language. Languages commonly arise by combining the elements of several predecessor languages with new ideas in circulation at the time. Ideas that originate in one language will diffuse throughout a family of related languages, and then leap suddenly across familial gaps to appear in an entirely different family.\n",
            "The task is further complicated by the fact that languages can be classified along multiple axes. For example, Java is both an object-oriented language (because it encourages object-oriented organization) and a concurrent language (because it contains built-in constructs for running multiple threads in parallel). Python is an object-oriented scripting language.\n",
            "In broad strokes, programming languages divide into programming paradigms and a classification by intended domain of use, with general-purpose programming languages distinguished from domain-specific programming languages. Traditionally, programming languages have been regarded as describing computation in terms of imperative sentences, i.e. issuing commands. These are generally called imperative programming languages. A great deal of research in programming languages has been aimed at blurring the distinction between a program as a set of instructions and a program as an assertion about the desired answer, which is the main feature of declarative programming. More refined paradigms include procedural programming, object-oriented programming, functional programming, and logic programming; some languages are hybrids of paradigms or multi-paradigmatic. An assembly language is not so much a paradigm as a direct model of an underlying machine architecture. By purpose, programming languages might be considered general purpose, system programming languages, scripting languages, domain-specific languages, or concurrent/distributed languages (or a combination of these). Some general purpose languages were designed largely with educational goals.A programming language may also be classified by factors unrelated to programming paradigm. For instance, most programming languages use English language keywords, while a minority do not. Other languages may be classified as being deliberately esoteric or not.\n",
            "\n",
            "See also\n",
            "References\n",
            "Further reading\n",
            "\n",
            "\n",
            "== External links ==\n"
          ]
        }
      ]
    },
    {
      "cell_type": "code",
      "source": [
        "Data = Clean_Data(contents = p_wiki.text)"
      ],
      "metadata": {
        "id": "5t9Cypbv3xzc"
      },
      "execution_count": 6,
      "outputs": []
    },
    {
      "cell_type": "code",
      "source": [
        "Data"
      ],
      "metadata": {
        "colab": {
          "base_uri": "https://localhost:8080/",
          "height": 0
        },
        "id": "DzTD5pdLd8ZN",
        "outputId": "8c6a4a74-8360-4845-8dcd-f1be677a38d6"
      },
      "execution_count": 7,
      "outputs": [
        {
          "output_type": "execute_result",
          "data": {
            "text/plain": [
              "'a programming language is a system of notation for writing computer programs. most programming languages are textbased formal languages, but they may be also be graphical. they are a kind of computer language. the description of a programming language is usually split into the two components of syntax form and semantics meaning, which are usually defined by a formal language. some languages are defined by a specification document for example, the c programming language is specified by an iso standard while other languages such as perl have a dominant implementation that is treated as a reference. some languages have both, with the basic language defined by a standard and extensions taken from the dominant implementation being common. programming language theory is a subfield of computer science that deals with the design, implementation, analysis, characterization, and classification of programming languages. definitions there are many considerations when defining what constitutes a programming language. computer languages vs programming languages the term computer language is sometimes used interchangeably with programming language. however, the usage of both terms varies among authors, including the exact scope of each. one usage describes programming languages as a subset of computer languages. similarly, languages used in computing that have a different goal than expressing computer programs are generically designated computer languages. for instance, markup languages are sometimes referred to as computer languages to emphasize that they are not meant to be used for programming. one way of classifying computer languages is by the computations they are capable of expressing, as described by the theory of computation. the majority of practical programming languages are turing complete, and all turing complete languages can implement the same set of algorithms. ansiiso sql and charity are examples of languages that are not turing complete, yet are often called programming languages. however, some authors restrict the term \"programming language\" to turing complete languages.another usage regards programming languages as theoretical constructs for programming abstract machines, and computer languages as the subset thereof that runs on physical computers, which have finite hardware resources. john c. reynolds emphasizes that formal specification languages are just as much programming languages as are the languages intended for execution. he also argues that textual and even graphical input formats that affect the behavior of a computer are programming languages, despite the fact they are commonly not turingcomplete, and remarks that ignorance of programming language concepts is the reason for many flaws in input formats. domain and target in most practical contexts, a programming language involves a computer consequently, programming languages are usually defined and studied this way. programming languages differ from natural languages in that natural languages are only used for interaction between people, while programming languages also allow humans to communicate instructions to machines. the domain of the language is also worth consideration. markup languages like xml, html, or troff, which define structured data, are not usually considered programming languages. programming languages may, however, share the syntax with markup languages if a computational semantics is defined. xslt, for example, is a turing complete language entirely using xml syntax. moreover, latex, which is mostly used for structuring documents, also contains a turing complete subset. abstractions programming languages usually contain abstractions for defining and manipulating data structures or controlling the flow of execution. the practical necessity that a programming language support adequate abstractions is expressed by the abstraction principle. this principle is sometimes formulated as a recommendation to the programmer to make proper use of such abstractions. history early developments very early computers, such as colossus, were programmed without the help of a stored program, by modifying their circuitry or setting banks of physical controls. slightly later, programs could be written in machine language, where the programmer writes each instruction in a numeric form the hardware can execute directly. for example, the instruction to add the value in two memory locations might consist of numbers an \"opcode\" that selects the \"add\" operation, and two memory locations. the programs, in decimal or binary form, were read in from punched cards, paper tape, magnetic tape or toggled in on switches on the front panel of the computer. machine languages were later termed firstgeneration programming languages gl. the next step was the development of the socalled secondgeneration programming languages gl or assembly languages, which were still closely tied to the instruction set architecture of the specific computer. these served to make the program much more humanreadable and relieved the programmer of tedious and errorprone address calculations. the first highlevel programming languages, or thirdgeneration programming languages gl, were written in the s. an early highlevel programming language to be designed for a computer was plankalkül, developed for the german z by konrad zuse between and . however, it was not implemented until and .john mauchly\\'s short code, proposed in , was one of the first highlevel languages ever developed for an electronic computer. unlike machine code, short code statements represented mathematical expressions in understandable form. however, the program had to be translated into machine code every time it ran, making the process much slower than running the equivalent machine code. at the university of manchester, alick glennie developed autocode in the early s. as a programming language, it used a compiler to automatically convert the language into machine code. the first code and compiler was developed in for the mark computer at the university of manchester and is considered to be the first compiled highlevel programming language.the second autocode was developed for the mark by r. a. brooker in and was called the \"mark autocode\". brooker also developed an autocode for the ferranti mercury in the s in conjunction with the university of manchester. the version for the edsac was devised by d. f. hartley of university of cambridge mathematical laboratory in . known as edsac autocode, it was a straight development from mercury autocode adapted for local circumstances and was noted for its object code optimisation and sourcelanguage diagnostics which were advanced for the time. a contemporary but separate thread of development, atlas autocode was developed for the university of manchester atlas machine. in , fortran was invented at ibm by john backus. it was the first widely used highlevel general purpose programming language to have a functional implementation, as opposed to just a design on paper. it is still a popular language for highperformance computing and is used for programs that benchmark and rank the world\\'s fastest supercomputers.another early programming language was devised by grace hopper in the us, called flowmatic. it was developed for the univac i at remington rand during the period from until . hopper found that business data processing customers were uncomfortable with mathematical notation, and in early , she and her team wrote a specification for an english programming language and implemented a prototype. the flowmatic compiler became publicly available in early and was substantially complete in . flowmatic was a major influence in the design of cobol, since only it and its direct descendant aimaco were in actual use at the time. refinement the increased use of highlevel languages introduced a requirement for lowlevel programming languages or system programming languages. these languages, to varying degrees, provide facilities between assembly languages and highlevel languages. they can be used to perform tasks that require direct access to hardware facilities but still provide higherlevel control structures and errorchecking. the period from the s to the late s brought the development of the major language paradigms now in use apl introduced array programming and influenced functional programming. algol refined both structured procedural programming and the discipline of language specification the \"revised report on the algorithmic language algol \" became a model for how later language specifications were written. lisp, implemented in , was the first dynamically typed functional programming language. in the s, simula was the first language designed to support objectoriented programming in the mid s, smalltalk followed with the first \"purely\" objectoriented language. c was developed between and as a system programming language for the unix operating system and remains popular. prolog, designed in , was the first logic programming language. in , ml built a polymorphic type system on top of lisp, pioneering statically typed functional programming languages.each of these languages spawned descendants, and most modern programming languages count at least one of them in their ancestry. the s and s also saw considerable debate over the merits of structured programming, and whether programming languages should be designed to support it. edsger dijkstra, in a famous letter published in the communications of the acm, argued that goto statements should be eliminated from all \"higher level\" programming languages. consolidation and growth the s were years of relative consolidation. c++ combined objectoriented and systems programming. the united states government standardized ada, a systems programming language derived from pascal and intended for use by defense contractors. in japan and elsewhere, vast sums were spent investigating the socalled \"fifthgeneration\" languages that incorporated logic programming constructs. the functional languages community moved to standardize ml and lisp. rather than inventing new paradigms, all of these movements elaborated upon the ideas invented in the previous decades. one important trend in language design for programming largescale systems during the s was an increased focus on the use of modules or largescale organizational units of code. modula , ada, and ml all developed notable module systems in the s, which were often wedded to generic programming constructs.the rapid growth of the internet in the mid s created opportunities for new languages. perl, originally a unix scripting tool first released in , became common in dynamic websites. java came to be used for serverside programming, and bytecode virtual machines became popular again in commercial settings with their promise of \"write once, run anywhere\" ucsd pascal had been popular for a time in the early s. these developments were not fundamentally novel rather, they were refinements of many existing languages and paradigms although their syntax was often based on the c family of programming languages. programming language evolution continues, in both industry and research. current directions include security and reliability verification, new kinds of modularity mixins, delegates, aspects, and database integration such as microsoft\\'s linq. fourthgeneration programming languages gl are computer programming languages that aim to provide a higher level of abstraction of the internal computer hardware details than gls. fifthgeneration programming languages gl are programming languages based on solving problems using constraints given to the program, rather than using an algorithm written by a programmer. elements all programming languages have some primitive building blocks for the description of data and the processes or transformations applied to them like the addition of two numbers or the selection of an item from a collection. these primitives are defined by syntactic and semantic rules which describe their structure and meaning respectively. syntax a programming language\\'s surface form is known as its syntax. most programming languages are purely textual they use sequences of text including words, numbers, and punctuation, much like written natural languages. on the other hand, there are some programming languages which are more graphical in nature, using visual relationships between symbols to specify a program. the syntax of a language describes the possible combinations of symbols that form a syntactically correct program. the meaning given to a combination of symbols is handled by semantics either formal or hardcoded in a reference implementation. since most languages are textual, this article discusses textual syntax. programming language syntax is usually defined using a combination of regular expressions for lexical structure and backus–naur form for grammatical structure. below is a simple grammar, based on lisp this grammar specifies the following an expression is either an atom or a list an atom is either a number or a symbol a number is an unbroken sequence of one or more decimal digits, optionally preceded by a plus or minus sign a symbol is a letter followed by zero or more of any characters excluding whitespace and a list is a matched pair of parentheses, with zero or more expressions inside it.the following are examples of wellformed token sequences in this grammar , and a b c . not all syntactically correct programs are semantically correct. many syntactically correct programs are nonetheless illformed, per the language\\'s rules and may depending on the language specification and the soundness of the implementation result in an error on translation or execution. in some cases, such programs may exhibit undefined behavior. even when a program is welldefined within a language, it may still have a meaning that is not intended by the person who wrote it. using natural language as an example, it may not be possible to assign a meaning to a grammatically correct sentence or the sentence may be false \"colorless green ideas sleep furiously.\" is grammatically wellformed but has no generally accepted meaning. \"john is a married bachelor.\" is grammatically wellformed but expresses a meaning that cannot be true.the following c language fragment is syntactically correct, but performs operations that are not semantically defined the operation p has no meaning for a value having a complex type and pi am is not defined because the value of p is the null pointer if the type declaration on the first line were omitted, the program would trigger an error on undefined variable p during compilation. however, the program would still be syntactically correct since type declarations provide only semantic information. the grammar needed to specify a programming language can be classified by its position in the chomsky hierarchy. the syntax of most programming languages can be specified using a type grammar, i.e., they are contextfree grammars. some languages, including perl and lisp, contain constructs that allow execution during the parsing phase. languages that have constructs that allow the programmer to alter the behavior of the parser make syntax analysis an undecidable problem, and generally blur the distinction between parsing and execution. in contrast to lisp\\'s macro system and perl\\'s begin blocks, which may contain general computations, c macros are merely string replacements and do not require code execution. semantics the term semantics refers to the meaning of languages, as opposed to their form syntax. static semantics the static semantics defines restrictions on the structure of valid texts that are hard or impossible to express in standard syntactic formalisms. for compiled languages, static semantics essentially include those semantic rules that can be checked at compile time. examples include checking that every identifier is declared before it is used in languages that require such declarations or that the labels on the arms of a case statement are distinct. many important restrictions of this type, like checking that identifiers are used in the appropriate context e.g. not adding an integer to a function name, or that subroutine calls have the appropriate number and type of arguments, can be enforced by defining them as rules in a logic called a type system. other forms of static analyses like data flow analysis may also be part of static semantics. newer programming languages like java and c# have definite assignment analysis, a form of data flow analysis, as part of their static semantics. dynamic semantics once data has been specified, the machine must be instructed to perform operations on the data. for example, the semantics may define the strategy by which expressions are evaluated to values, or the manner in which control structures conditionally execute statements. the dynamic semantics also known as execution semantics of a language defines how and when the various constructs of a language should produce a program behavior. there are many ways of defining execution semantics. natural language is often used to specify the execution semantics of languages commonly used in practice. a significant amount of academic research went into formal semantics of programming languages, which allow execution semantics to be specified in a formal manner. results from this field of research have seen limited application to programming language design and implementation outside academia. type system a type system defines how a programming language classifies values and expressions into types, how it can manipulate those types and how they interact. the goal of a type system is to verify and usually enforce a certain level of correctness in programs written in that language by detecting certain incorrect operations. any decidable type system involves a tradeoff while it rejects many incorrect programs, it can also prohibit some correct, albeit unusual programs. in order to bypass this downside, a number of languages have type loopholes, usually unchecked casts that may be used by the programmer to explicitly allow a normally disallowed operation between different types. in most typed languages, the type system is used only to type check programs, but a number of languages, usually functional ones, infer types, relieving the programmer from the need to write type annotations. the formal design and study of type systems is known as type theory. typed versus untyped languages a language is typed if the specification of every operation defines types of data to which the operation is applicable. for example, the data represented by \"this text between the quotes\" is a string, and in many programming languages dividing a number by a string has no meaning and will not be executed. the invalid operation may be detected when the program is compiled \"static\" type checking and will be rejected by the compiler with a compilation error message, or it may be detected while the program is running \"dynamic\" type checking, resulting in a runtime exception. many languages allow a function called an exception handler to handle this exception and, for example, always return \" \" as the result. a special case of typed languages are the singletyped languages. these are often scripting or markup languages, such as rexx or sgml, and have only one data type–—most commonly character strings which are used for both symbolic and numeric data. in contrast, an untyped language, such as most assembly languages, allows any operation to be performed on any data, generally sequences of bits of various lengths. highlevel untyped languages include bcpl, tcl, and some varieties of forth. in practice, while few languages are considered typed from the type theory verifying or rejecting all operations, most modern languages offer a degree of typing. many production languages provide means to bypass or subvert the type system, trading typesafety for finer control over the program\\'s execution see casting. static visàvis dynamic typing in static typing, all expressions have their types determined prior to when the program is executed, typically at compiletime. for example, and + are integer expressions they cannot be passed to a function that expects a string, or stored in a variable that is defined to hold dates.statically typed languages can be either manifestly typed or typeinferred. in the first case, the programmer must explicitly write types at certain textual positions for example, at variable declarations. in the second case, the compiler infers the types of expressions and declarations based on context. most mainstream statically typed languages, such as c++, c# and java, are manifestly typed. complete type inference has traditionally been associated with less mainstream languages, such as haskell and ml. however, many manifestly typed languages support partial type inference for example, c++, java and c# all infer types in certain limited cases. additionally, some programming languages allow for some types to be automatically converted to other types for example, an int can be used where the program expects a float. dynamic typing, also called latent typing, determines the typesafety of operations at run time in other words, types are associated with runtime values rather than textual expressions. as with typeinferred languages, dynamically typed languages do not require the programmer to write explicit type annotations on expressions. among other things, this may permit a single variable to refer to values of different types at different points in the program execution. however, type errors cannot be automatically detected until a piece of code is actually executed, potentially making debugging more difficult. lisp, smalltalk, perl, python, javascript, and ruby are all examples of dynamically typed languages. weak and strong typing weak typing allows a value of one type to be treated as another, for example treating a string as a number. this can occasionally be useful, but it can also allow some kinds of program faults to go undetected at compile time and even at run time. strong typing prevents these program faults. an attempt to perform an operation on the wrong type of value raises an error. strongly typed languages are often termed typesafe or safe. an alternative definition for \"weakly typed\" refers to languages, such as perl and javascript, which permit a large number of implicit type conversions. in javascript, for example, the expression x implicitly converts x to a number, and this conversion succeeds even if x is null, undefined, an array, or a string of letters. such implicit conversions are often useful, but they can mask programming errors. strong and static are now generally considered orthogonal concepts, but usage in the literature differs. some use the term strongly typed to mean strongly, statically typed, or, even more confusingly, to mean simply statically typed. thus c has been called both strongly typed and weakly, statically typed.it may seem odd to some professional programmers that c could be \"weakly, statically typed\". however, notice that the use of the generic pointer, the void pointer, does allow for casting of pointers to other pointers without needing to do an explicit cast. this is extremely similar to somehow casting an array of bytes to any kind of datatype in c without using an explicit cast, such as int or char. standard library and runtime system most programming languages have an associated core library sometimes known as the \\'standard library\\', especially if it is included as part of the published language standard, which is conventionally made available by all implementations of the language. core libraries typically include definitions for commonly used algorithms, data structures, and mechanisms for input and output. the line between a language and its core library differs from language to language. in some cases, the language designers may treat the library as a separate entity from the language. however, a language\\'s core library is often treated as part of the language by its users, and some language specifications even require that this library be made available in all implementations. indeed, some languages are designed so that the meanings of certain syntactic constructs cannot even be described without referring to the core library. for example, in java, a string literal is defined as an instance of the java.lang.string class similarly, in smalltalk, an anonymous function expression a \"block\" constructs an instance of the library\\'s blockcontext class. conversely, scheme contains multiple coherent subsets that suffice to construct the rest of the language as library macros, and so the language designers do not even bother to say which portions of the language must be implemented as language constructs, and which must be implemented as parts of a library. design and implementation programming languages share properties with natural languages related to their purpose as vehicles for communication, having a syntactic form separate from its semantics, and showing language families of related languages branching one from another. but as artificial constructs, they also differ in fundamental ways from languages that have evolved through usage. a significant difference is that a programming language can be fully described and studied in its entirety since it has a precise and finite definition. by contrast, natural languages have changing meanings given by their users in different communities. while constructed languages are also artificial languages designed from the ground up with a specific purpose, they lack the precise and complete semantic definition that a programming language has. many programming languages have been designed from scratch, altered to meet new needs, and combined with other languages. many have eventually fallen into disuse. although there have been attempts to design one \"universal\" programming language that serves all purposes, all of them have failed to be generally accepted as filling this role. the need for diverse programming languages arises from the diversity of contexts in which languages are used programs range from tiny scripts written by individual hobbyists to huge systems written by hundreds of programmers. programmers range in expertise from novices who need simplicity above all else to experts who may be comfortable with considerable complexity. programs must balance speed, size, and simplicity on systems ranging from microcontrollers to supercomputers. programs may be written once and not change for generations, or they may undergo continual modification. programmers may simply differ in their tastes they may be accustomed to discussing problems and expressing them in a particular language.one common trend in the development of programming languages has been to add more ability to solve problems using a higher level of abstraction. the earliest programming languages were tied very closely to the underlying hardware of the computer. as new programming languages have developed, features have been added that let programmers express ideas that are more remote from simple translation into underlying hardware instructions. because programmers are less tied to the complexity of the computer, their programs can do more computing with less effort from the programmer. this let us them write more functionality per time unit. natural language programming has been proposed as a way to eliminate the need for a specialized language for programming. however, this goal remains distant and its benefits are open to debate. edsger w. dijkstra took the position that the use of a formal language is essential to prevent the introduction of meaningless constructs, and dismissed natural language programming as \"foolish\". alan perlis was similarly dismissive of the idea. hybrid approaches have been taken in structured english and sql. a language\\'s designers and users must construct a number of artifacts that govern and enable the practice of programming. the most important of these artifacts are the language specification and implementation. specification the specification of a programming language is an artifact that the language users and the implementors can use to agree upon whether a piece of source code is a valid program in that language, and if so what its behavior shall be. a programming language specification can take several forms, including the following an explicit definition of the syntax, static semantics, and execution semantics of the language. while syntax is commonly specified using a formal grammar, semantic definitions may be written in natural language e.g., as in the c language, or a formal semantics e.g., as in standard ml and scheme specifications. a description of the behavior of a translator for the language e.g., the c++ and fortran specifications. the syntax and semantics of the language have to be inferred from this description, which may be written in natural or a formal language. a reference or model implementation, sometimes written in the language being specified e.g., prolog or ansi rexx. the syntax and semantics of the language are explicit in the behavior of the reference implementation. implementation an implementation of a programming language provides a way to write programs in that language and execute them on one or more configurations of hardware and software. there are, broadly, two approaches to programming language implementation compilation and interpretation. it is generally possible to implement a language using either technique. the output of a compiler may be executed by hardware or a program called an interpreter. in some implementations that make use of the interpreter approach there is no distinct boundary between compiling and interpreting. for instance, some implementations of basic compile and then execute the source a line at a time. programs that are executed directly on the hardware usually run much faster than those that are interpreted in software.one technique for improving the performance of interpreted programs is justintime compilation. here the virtual machine, just before execution, translates the blocks of bytecode which are going to be used to machine code, for direct execution on the hardware. proprietary languages although most of the most commonly used programming languages have fully open specifications and implementations, many programming languages exist only as proprietary programming languages with the implementation available only from a single vendor, which may claim that such a proprietary language is their intellectual property. proprietary programming languages are commonly domain specific languages or internal scripting languages for a single product some proprietary languages are used only internally within a vendor, while others are available to external users. some programming languages exist on the border between proprietary and open for example, oracle corporation asserts proprietary rights to some aspects of the java programming language, and microsoft\\'s c# programming language, which has open implementations of most parts of the system, also has common language runtime clr as a closed environment.many proprietary languages are widely used, in spite of their proprietary nature examples include matlab, vbscript, and wolfram language. some languages may make the transition from closed to open for example, erlang was originally an ericsson\\'s internal programming language. use thousands of different programming languages have been created, mainly in the computing field. individual software projects commonly use five programming languages or more.programming languages differ from most other forms of human expression in that they require a greater degree of precision and completeness. when using a natural language to communicate with other people, human authors and speakers can be ambiguous and make small errors, and still expect their intent to be understood. however, figuratively speaking, computers \"do exactly what they are told to do\", and cannot \"understand\" what code the programmer intended to write. the combination of the language definition, a program, and the program\\'s inputs must fully specify the external behavior that occurs when the program is executed, within the domain of control of that program. on the other hand, ideas about an algorithm can be communicated to humans without the precision required for execution by using pseudocode, which interleaves natural language with code written in a programming language. a programming language provides a structured mechanism for defining pieces of data, and the operations or transformations that may be carried out automatically on that data. a programmer uses the abstractions present in the language to represent the concepts involved in a computation. these concepts are represented as a collection of the simplest elements available called primitives. programming is the process by which programmers combine these primitives to compose new programs, or adapt existing ones to new uses or a changing environment. programs for a computer might be executed in a batch process without human interaction, or a user might type commands in an interactive session of an interpreter. in this case the \"commands\" are simply programs, whose execution is chained together. when a language can run its commands through an interpreter such as a unix she will or other commandline interface, without compiling, it is called a scripting language. measuring language usage determining which is the most widely used programming language is difficult since the definition of usage varies by context. one language may occupy the greater number of programmer hours, a different one has more lines of code, and a third may consume the most cpu time. some languages are very popular for particular kinds of applications. for example, cobol is still strong in the corporate data center, often on large mainframes fortran in scientific and engineering applications ada in aerospace, transportation, military, realtime and embedded applications and c in embedded applications and operating systems. other languages are regularly used to write many different kinds of applications. various methods of measuring language popularity, each subject to a different bias over what is measured, have been proposed counting the number of job advertisements that mention the language the number of books sold that teach or describe the language estimates of the number of existing lines of code written in the language – which may underestimate languages not often found in public searches counts of language references i.e., to the name of the language found using a web search engine.combining and averaging information from various internet sites, stackify.com reported the ten most popular programming languages as in descending order by overall popularity java, c, c++, python, c#, javascript, vb .net, r, php, and matlab. dialects, flavors and implementations a dialect of a programming language or a data exchange language is a relatively small variation or extension of the language that does not change its intrinsic nature. with languages such as scheme and forth, standards may be considered insufficient, inadequate or illegitimate by implementors, so often they will deviate from the standard, making a new dialect. in other cases, a dialect is created for use in a domainspecific language, often a subset. in the lisp world, most languages that use basic sexpression syntax and lisplike semantics are considered lisp dialects, although they vary wildly, as do, say, racket and clojure. as it is common for one language to have several dialects, it can become quite difficult for an inexperienced programmer to find the right documentation. the basic programming language has many dialects. taxonomies there is no overarching classification scheme for programming languages. a given programming language does not usually have a single ancestor language. languages commonly arise by combining the elements of several predecessor languages with new ideas in circulation at the time. ideas that originate in one language will diffuse throughout a family of related languages, and then leap suddenly across familial gaps to appear in an entirely different family. the task is further complicated by the fact that languages can be classified along multiple axes. for example, java is both an objectoriented language because it encourages objectoriented organization and a concurrent language because it contains builtin constructs for running multiple threads in parallel. python is an objectoriented scripting language. in broad strokes, programming languages divide into programming paradigms and a classification by intended domain of use, with generalpurpose programming languages distinguished from domainspecific programming languages. traditionally, programming languages have been regarded as describing computation in terms of imperative sentences, i.e. issuing commands. these are generally called imperative programming languages. a great deal of research in programming languages has been aimed at blurring the distinction between a program as a set of instructions and a program as an assertion about the desired answer, which is the main feature of declarative programming. more refined paradigms include procedural programming, objectoriented programming, functional programming, and logic programming some languages are hybrids of paradigms or multiparadigmatic. an assembly language is not so much a paradigm as a direct model of an underlying machine architecture. by purpose, programming languages might be considered general purpose, system programming languages, scripting languages, domainspecific languages, or concurrentdistributed languages or a combination of these. some general purpose languages were designed largely with educational goals.a programming language may also be classified by factors unrelated to programming paradigm. for instance, most programming languages use english language keywords, while a minority do not. other languages may be classified as being deliberately esoteric or not. see also references further reading external links '"
            ],
            "application/vnd.google.colaboratory.intrinsic+json": {
              "type": "string"
            }
          },
          "metadata": {},
          "execution_count": 7
        }
      ]
    },
    {
      "cell_type": "markdown",
      "source": [
        "##**Extract Key Phrase**"
      ],
      "metadata": {
        "id": "4Ug_a6AYeqS8"
      }
    },
    {
      "cell_type": "markdown",
      "source": [
        "-------------------------------------------------------------------------------"
      ],
      "metadata": {
        "id": "iLnBQrSe-OOg"
      }
    },
    {
      "cell_type": "code",
      "source": [
        "pip install git+https://github.com/boudinfl/pke.git"
      ],
      "metadata": {
        "colab": {
          "base_uri": "https://localhost:8080/"
        },
        "id": "kKb8yCfd-iDb",
        "outputId": "4bd1a5b3-68c0-498b-d402-525870150da4"
      },
      "execution_count": 8,
      "outputs": [
        {
          "output_type": "stream",
          "name": "stdout",
          "text": [
            "Looking in indexes: https://pypi.org/simple, https://us-python.pkg.dev/colab-wheels/public/simple/\n",
            "Collecting git+https://github.com/boudinfl/pke.git\n",
            "  Cloning https://github.com/boudinfl/pke.git to /tmp/pip-req-build-537ohmqi\n",
            "  Running command git clone -q https://github.com/boudinfl/pke.git /tmp/pip-req-build-537ohmqi\n",
            "Requirement already satisfied: nltk in /usr/local/lib/python3.7/dist-packages (from pke==2.0.0) (3.7)\n",
            "Requirement already satisfied: networkx in /usr/local/lib/python3.7/dist-packages (from pke==2.0.0) (2.6.3)\n",
            "Requirement already satisfied: numpy in /usr/local/lib/python3.7/dist-packages (from pke==2.0.0) (1.21.6)\n",
            "Requirement already satisfied: scipy in /usr/local/lib/python3.7/dist-packages (from pke==2.0.0) (1.7.3)\n",
            "Collecting sklearn\n",
            "  Downloading sklearn-0.0.tar.gz (1.1 kB)\n",
            "Collecting unidecode\n",
            "  Downloading Unidecode-1.3.6-py3-none-any.whl (235 kB)\n",
            "\u001b[K     |████████████████████████████████| 235 kB 5.1 MB/s \n",
            "\u001b[?25hRequirement already satisfied: future in /usr/local/lib/python3.7/dist-packages (from pke==2.0.0) (0.16.0)\n",
            "Requirement already satisfied: joblib in /usr/local/lib/python3.7/dist-packages (from pke==2.0.0) (1.1.0)\n",
            "Requirement already satisfied: spacy>=3.2.3 in /usr/local/lib/python3.7/dist-packages (from pke==2.0.0) (3.4.1)\n",
            "Requirement already satisfied: requests<3.0.0,>=2.13.0 in /usr/local/lib/python3.7/dist-packages (from spacy>=3.2.3->pke==2.0.0) (2.23.0)\n",
            "Requirement already satisfied: srsly<3.0.0,>=2.4.3 in /usr/local/lib/python3.7/dist-packages (from spacy>=3.2.3->pke==2.0.0) (2.4.4)\n",
            "Requirement already satisfied: wasabi<1.1.0,>=0.9.1 in /usr/local/lib/python3.7/dist-packages (from spacy>=3.2.3->pke==2.0.0) (0.10.1)\n",
            "Requirement already satisfied: typing-extensions<4.2.0,>=3.7.4 in /usr/local/lib/python3.7/dist-packages (from spacy>=3.2.3->pke==2.0.0) (4.1.1)\n",
            "Requirement already satisfied: thinc<8.2.0,>=8.1.0 in /usr/local/lib/python3.7/dist-packages (from spacy>=3.2.3->pke==2.0.0) (8.1.0)\n",
            "Requirement already satisfied: catalogue<2.1.0,>=2.0.6 in /usr/local/lib/python3.7/dist-packages (from spacy>=3.2.3->pke==2.0.0) (2.0.8)\n",
            "Requirement already satisfied: packaging>=20.0 in /usr/local/lib/python3.7/dist-packages (from spacy>=3.2.3->pke==2.0.0) (21.3)\n",
            "Requirement already satisfied: typer<0.5.0,>=0.3.0 in /usr/local/lib/python3.7/dist-packages (from spacy>=3.2.3->pke==2.0.0) (0.4.2)\n",
            "Requirement already satisfied: pathy>=0.3.5 in /usr/local/lib/python3.7/dist-packages (from spacy>=3.2.3->pke==2.0.0) (0.6.2)\n",
            "Requirement already satisfied: cymem<2.1.0,>=2.0.2 in /usr/local/lib/python3.7/dist-packages (from spacy>=3.2.3->pke==2.0.0) (2.0.6)\n",
            "Requirement already satisfied: tqdm<5.0.0,>=4.38.0 in /usr/local/lib/python3.7/dist-packages (from spacy>=3.2.3->pke==2.0.0) (4.64.1)\n",
            "Requirement already satisfied: spacy-legacy<3.1.0,>=3.0.9 in /usr/local/lib/python3.7/dist-packages (from spacy>=3.2.3->pke==2.0.0) (3.0.10)\n",
            "Requirement already satisfied: pydantic!=1.8,!=1.8.1,<1.10.0,>=1.7.4 in /usr/local/lib/python3.7/dist-packages (from spacy>=3.2.3->pke==2.0.0) (1.9.2)\n",
            "Requirement already satisfied: murmurhash<1.1.0,>=0.28.0 in /usr/local/lib/python3.7/dist-packages (from spacy>=3.2.3->pke==2.0.0) (1.0.8)\n",
            "Requirement already satisfied: spacy-loggers<2.0.0,>=1.0.0 in /usr/local/lib/python3.7/dist-packages (from spacy>=3.2.3->pke==2.0.0) (1.0.3)\n",
            "Requirement already satisfied: preshed<3.1.0,>=3.0.2 in /usr/local/lib/python3.7/dist-packages (from spacy>=3.2.3->pke==2.0.0) (3.0.7)\n",
            "Requirement already satisfied: setuptools in /usr/local/lib/python3.7/dist-packages (from spacy>=3.2.3->pke==2.0.0) (57.4.0)\n",
            "Requirement already satisfied: jinja2 in /usr/local/lib/python3.7/dist-packages (from spacy>=3.2.3->pke==2.0.0) (2.11.3)\n",
            "Requirement already satisfied: langcodes<4.0.0,>=3.2.0 in /usr/local/lib/python3.7/dist-packages (from spacy>=3.2.3->pke==2.0.0) (3.3.0)\n",
            "Requirement already satisfied: zipp>=0.5 in /usr/local/lib/python3.7/dist-packages (from catalogue<2.1.0,>=2.0.6->spacy>=3.2.3->pke==2.0.0) (3.8.1)\n",
            "Requirement already satisfied: pyparsing!=3.0.5,>=2.0.2 in /usr/local/lib/python3.7/dist-packages (from packaging>=20.0->spacy>=3.2.3->pke==2.0.0) (3.0.9)\n",
            "Requirement already satisfied: smart-open<6.0.0,>=5.2.1 in /usr/local/lib/python3.7/dist-packages (from pathy>=0.3.5->spacy>=3.2.3->pke==2.0.0) (5.2.1)\n",
            "Requirement already satisfied: certifi>=2017.4.17 in /usr/local/lib/python3.7/dist-packages (from requests<3.0.0,>=2.13.0->spacy>=3.2.3->pke==2.0.0) (2022.6.15)\n",
            "Requirement already satisfied: idna<3,>=2.5 in /usr/local/lib/python3.7/dist-packages (from requests<3.0.0,>=2.13.0->spacy>=3.2.3->pke==2.0.0) (2.10)\n",
            "Requirement already satisfied: chardet<4,>=3.0.2 in /usr/local/lib/python3.7/dist-packages (from requests<3.0.0,>=2.13.0->spacy>=3.2.3->pke==2.0.0) (3.0.4)\n",
            "Requirement already satisfied: urllib3!=1.25.0,!=1.25.1,<1.26,>=1.21.1 in /usr/local/lib/python3.7/dist-packages (from requests<3.0.0,>=2.13.0->spacy>=3.2.3->pke==2.0.0) (1.24.3)\n",
            "Requirement already satisfied: blis<0.8.0,>=0.7.8 in /usr/local/lib/python3.7/dist-packages (from thinc<8.2.0,>=8.1.0->spacy>=3.2.3->pke==2.0.0) (0.7.8)\n",
            "Requirement already satisfied: click<9.0.0,>=7.1.1 in /usr/local/lib/python3.7/dist-packages (from typer<0.5.0,>=0.3.0->spacy>=3.2.3->pke==2.0.0) (7.1.2)\n",
            "Requirement already satisfied: MarkupSafe>=0.23 in /usr/local/lib/python3.7/dist-packages (from jinja2->spacy>=3.2.3->pke==2.0.0) (2.0.1)\n",
            "Requirement already satisfied: regex>=2021.8.3 in /usr/local/lib/python3.7/dist-packages (from nltk->pke==2.0.0) (2022.6.2)\n",
            "Requirement already satisfied: scikit-learn in /usr/local/lib/python3.7/dist-packages (from sklearn->pke==2.0.0) (1.0.2)\n",
            "Requirement already satisfied: threadpoolctl>=2.0.0 in /usr/local/lib/python3.7/dist-packages (from scikit-learn->sklearn->pke==2.0.0) (3.1.0)\n",
            "Building wheels for collected packages: pke, sklearn\n",
            "  Building wheel for pke (setup.py) ... \u001b[?25l\u001b[?25hdone\n",
            "  Created wheel for pke: filename=pke-2.0.0-py3-none-any.whl size=6160276 sha256=f75fd052a5b6b99435823ffb0e4b114f183c187d6b786a466485ff736a3977d7\n",
            "  Stored in directory: /tmp/pip-ephem-wheel-cache-bl43a92e/wheels/fa/b3/09/612ee93bf3ee4164bcd5783e742942cdfc892a86039d3e0a33\n",
            "  Building wheel for sklearn (setup.py) ... \u001b[?25l\u001b[?25hdone\n",
            "  Created wheel for sklearn: filename=sklearn-0.0-py2.py3-none-any.whl size=1310 sha256=5b0fa8e2664349c12a7bb27732d4760b8e7d0c625149ea3fc67a9bd8067f111d\n",
            "  Stored in directory: /root/.cache/pip/wheels/46/ef/c3/157e41f5ee1372d1be90b09f74f82b10e391eaacca8f22d33e\n",
            "Successfully built pke sklearn\n",
            "Installing collected packages: unidecode, sklearn, pke\n",
            "Successfully installed pke-2.0.0 sklearn-0.0 unidecode-1.3.6\n"
          ]
        }
      ]
    },
    {
      "cell_type": "code",
      "source": [
        "!pip install spacy_download"
      ],
      "metadata": {
        "colab": {
          "base_uri": "https://localhost:8080/"
        },
        "id": "s9_IfK7r_WZs",
        "outputId": "ac550d6e-a97e-4f5a-acb6-f36fee1b047c"
      },
      "execution_count": 9,
      "outputs": [
        {
          "output_type": "stream",
          "name": "stdout",
          "text": [
            "Looking in indexes: https://pypi.org/simple, https://us-python.pkg.dev/colab-wheels/public/simple/\n",
            "Collecting spacy_download\n",
            "  Downloading spacy_download-1.0.0-py3-none-any.whl (3.5 kB)\n",
            "Requirement already satisfied: spacy<4 in /usr/local/lib/python3.7/dist-packages (from spacy_download) (3.4.1)\n",
            "Requirement already satisfied: typer<0.5.0,>=0.3.0 in /usr/local/lib/python3.7/dist-packages (from spacy<4->spacy_download) (0.4.2)\n",
            "Requirement already satisfied: pathy>=0.3.5 in /usr/local/lib/python3.7/dist-packages (from spacy<4->spacy_download) (0.6.2)\n",
            "Requirement already satisfied: preshed<3.1.0,>=3.0.2 in /usr/local/lib/python3.7/dist-packages (from spacy<4->spacy_download) (3.0.7)\n",
            "Requirement already satisfied: cymem<2.1.0,>=2.0.2 in /usr/local/lib/python3.7/dist-packages (from spacy<4->spacy_download) (2.0.6)\n",
            "Requirement already satisfied: tqdm<5.0.0,>=4.38.0 in /usr/local/lib/python3.7/dist-packages (from spacy<4->spacy_download) (4.64.1)\n",
            "Requirement already satisfied: langcodes<4.0.0,>=3.2.0 in /usr/local/lib/python3.7/dist-packages (from spacy<4->spacy_download) (3.3.0)\n",
            "Requirement already satisfied: requests<3.0.0,>=2.13.0 in /usr/local/lib/python3.7/dist-packages (from spacy<4->spacy_download) (2.23.0)\n",
            "Requirement already satisfied: spacy-loggers<2.0.0,>=1.0.0 in /usr/local/lib/python3.7/dist-packages (from spacy<4->spacy_download) (1.0.3)\n",
            "Requirement already satisfied: murmurhash<1.1.0,>=0.28.0 in /usr/local/lib/python3.7/dist-packages (from spacy<4->spacy_download) (1.0.8)\n",
            "Requirement already satisfied: wasabi<1.1.0,>=0.9.1 in /usr/local/lib/python3.7/dist-packages (from spacy<4->spacy_download) (0.10.1)\n",
            "Requirement already satisfied: spacy-legacy<3.1.0,>=3.0.9 in /usr/local/lib/python3.7/dist-packages (from spacy<4->spacy_download) (3.0.10)\n",
            "Requirement already satisfied: setuptools in /usr/local/lib/python3.7/dist-packages (from spacy<4->spacy_download) (57.4.0)\n",
            "Requirement already satisfied: numpy>=1.15.0 in /usr/local/lib/python3.7/dist-packages (from spacy<4->spacy_download) (1.21.6)\n",
            "Requirement already satisfied: typing-extensions<4.2.0,>=3.7.4 in /usr/local/lib/python3.7/dist-packages (from spacy<4->spacy_download) (4.1.1)\n",
            "Requirement already satisfied: catalogue<2.1.0,>=2.0.6 in /usr/local/lib/python3.7/dist-packages (from spacy<4->spacy_download) (2.0.8)\n",
            "Requirement already satisfied: jinja2 in /usr/local/lib/python3.7/dist-packages (from spacy<4->spacy_download) (2.11.3)\n",
            "Requirement already satisfied: srsly<3.0.0,>=2.4.3 in /usr/local/lib/python3.7/dist-packages (from spacy<4->spacy_download) (2.4.4)\n",
            "Requirement already satisfied: thinc<8.2.0,>=8.1.0 in /usr/local/lib/python3.7/dist-packages (from spacy<4->spacy_download) (8.1.0)\n",
            "Requirement already satisfied: packaging>=20.0 in /usr/local/lib/python3.7/dist-packages (from spacy<4->spacy_download) (21.3)\n",
            "Requirement already satisfied: pydantic!=1.8,!=1.8.1,<1.10.0,>=1.7.4 in /usr/local/lib/python3.7/dist-packages (from spacy<4->spacy_download) (1.9.2)\n",
            "Requirement already satisfied: zipp>=0.5 in /usr/local/lib/python3.7/dist-packages (from catalogue<2.1.0,>=2.0.6->spacy<4->spacy_download) (3.8.1)\n",
            "Requirement already satisfied: pyparsing!=3.0.5,>=2.0.2 in /usr/local/lib/python3.7/dist-packages (from packaging>=20.0->spacy<4->spacy_download) (3.0.9)\n",
            "Requirement already satisfied: smart-open<6.0.0,>=5.2.1 in /usr/local/lib/python3.7/dist-packages (from pathy>=0.3.5->spacy<4->spacy_download) (5.2.1)\n",
            "Requirement already satisfied: idna<3,>=2.5 in /usr/local/lib/python3.7/dist-packages (from requests<3.0.0,>=2.13.0->spacy<4->spacy_download) (2.10)\n",
            "Requirement already satisfied: certifi>=2017.4.17 in /usr/local/lib/python3.7/dist-packages (from requests<3.0.0,>=2.13.0->spacy<4->spacy_download) (2022.6.15)\n",
            "Requirement already satisfied: urllib3!=1.25.0,!=1.25.1,<1.26,>=1.21.1 in /usr/local/lib/python3.7/dist-packages (from requests<3.0.0,>=2.13.0->spacy<4->spacy_download) (1.24.3)\n",
            "Requirement already satisfied: chardet<4,>=3.0.2 in /usr/local/lib/python3.7/dist-packages (from requests<3.0.0,>=2.13.0->spacy<4->spacy_download) (3.0.4)\n",
            "Requirement already satisfied: blis<0.8.0,>=0.7.8 in /usr/local/lib/python3.7/dist-packages (from thinc<8.2.0,>=8.1.0->spacy<4->spacy_download) (0.7.8)\n",
            "Requirement already satisfied: click<9.0.0,>=7.1.1 in /usr/local/lib/python3.7/dist-packages (from typer<0.5.0,>=0.3.0->spacy<4->spacy_download) (7.1.2)\n",
            "Requirement already satisfied: MarkupSafe>=0.23 in /usr/local/lib/python3.7/dist-packages (from jinja2->spacy<4->spacy_download) (2.0.1)\n",
            "Installing collected packages: spacy-download\n",
            "Successfully installed spacy-download-1.0.0\n"
          ]
        }
      ]
    },
    {
      "cell_type": "code",
      "source": [
        "from spacy_download import load_spacy\n",
        "\n",
        "nlp = load_spacy(\"en_core_web_sm\", exclude=[\"parser\", \"tagger\"])"
      ],
      "metadata": {
        "id": "vTesNYQv_Tos"
      },
      "execution_count": 10,
      "outputs": []
    },
    {
      "cell_type": "code",
      "source": [
        "# # download the english model\n",
        "# python -m spacy download en_core_web_sm"
      ],
      "metadata": {
        "id": "_A6yCVqY-kkX"
      },
      "execution_count": 11,
      "outputs": []
    },
    {
      "cell_type": "markdown",
      "source": [
        "##**12 different SUPERVISED and UNSUPERVISED models from pke**"
      ],
      "metadata": {
        "id": "G35rTMdG6b8g"
      }
    },
    {
      "cell_type": "code",
      "source": [
        "import pke\n"
      ],
      "metadata": {
        "id": "T2qY2vTz4Bms"
      },
      "execution_count": 12,
      "outputs": []
    },
    {
      "cell_type": "code",
      "source": [
        "# initialize keyphrase extraction model, here TopicRank\n",
        "extractor = pke.unsupervised.TopicRank()\n",
        "\n",
        "# load the content of the document, here document is expected to be a simple \n",
        "# test string and preprocessing is carried out using spacy\n",
        "extractor.load_document(input=Data, language='en')\n",
        "\n",
        "# keyphrase candidate selection, in the case of TopicRank: sequences of nouns\n",
        "# and adjectives (i.e. `(Noun|Adj)*`)\n",
        "extractor.candidate_selection()\n",
        "\n",
        "# candidate weighting, in the case of TopicRank: using a random walk algorithm\n",
        "extractor.candidate_weighting()\n",
        "\n",
        "# N-best selection, keyphrases contains the 10 highest scored candidates as\n",
        "# (keyphrase, score) tuples\n",
        "keyphrases1 = extractor.get_n_best(n=10)\n",
        "keyphrases1"
      ],
      "metadata": {
        "colab": {
          "base_uri": "https://localhost:8080/"
        },
        "id": "f-oyXXLN-b9h",
        "outputId": "7b2a919b-df1c-4425-cf18-29471494e0b6"
      },
      "execution_count": 13,
      "outputs": [
        {
          "output_type": "execute_result",
          "data": {
            "text/plain": [
              "[('programming language', 0.05981138044529282),\n",
              " ('formal languages', 0.05825441080371038),\n",
              " ('programming', 0.027558501074476903),\n",
              " ('computer programs', 0.014951915594856723),\n",
              " ('type declaration', 0.014912212723631706),\n",
              " ('example', 0.014000602530890655),\n",
              " ('programmer', 0.012483464362291311),\n",
              " ('numbers', 0.010817321018322171),\n",
              " ('structured data', 0.009984017656093382),\n",
              " ('system', 0.009252224935542936)]"
            ]
          },
          "metadata": {},
          "execution_count": 13
        }
      ]
    },
    {
      "cell_type": "code",
      "source": [
        "# initialize keyphrase extraction model, here TopicRank\n",
        "extractor = pke.unsupervised.FirstPhrases()\n",
        "\n",
        "# load the content of the document, here document is expected to be a simple \n",
        "# test string and preprocessing is carried out using spacy\n",
        "extractor.load_document(input=Data, language='en')\n",
        "\n",
        "# keyphrase candidate selection, in the case of TopicRank: sequences of nouns\n",
        "# and adjectives (i.e. `(Noun|Adj)*`)\n",
        "extractor.candidate_selection()\n",
        "\n",
        "# candidate weighting, in the case of TopicRank: using a random walk algorithm\n",
        "extractor.candidate_weighting()\n",
        "\n",
        "# N-best selection, keyphrases contains the 10 highest scored candidates as\n",
        "# (keyphrase, score) tuples\n",
        "keyphrases2 = extractor.get_n_best(n=10)\n",
        "keyphrases2"
      ],
      "metadata": {
        "colab": {
          "base_uri": "https://localhost:8080/"
        },
        "id": "rgc10mYW__zd",
        "outputId": "e87ecb9a-86ac-4a68-f685-19f4d5f7250e"
      },
      "execution_count": 14,
      "outputs": [
        {
          "output_type": "execute_result",
          "data": {
            "text/plain": [
              "[('programming language', -1),\n",
              " ('system', -5),\n",
              " ('notation', -7),\n",
              " ('computer programs', -10),\n",
              " ('most programming languages', -13),\n",
              " ('formal languages', -18),\n",
              " ('graphical', -27),\n",
              " ('kind', -32),\n",
              " ('computer language', -34),\n",
              " ('description', -38)]"
            ]
          },
          "metadata": {},
          "execution_count": 14
        }
      ]
    },
    {
      "cell_type": "code",
      "source": [
        "# initialize keyphrase extraction model, here TopicRank\n",
        "extractor = pke.unsupervised.KPMiner()\n",
        "\n",
        "# load the content of the document, here document is expected to be a simple \n",
        "# test string and preprocessing is carried out using spacy\n",
        "extractor.load_document(input=Data, language='en')\n",
        "\n",
        "# keyphrase candidate selection, in the case of TopicRank: sequences of nouns\n",
        "# and adjectives (i.e. `(Noun|Adj)*`)\n",
        "extractor.candidate_selection()\n",
        "\n",
        "# candidate weighting, in the case of TopicRank: using a random walk algorithm\n",
        "extractor.candidate_weighting()\n",
        "\n",
        "# N-best selection, keyphrases contains the 10 highest scored candidates as\n",
        "# (keyphrase, score) tuples\n",
        "keyphrases3 = extractor.get_n_best(n=10)\n",
        "keyphrases3"
      ],
      "metadata": {
        "colab": {
          "base_uri": "https://localhost:8080/"
        },
        "id": "i1NQyq4zA_5F",
        "outputId": "1dd2a219-f6df-4168-ced4-364dfc6e134c"
      },
      "execution_count": 15,
      "outputs": [
        {
          "output_type": "stream",
          "name": "stderr",
          "text": [
            "WARNING:root:LoadFile._df_counts is hard coded to /usr/local/lib/python3.7/dist-packages/pke/models/df-semeval2010.tsv.gz\n"
          ]
        },
        {
          "output_type": "execute_result",
          "data": {
            "text/plain": [
              "[('programming language', 2240.1316360846595),\n",
              " ('language', 415.2687497391964),\n",
              " ('programming', 233.5078873175568),\n",
              " ('computer language', 172.31781816035843),\n",
              " ('turing complete', 129.2383636202688),\n",
              " ('formal languages', 86.15890908017921),\n",
              " ('markup languages', 86.15890908017921),\n",
              " ('syntax', 82.58567691716874),\n",
              " ('computer programs', 64.6191818101344),\n",
              " ('usually defined', 64.6191818101344)]"
            ]
          },
          "metadata": {},
          "execution_count": 15
        }
      ]
    },
    {
      "cell_type": "code",
      "source": [
        "# initialize keyphrase extraction model, here TopicRank\n",
        "extractor = pke.unsupervised.MultipartiteRank()\n",
        "\n",
        "# load the content of the document, here document is expected to be a simple \n",
        "# test string and preprocessing is carried out using spacy\n",
        "extractor.load_document(input=Data, language='en')\n",
        "\n",
        "# keyphrase candidate selection, in the case of TopicRank: sequences of nouns\n",
        "# and adjectives (i.e. `(Noun|Adj)*`)\n",
        "extractor.candidate_selection()\n",
        "\n",
        "# candidate weighting, in the case of TopicRank: using a random walk algorithm\n",
        "extractor.candidate_weighting()\n",
        "\n",
        "# N-best selection, keyphrases contains the 10 highest scored candidates as\n",
        "# (keyphrase, score) tuples\n",
        "keyphrases4 = extractor.get_n_best(n=10)\n",
        "keyphrases4"
      ],
      "metadata": {
        "colab": {
          "base_uri": "https://localhost:8080/"
        },
        "id": "E20E7uigBFQ2",
        "outputId": "3969770c-cd0e-4b87-cdd9-632f53f1ee67"
      },
      "execution_count": 16,
      "outputs": [
        {
          "output_type": "execute_result",
          "data": {
            "text/plain": [
              "[('programming language', 0.06116078363607512),\n",
              " ('formal languages', 0.04316325064639112),\n",
              " ('languages', 0.025189335352915627),\n",
              " ('computer programs', 0.01865652867435995),\n",
              " ('programming', 0.018011814383625504),\n",
              " ('example', 0.009222204908460502),\n",
              " ('type declaration', 0.008697459445640472),\n",
              " ('programmer', 0.008200076096208608),\n",
              " ('syntax form', 0.007632788646935579),\n",
              " ('system', 0.007514106578155053)]"
            ]
          },
          "metadata": {},
          "execution_count": 16
        }
      ]
    },
    {
      "cell_type": "code",
      "source": [
        "# initialize keyphrase extraction model, here TopicRank\n",
        "extractor = pke.unsupervised.PositionRank()\n",
        "\n",
        "# load the content of the document, here document is expected to be a simple \n",
        "# test string and preprocessing is carried out using spacy\n",
        "extractor.load_document(input=Data, language='en')\n",
        "\n",
        "# keyphrase candidate selection, in the case of TopicRank: sequences of nouns\n",
        "# and adjectives (i.e. `(Noun|Adj)*`)\n",
        "extractor.candidate_selection()\n",
        "\n",
        "# candidate weighting, in the case of TopicRank: using a random walk algorithm\n",
        "extractor.candidate_weighting()\n",
        "\n",
        "# N-best selection, keyphrases contains the 10 highest scored candidates as\n",
        "# (keyphrase, score) tuples\n",
        "keyphrases5 = extractor.get_n_best(n=10)\n",
        "keyphrases5"
      ],
      "metadata": {
        "colab": {
          "base_uri": "https://localhost:8080/"
        },
        "id": "9HYe6UAkBNYk",
        "outputId": "569cc4c4-0a22-4c61-d85d-73bb1b6edc93"
      },
      "execution_count": 17,
      "outputs": [
        {
          "output_type": "execute_result",
          "data": {
            "text/plain": [
              "[('computer programming languages', 0.23849101044687768),\n",
              " ('system programming languages', 0.23409039487798017),\n",
              " ('most programming languages', 0.2263102156812135),\n",
              " ('implementation programming languages', 0.22610639098144125),\n",
              " ('programming language specification', 0.2241451809060717),\n",
              " ('programming language syntax', 0.22404996013565914),\n",
              " ('many programming languages', 0.2237738092612692),\n",
              " ('natural language programming', 0.22288266766383533),\n",
              " ('c programming language', 0.22268663843543926),\n",
              " ('functional programming language', 0.22160185529155704)]"
            ]
          },
          "metadata": {},
          "execution_count": 17
        }
      ]
    },
    {
      "cell_type": "code",
      "source": [
        "# initialize keyphrase extraction model, here TopicRank\n",
        "extractor = pke.unsupervised.SingleRank()\n",
        "\n",
        "# load the content of the document, here document is expected to be a simple \n",
        "# test string and preprocessing is carried out using spacy\n",
        "extractor.load_document(input=Data, language='en')\n",
        "\n",
        "# keyphrase candidate selection, in the case of TopicRank: sequences of nouns\n",
        "# and adjectives (i.e. `(Noun|Adj)*`)\n",
        "extractor.candidate_selection()\n",
        "\n",
        "# candidate weighting, in the case of TopicRank: using a random walk algorithm\n",
        "extractor.candidate_weighting()\n",
        "\n",
        "# N-best selection, keyphrases contains the 10 highest scored candidates as\n",
        "# (keyphrase, score) tuples\n",
        "keyphrases6 = extractor.get_n_best(n=10)\n",
        "keyphrases6"
      ],
      "metadata": {
        "colab": {
          "base_uri": "https://localhost:8080/"
        },
        "id": "Yqy4fh6SBUCS",
        "outputId": "aa4f4181-31f0-4b9d-b6b0-57a44946a43b"
      },
      "execution_count": 18,
      "outputs": [
        {
          "output_type": "execute_result",
          "data": {
            "text/plain": [
              "[('runtime system most programming languages', 0.1607625859909904),\n",
              " ('computer programming languages', 0.15634555816360637),\n",
              " ('programming language implementation compilation', 0.1553491547843966),\n",
              " ('system programming languages', 0.15393879007093203),\n",
              " ('highlevel general purpose programming language', 0.15292296734860025),\n",
              " ('c # programming language', 0.15183779938412004),\n",
              " ('first highlevel programming languages', 0.15149574085352804),\n",
              " ('implementation programming languages', 0.15132019994576262),\n",
              " ('early highlevel programming language', 0.1504957375832147),\n",
              " ('many programming languages', 0.15040971150569385)]"
            ]
          },
          "metadata": {},
          "execution_count": 18
        }
      ]
    },
    {
      "cell_type": "code",
      "source": [
        "# initialize keyphrase extraction model, here TopicRank\n",
        "extractor = pke.unsupervised.TextRank()\n",
        "\n",
        "# load the content of the document, here document is expected to be a simple \n",
        "# test string and preprocessing is carried out using spacy\n",
        "extractor.load_document(input=Data, language='en')\n",
        "\n",
        "# keyphrase candidate selection, in the case of TopicRank: sequences of nouns\n",
        "# and adjectives (i.e. `(Noun|Adj)*`)\n",
        "extractor.candidate_selection()\n",
        "\n",
        "# candidate weighting, in the case of TopicRank: using a random walk algorithm\n",
        "extractor.candidate_weighting()\n",
        "\n",
        "# N-best selection, keyphrases contains the 10 highest scored candidates as\n",
        "# (keyphrase, score) tuples\n",
        "keyphrases7 = extractor.get_n_best(n=10)\n",
        "keyphrases7"
      ],
      "metadata": {
        "colab": {
          "base_uri": "https://localhost:8080/"
        },
        "id": "SjuU7GDLBaxp",
        "outputId": "f6ea7e47-8cef-4dcc-e2d8-89c27193c931"
      },
      "execution_count": 19,
      "outputs": [
        {
          "output_type": "execute_result",
          "data": {
            "text/plain": [
              "[('runtime system most programming languages', 0.079529601495936),\n",
              " ('programming language implementation compilation', 0.0783137972756166),\n",
              " ('computer programming languages', 0.0766315021789811),\n",
              " ('highlevel general purpose programming language', 0.0754253480294683),\n",
              " ('early highlevel programming language', 0.07525442185386319),\n",
              " ('different programming languages', 0.07508184551099309),\n",
              " ('fastest supercomputers.another early programming language',\n",
              "  0.07490157477872494),\n",
              " ('implementation programming languages', 0.07439975156835528),\n",
              " ('programming language support adequate abstractions', 0.0740134723882803),\n",
              " ('first highlevel programming languages', 0.07387944397713823)]"
            ]
          },
          "metadata": {},
          "execution_count": 19
        }
      ]
    },
    {
      "cell_type": "code",
      "source": [
        "# initialize keyphrase extraction model, here TopicRank\n",
        "extractor = pke.unsupervised.TfIdf()\n",
        "\n",
        "# load the content of the document, here document is expected to be a simple \n",
        "# test string and preprocessing is carried out using spacy\n",
        "extractor.load_document(input=Data, language='en')\n",
        "\n",
        "# keyphrase candidate selection, in the case of TopicRank: sequences of nouns\n",
        "# and adjectives (i.e. `(Noun|Adj)*`)\n",
        "extractor.candidate_selection()\n",
        "\n",
        "# candidate weighting, in the case of TopicRank: using a random walk algorithm\n",
        "extractor.candidate_weighting()\n",
        "\n",
        "# N-best selection, keyphrases contains the 10 highest scored candidates as\n",
        "# (keyphrase, score) tuples\n",
        "keyphrases8 = extractor.get_n_best(n=10)\n",
        "keyphrases8"
      ],
      "metadata": {
        "colab": {
          "base_uri": "https://localhost:8080/"
        },
        "id": "7sTepQ_MBgid",
        "outputId": "5855ba41-9e0b-40e0-f7e2-739c60d778fe"
      },
      "execution_count": 20,
      "outputs": [
        {
          "output_type": "stream",
          "name": "stderr",
          "text": [
            "WARNING:root:LoadFile._df_counts is hard coded to /usr/local/lib/python3.7/dist-packages/pke/models/df-semeval2010.tsv.gz\n"
          ]
        },
        {
          "output_type": "execute_result",
          "data": {
            "text/plain": [
              "[('programming language', 434.71054536155316),\n",
              " ('language', 415.2687497391964),\n",
              " ('programming', 233.5078873175568),\n",
              " ('programmer', 108.77809089031362),\n",
              " ('syntax', 82.58567691716874),\n",
              " ('compiler', 66.96859448479748),\n",
              " ('lisp', 64.6191818101344),\n",
              " ('type system', 64.6191818101344),\n",
              " ('semantics', 60.62421987688595),\n",
              " ('computer language', 57.439272720119476)]"
            ]
          },
          "metadata": {},
          "execution_count": 20
        }
      ]
    },
    {
      "cell_type": "code",
      "source": [
        "# initialize keyphrase extraction model, here TopicRank\n",
        "extractor = pke.unsupervised.TopicalPageRank()\n",
        "\n",
        "# load the content of the document, here document is expected to be a simple \n",
        "# test string and preprocessing is carried out using spacy\n",
        "extractor.load_document(input=Data, language='en')\n",
        "\n",
        "# keyphrase candidate selection, in the case of TopicRank: sequences of nouns\n",
        "# and adjectives (i.e. `(Noun|Adj)*`)\n",
        "extractor.candidate_selection()\n",
        "\n",
        "# candidate weighting, in the case of TopicRank: using a random walk algorithm\n",
        "extractor.candidate_weighting()\n",
        "\n",
        "# N-best selection, keyphrases contains the 10 highest scored candidates as\n",
        "# (keyphrase, score) tuples\n",
        "keyphrases9 = extractor.get_n_best(n=10)\n",
        "keyphrases9"
      ],
      "metadata": {
        "colab": {
          "base_uri": "https://localhost:8080/"
        },
        "id": "QjxzRfsrBoJF",
        "outputId": "d62f349f-ee74-4dcb-fad1-4df4ea69e8dc"
      },
      "execution_count": 21,
      "outputs": [
        {
          "output_type": "stream",
          "name": "stderr",
          "text": [
            "WARNING:root:LDA model is hard coded to /usr/local/lib/python3.7/dist-packages/pke/models/lda-1000-semeval2010.py3.pickle.gz\n",
            "/usr/local/lib/python3.7/dist-packages/sklearn/feature_extraction/text.py:401: UserWarning: Your stop_words may be inconsistent with your preprocessing. Tokenizing the stop words generated tokens ['ll', 've'] not in stop_words.\n",
            "  % sorted(inconsistent)\n"
          ]
        },
        {
          "output_type": "execute_result",
          "data": {
            "text/plain": [
              "[('computer programming languages', 0.16308496620235685),\n",
              " ('programming language implementation compilation', 0.16292484341263586),\n",
              " ('system programming languages', 0.16031348199150403),\n",
              " ('implementation programming languages', 0.15835167192039978),\n",
              " ('first highlevel programming languages', 0.15748544960383745),\n",
              " ('many programming languages', 0.1572878230613129),\n",
              " ('c # programming language', 0.15716599554333371),\n",
              " ('general purpose programming language', 0.15683127350058323),\n",
              " ('programming language specification', 0.15678116230328784),\n",
              " ('first logic programming language', 0.15622543092355792)]"
            ]
          },
          "metadata": {},
          "execution_count": 21
        }
      ]
    },
    {
      "cell_type": "code",
      "source": [
        "# initialize keyphrase extraction model, here TopicRank\n",
        "extractor = pke.unsupervised.YAKE()\n",
        "\n",
        "# load the content of the document, here document is expected to be a simple \n",
        "# test string and preprocessing is carried out using spacy\n",
        "extractor.load_document(input=Data, language='en')\n",
        "\n",
        "# keyphrase candidate selection, in the case of TopicRank: sequences of nouns\n",
        "# and adjectives (i.e. `(Noun|Adj)*`)\n",
        "extractor.candidate_selection()\n",
        "\n",
        "# candidate weighting, in the case of TopicRank: using a random walk algorithm\n",
        "extractor.candidate_weighting()\n",
        "\n",
        "# N-best selection, keyphrases contains the 10 highest scored candidates as\n",
        "# (keyphrase, score) tuples\n",
        "keyphrases10 = extractor.get_n_best(n=10)\n",
        "keyphrases10"
      ],
      "metadata": {
        "colab": {
          "base_uri": "https://localhost:8080/"
        },
        "id": "AjDIgJYEBtz6",
        "outputId": "03d15c02-0f78-44b6-9840-e02f551d5849"
      },
      "execution_count": 22,
      "outputs": [
        {
          "output_type": "execute_result",
          "data": {
            "text/plain": [
              "[('programming languages', 0.000983125780058561),\n",
              " ('languages', 0.0015334950744801113),\n",
              " ('programming', 0.001845095811044354),\n",
              " ('type', 0.017115299072721676),\n",
              " ('typed languages', 0.02023446806258121),\n",
              " ('program', 0.020481273954700112),\n",
              " ('computer', 0.020647488567720612),\n",
              " ('computer languages', 0.02120677040876335),\n",
              " ('semantics', 0.021635987403438067),\n",
              " ('system programming languages', 0.025838675789179713)]"
            ]
          },
          "metadata": {},
          "execution_count": 22
        }
      ]
    },
    {
      "cell_type": "code",
      "source": [
        "# initialize keyphrase extraction model, here TopicRank\n",
        "extractor = pke.supervised.Kea()\n",
        "\n",
        "# load the content of the document, here document is expected to be a simple \n",
        "# test string and preprocessing is carried out using spacy\n",
        "extractor.load_document(input=Data, language='en')\n",
        "\n",
        "# keyphrase candidate selection, in the case of TopicRank: sequences of nouns\n",
        "# and adjectives (i.e. `(Noun|Adj)*`)\n",
        "extractor.candidate_selection()\n",
        "\n",
        "# candidate weighting, in the case of TopicRank: using a random walk algorithm\n",
        "extractor.candidate_weighting()\n",
        "\n",
        "# N-best selection, keyphrases contains the 10 highest scored candidates as\n",
        "# (keyphrase, score) tuples\n",
        "keyphrases11 = extractor.get_n_best(n=10)\n",
        "keyphrases11"
      ],
      "metadata": {
        "colab": {
          "base_uri": "https://localhost:8080/"
        },
        "id": "3rE52zU4BxIy",
        "outputId": "713538e7-bf3a-42c0-98f0-4eba51f06192"
      },
      "execution_count": 23,
      "outputs": [
        {
          "output_type": "stream",
          "name": "stderr",
          "text": [
            "WARNING:root:LoadFile._df_counts is hard coded to /usr/local/lib/python3.7/dist-packages/pke/models/df-semeval2010.tsv.gz\n",
            "/usr/local/lib/python3.7/dist-packages/sklearn/base.py:338: UserWarning: Trying to unpickle estimator MultinomialNB from version 0.20.0 when using version 1.0.2. This might lead to breaking code or invalid results. Use at your own risk. For more info please refer to:\n",
            "https://scikit-learn.org/stable/modules/model_persistence.html#security-maintainability-limitations\n",
            "  UserWarning,\n"
          ]
        },
        {
          "output_type": "execute_result",
          "data": {
            "text/plain": [
              "[('programming language', 0.050002973210251205),\n",
              " ('language', 0.045154671108957635),\n",
              " ('programming', 0.017103744934564888),\n",
              " ('programmer', 0.008015245038650975),\n",
              " ('syntax', 0.007481079734155036),\n",
              " ('semantics', 0.006632847107200137),\n",
              " ('computer language', 0.006535073935750804),\n",
              " ('compiler', 0.0061116048040276314),\n",
              " ('natural languages', 0.006012251649985657),\n",
              " ('turing complete', 0.005846456108271626)]"
            ]
          },
          "metadata": {},
          "execution_count": 23
        }
      ]
    },
    {
      "cell_type": "code",
      "source": [
        "# # initialize keyphrase extraction model, here TopicRank\n",
        "# extractor = pke.supervised.SupervisedLoadFile()\n",
        "\n",
        "# # load the content of the document, here document is expected to be a simple \n",
        "# # test string and preprocessing is carried out using spacy\n",
        "# extractor.load_document(input=p_wiki.text, language='en')\n",
        "\n",
        "# # keyphrase candidate selection, in the case of TopicRank: sequences of nouns\n",
        "# # and adjectives (i.e. `(Noun|Adj)*`)\n",
        "# extractor.candidate_selection()\n",
        "\n",
        "# # candidate weighting, in the case of TopicRank: using a random walk algorithm\n",
        "# extractor.candidate_weighting()\n",
        "\n",
        "# # N-best selection, keyphrases contains the 10 highest scored candidates as\n",
        "# # (keyphrase, score) tuples\n",
        "# keyphrases12 = extractor.get_n_best(n=10)\n",
        "# keyphrases12"
      ],
      "metadata": {
        "id": "tU6OrbsVB1O9"
      },
      "execution_count": 24,
      "outputs": []
    },
    {
      "cell_type": "code",
      "source": [
        "# initialize keyphrase extraction model, here TopicRank\n",
        "extractor = pke.supervised.WINGNUS()\n",
        "# load the content of the document, here document is expected to be a simple \n",
        "# test string and preprocessing is carried out using spacy\n",
        "extractor.load_document(input=Data, language='en')\n",
        "\n",
        "# keyphrase candidate selection, in the case of TopicRank: sequences of nouns\n",
        "# and adjectives (i.e. `(Noun|Adj)*`)\n",
        "extractor.candidate_selection()\n",
        "\n",
        "# candidate weighting, in the case of TopicRank: using a random walk algorithm\n",
        "extractor.candidate_weighting()\n",
        "\n",
        "# N-best selection, keyphrases contains the 10 highest scored candidates as\n",
        "# (keyphrase, score) tuples\n",
        "keyphrases13 = extractor.get_n_best(n=10)\n",
        "keyphrases13"
      ],
      "metadata": {
        "colab": {
          "base_uri": "https://localhost:8080/"
        },
        "id": "NOUwPTMOB5wl",
        "outputId": "2adb685e-a56f-4893-ad1e-cdbd803cf642"
      },
      "execution_count": 25,
      "outputs": [
        {
          "output_type": "stream",
          "name": "stderr",
          "text": [
            "WARNING:root:LoadFile._df_counts is hard coded to /usr/local/lib/python3.7/dist-packages/pke/models/df-semeval2010.tsv.gz\n",
            "/usr/local/lib/python3.7/dist-packages/sklearn/base.py:338: UserWarning: Trying to unpickle estimator MultinomialNB from version 0.20.0 when using version 1.0.2. This might lead to breaking code or invalid results. Use at your own risk. For more info please refer to:\n",
            "https://scikit-learn.org/stable/modules/model_persistence.html#security-maintainability-limitations\n",
            "  UserWarning,\n"
          ]
        },
        {
          "output_type": "execute_result",
          "data": {
            "text/plain": [
              "[('programming language', 0.06874400979973984),\n",
              " ('languages', 0.03443057565586016),\n",
              " ('most programming languages', 0.026577154914945108),\n",
              " ('programmer', 0.026010825668883988),\n",
              " ('computer language', 0.024896730009082317),\n",
              " ('natural languages', 0.022274366507470895),\n",
              " ('c programming language', 0.02161300235653186),\n",
              " ('formal languages', 0.021527293851521006),\n",
              " ('programming language theory', 0.021453265718526772),\n",
              " ('term computer language', 0.021304360007723098)]"
            ]
          },
          "metadata": {},
          "execution_count": 25
        }
      ]
    },
    {
      "cell_type": "markdown",
      "source": [
        "*Store All key phrases generated by models*"
      ],
      "metadata": {
        "id": "b9kL25Jx6tE_"
      }
    },
    {
      "cell_type": "code",
      "source": [
        "keyphrases = [keyphrases1,keyphrases2,keyphrases3,keyphrases4,keyphrases5,keyphrases6,keyphrases7,keyphrases8,keyphrases9,keyphrases10,keyphrases11,keyphrases13]"
      ],
      "metadata": {
        "id": "79oI9iJVB-p1"
      },
      "execution_count": 26,
      "outputs": []
    },
    {
      "cell_type": "code",
      "source": [
        "all_keyphrases = []\n",
        "for key in keyphrases:\n",
        "  for key_ in key:\n",
        "    all_keyphrases.append(key_[0])"
      ],
      "metadata": {
        "id": "mhK4vEbuRA9R"
      },
      "execution_count": 27,
      "outputs": []
    },
    {
      "cell_type": "code",
      "source": [
        "len(all_keyphrases)"
      ],
      "metadata": {
        "colab": {
          "base_uri": "https://localhost:8080/"
        },
        "id": "Cy8ViwlJUytN",
        "outputId": "7e145260-62c1-47ec-800b-f471fe23d0ca"
      },
      "execution_count": 28,
      "outputs": [
        {
          "output_type": "execute_result",
          "data": {
            "text/plain": [
              "120"
            ]
          },
          "metadata": {},
          "execution_count": 28
        }
      ]
    },
    {
      "cell_type": "code",
      "source": [],
      "metadata": {
        "id": "O3SFiP5HU9F2"
      },
      "execution_count": 28,
      "outputs": []
    },
    {
      "cell_type": "markdown",
      "source": [
        "##**KEY PHARSE**"
      ],
      "metadata": {
        "id": "oGemAEoRe1Mr"
      }
    },
    {
      "cell_type": "code",
      "source": [
        "import numpy as np"
      ],
      "metadata": {
        "id": "LuF88enpTBwi"
      },
      "execution_count": 29,
      "outputs": []
    },
    {
      "cell_type": "code",
      "source": [
        "all_key_unique = np.unique(all_keyphrases)"
      ],
      "metadata": {
        "id": "K4jU60yxTEOB"
      },
      "execution_count": 30,
      "outputs": []
    },
    {
      "cell_type": "code",
      "source": [
        "all_key_unique"
      ],
      "metadata": {
        "colab": {
          "base_uri": "https://localhost:8080/"
        },
        "id": "970QStZPTKLt",
        "outputId": "ff3515a3-e989-4cb9-fc7c-32d7f56a6148"
      },
      "execution_count": 31,
      "outputs": [
        {
          "output_type": "execute_result",
          "data": {
            "text/plain": [
              "array(['c # programming language', 'c programming language', 'compiler',\n",
              "       'computer', 'computer language', 'computer languages',\n",
              "       'computer programming languages', 'computer programs',\n",
              "       'description', 'different programming languages',\n",
              "       'early highlevel programming language', 'example',\n",
              "       'fastest supercomputers.another early programming language',\n",
              "       'first highlevel programming languages',\n",
              "       'first logic programming language', 'formal languages',\n",
              "       'functional programming language',\n",
              "       'general purpose programming language', 'graphical',\n",
              "       'highlevel general purpose programming language',\n",
              "       'implementation programming languages', 'kind', 'language',\n",
              "       'languages', 'lisp', 'many programming languages',\n",
              "       'markup languages', 'most programming languages',\n",
              "       'natural language programming', 'natural languages', 'notation',\n",
              "       'numbers', 'program', 'programmer', 'programming',\n",
              "       'programming language',\n",
              "       'programming language implementation compilation',\n",
              "       'programming language specification',\n",
              "       'programming language support adequate abstractions',\n",
              "       'programming language syntax', 'programming language theory',\n",
              "       'programming languages',\n",
              "       'runtime system most programming languages', 'semantics',\n",
              "       'structured data', 'syntax', 'syntax form', 'system',\n",
              "       'system programming languages', 'term computer language',\n",
              "       'turing complete', 'type', 'type declaration', 'type system',\n",
              "       'typed languages', 'usually defined'], dtype='<U57')"
            ]
          },
          "metadata": {},
          "execution_count": 31
        }
      ]
    },
    {
      "cell_type": "code",
      "source": [
        "for keyphrase in all_key_unique:\n",
        "  print(keyphrase + ': '+str(all_keyphrases.count(keyphrase)))"
      ],
      "metadata": {
        "colab": {
          "base_uri": "https://localhost:8080/"
        },
        "id": "D8cnBxtXVSzW",
        "outputId": "d22d184b-71f0-464c-8dda-fcce45a30361"
      },
      "execution_count": 32,
      "outputs": [
        {
          "output_type": "stream",
          "name": "stdout",
          "text": [
            "c # programming language: 2\n",
            "c programming language: 2\n",
            "compiler: 2\n",
            "computer: 1\n",
            "computer language: 5\n",
            "computer languages: 1\n",
            "computer programming languages: 4\n",
            "computer programs: 4\n",
            "description: 1\n",
            "different programming languages: 1\n",
            "early highlevel programming language: 2\n",
            "example: 2\n",
            "fastest supercomputers.another early programming language: 1\n",
            "first highlevel programming languages: 3\n",
            "first logic programming language: 1\n",
            "formal languages: 5\n",
            "functional programming language: 1\n",
            "general purpose programming language: 1\n",
            "graphical: 1\n",
            "highlevel general purpose programming language: 2\n",
            "implementation programming languages: 4\n",
            "kind: 1\n",
            "language: 3\n",
            "languages: 3\n",
            "lisp: 1\n",
            "many programming languages: 3\n",
            "markup languages: 1\n",
            "most programming languages: 3\n",
            "natural language programming: 1\n",
            "natural languages: 2\n",
            "notation: 1\n",
            "numbers: 1\n",
            "program: 1\n",
            "programmer: 5\n",
            "programming: 6\n",
            "programming language: 7\n",
            "programming language implementation compilation: 3\n",
            "programming language specification: 2\n",
            "programming language support adequate abstractions: 1\n",
            "programming language syntax: 1\n",
            "programming language theory: 1\n",
            "programming languages: 1\n",
            "runtime system most programming languages: 2\n",
            "semantics: 3\n",
            "structured data: 1\n",
            "syntax: 3\n",
            "syntax form: 1\n",
            "system: 3\n",
            "system programming languages: 4\n",
            "term computer language: 1\n",
            "turing complete: 2\n",
            "type: 1\n",
            "type declaration: 2\n",
            "type system: 1\n",
            "typed languages: 1\n",
            "usually defined: 1\n"
          ]
        }
      ]
    },
    {
      "cell_type": "code",
      "source": [
        "final_keyphrase = []\n",
        "for keyphrase in all_key_unique:\n",
        "  if all_keyphrases.count(keyphrase)>3: #4 or more\n",
        "    final_keyphrase.append(keyphrase)"
      ],
      "metadata": {
        "id": "4w9uyDxGTMGE"
      },
      "execution_count": 33,
      "outputs": []
    },
    {
      "cell_type": "code",
      "source": [
        "final_keyphrase"
      ],
      "metadata": {
        "colab": {
          "base_uri": "https://localhost:8080/"
        },
        "id": "MQiU8F_2Tgfx",
        "outputId": "f5db19eb-623e-41b9-97a0-510e1d67aad0"
      },
      "execution_count": 34,
      "outputs": [
        {
          "output_type": "execute_result",
          "data": {
            "text/plain": [
              "['computer language',\n",
              " 'computer programming languages',\n",
              " 'computer programs',\n",
              " 'formal languages',\n",
              " 'implementation programming languages',\n",
              " 'programmer',\n",
              " 'programming',\n",
              " 'programming language',\n",
              " 'system programming languages']"
            ]
          },
          "metadata": {},
          "execution_count": 34
        }
      ]
    },
    {
      "cell_type": "markdown",
      "source": [
        "##**trying new methods for extracting keyphrases**"
      ],
      "metadata": {
        "id": "EN6F3-ZfmkeY"
      }
    },
    {
      "cell_type": "code",
      "source": [
        "# !pip install keyphrase-vectorizers"
      ],
      "metadata": {
        "id": "UvpYoYblTwzv"
      },
      "execution_count": 35,
      "outputs": []
    },
    {
      "cell_type": "code",
      "source": [
        "# !pip install keybert"
      ],
      "metadata": {
        "id": "HfYaH9g8cPX2"
      },
      "execution_count": 36,
      "outputs": []
    },
    {
      "cell_type": "code",
      "source": [
        "# !pip install keybert[flair]\n",
        "# !pip install keybert[gensim]\n",
        "# !pip install keybert[spacy]\n",
        "# !pip install keybert[use]"
      ],
      "metadata": {
        "id": "7qJ68dQEcSuF"
      },
      "execution_count": 37,
      "outputs": []
    },
    {
      "cell_type": "code",
      "source": [
        "# from keybert import KeyBERT\n",
        "\n",
        "# doc = \"\"\"\n",
        "#          Supervised learning is the machine learning task of learning a function that\n",
        "#          maps an input to an output based on example input-output pairs. It infers a\n",
        "#          function from labeled training data consisting of a set of training examples.\n",
        "#          In supervised learning, each example is a pair consisting of an input object\n",
        "#          (typically a vector) and a desired output value (also called the supervisory signal).\n",
        "#          A supervised learning algorithm analyzes the training data and produces an inferred function,\n",
        "#          which can be used for mapping new examples. An optimal scenario will allow for the\n",
        "#          algorithm to correctly determine the class labels for unseen instances. This requires\n",
        "#          the learning algorithm to generalize from the training data to unseen situations in a\n",
        "#          'reasonable' way (see inductive bias).\n",
        "#       \"\"\"\n",
        "# kw_model = KeyBERT()\n",
        "# keywords = kw_model.extract_keywords(doc)"
      ],
      "metadata": {
        "id": "a72ySiQ_cSqq"
      },
      "execution_count": 38,
      "outputs": []
    },
    {
      "cell_type": "code",
      "source": [
        "# data =  kw_model.extract_keywords(Data, keyphrase_ngram_range=(1, 1), stop_words='english',highlight=True)"
      ],
      "metadata": {
        "id": "vaa-QEflce37"
      },
      "execution_count": 39,
      "outputs": []
    },
    {
      "cell_type": "code",
      "source": [
        "# data1 =  kw_model.extract_keywords(Data, keyphrase_ngram_range=(1, 1), stop_words='english',highlight=True, use_maxsum=True, nr_candidates=20, top_n=5)"
      ],
      "metadata": {
        "id": "z0rQSaiAf-14"
      },
      "execution_count": 40,
      "outputs": []
    },
    {
      "cell_type": "code",
      "source": [
        "# data1"
      ],
      "metadata": {
        "id": "DIB8gWQDgONt"
      },
      "execution_count": 41,
      "outputs": []
    },
    {
      "cell_type": "code",
      "source": [
        "# data2 = kw_model.extract_keywords(Data, keyphrase_ngram_range=(1, 1), stop_words='english',\n",
        "#                               use_mmr=True, diversity=0.3,highlight=True )"
      ],
      "metadata": {
        "id": "9ayKkPYsf-wS"
      },
      "execution_count": 42,
      "outputs": []
    },
    {
      "cell_type": "code",
      "source": [
        "# data2"
      ],
      "metadata": {
        "id": "eAxzarDjgvMf"
      },
      "execution_count": 43,
      "outputs": []
    },
    {
      "cell_type": "code",
      "source": [
        "# data"
      ],
      "metadata": {
        "id": "oR49UrgocSoe"
      },
      "execution_count": 44,
      "outputs": []
    },
    {
      "cell_type": "markdown",
      "source": [
        "##**Keyphrase sentance mapping** "
      ],
      "metadata": {
        "id": "tBW71Sduq7cN"
      }
    },
    {
      "cell_type": "code",
      "source": [
        "import re\n",
        "regex = re.compile('\\,|\\.')\n",
        "splitted_data = regex.split(Data)\n",
        "splitted_data"
      ],
      "metadata": {
        "colab": {
          "base_uri": "https://localhost:8080/"
        },
        "id": "uC8zcf_Voz-j",
        "outputId": "d831a8da-4843-43e3-f1e2-519eb662432b"
      },
      "execution_count": 45,
      "outputs": [
        {
          "output_type": "execute_result",
          "data": {
            "text/plain": [
              "['a programming language is a system of notation for writing computer programs',\n",
              " ' most programming languages are textbased formal languages',\n",
              " ' but they may be also be graphical',\n",
              " ' they are a kind of computer language',\n",
              " ' the description of a programming language is usually split into the two components of syntax form and semantics meaning',\n",
              " ' which are usually defined by a formal language',\n",
              " ' some languages are defined by a specification document for example',\n",
              " ' the c programming language is specified by an iso standard while other languages such as perl have a dominant implementation that is treated as a reference',\n",
              " ' some languages have both',\n",
              " ' with the basic language defined by a standard and extensions taken from the dominant implementation being common',\n",
              " ' programming language theory is a subfield of computer science that deals with the design',\n",
              " ' implementation',\n",
              " ' analysis',\n",
              " ' characterization',\n",
              " ' and classification of programming languages',\n",
              " ' definitions there are many considerations when defining what constitutes a programming language',\n",
              " ' computer languages vs programming languages the term computer language is sometimes used interchangeably with programming language',\n",
              " ' however',\n",
              " ' the usage of both terms varies among authors',\n",
              " ' including the exact scope of each',\n",
              " ' one usage describes programming languages as a subset of computer languages',\n",
              " ' similarly',\n",
              " ' languages used in computing that have a different goal than expressing computer programs are generically designated computer languages',\n",
              " ' for instance',\n",
              " ' markup languages are sometimes referred to as computer languages to emphasize that they are not meant to be used for programming',\n",
              " ' one way of classifying computer languages is by the computations they are capable of expressing',\n",
              " ' as described by the theory of computation',\n",
              " ' the majority of practical programming languages are turing complete',\n",
              " ' and all turing complete languages can implement the same set of algorithms',\n",
              " ' ansiiso sql and charity are examples of languages that are not turing complete',\n",
              " ' yet are often called programming languages',\n",
              " ' however',\n",
              " ' some authors restrict the term \"programming language\" to turing complete languages',\n",
              " 'another usage regards programming languages as theoretical constructs for programming abstract machines',\n",
              " ' and computer languages as the subset thereof that runs on physical computers',\n",
              " ' which have finite hardware resources',\n",
              " ' john c',\n",
              " ' reynolds emphasizes that formal specification languages are just as much programming languages as are the languages intended for execution',\n",
              " ' he also argues that textual and even graphical input formats that affect the behavior of a computer are programming languages',\n",
              " ' despite the fact they are commonly not turingcomplete',\n",
              " ' and remarks that ignorance of programming language concepts is the reason for many flaws in input formats',\n",
              " ' domain and target in most practical contexts',\n",
              " ' a programming language involves a computer consequently',\n",
              " ' programming languages are usually defined and studied this way',\n",
              " ' programming languages differ from natural languages in that natural languages are only used for interaction between people',\n",
              " ' while programming languages also allow humans to communicate instructions to machines',\n",
              " ' the domain of the language is also worth consideration',\n",
              " ' markup languages like xml',\n",
              " ' html',\n",
              " ' or troff',\n",
              " ' which define structured data',\n",
              " ' are not usually considered programming languages',\n",
              " ' programming languages may',\n",
              " ' however',\n",
              " ' share the syntax with markup languages if a computational semantics is defined',\n",
              " ' xslt',\n",
              " ' for example',\n",
              " ' is a turing complete language entirely using xml syntax',\n",
              " ' moreover',\n",
              " ' latex',\n",
              " ' which is mostly used for structuring documents',\n",
              " ' also contains a turing complete subset',\n",
              " ' abstractions programming languages usually contain abstractions for defining and manipulating data structures or controlling the flow of execution',\n",
              " ' the practical necessity that a programming language support adequate abstractions is expressed by the abstraction principle',\n",
              " ' this principle is sometimes formulated as a recommendation to the programmer to make proper use of such abstractions',\n",
              " ' history early developments very early computers',\n",
              " ' such as colossus',\n",
              " ' were programmed without the help of a stored program',\n",
              " ' by modifying their circuitry or setting banks of physical controls',\n",
              " ' slightly later',\n",
              " ' programs could be written in machine language',\n",
              " ' where the programmer writes each instruction in a numeric form the hardware can execute directly',\n",
              " ' for example',\n",
              " ' the instruction to add the value in two memory locations might consist of numbers an \"opcode\" that selects the \"add\" operation',\n",
              " ' and two memory locations',\n",
              " ' the programs',\n",
              " ' in decimal or binary form',\n",
              " ' were read in from punched cards',\n",
              " ' paper tape',\n",
              " ' magnetic tape or toggled in on switches on the front panel of the computer',\n",
              " ' machine languages were later termed firstgeneration programming languages gl',\n",
              " ' the next step was the development of the socalled secondgeneration programming languages gl or assembly languages',\n",
              " ' which were still closely tied to the instruction set architecture of the specific computer',\n",
              " ' these served to make the program much more humanreadable and relieved the programmer of tedious and errorprone address calculations',\n",
              " ' the first highlevel programming languages',\n",
              " ' or thirdgeneration programming languages gl',\n",
              " ' were written in the s',\n",
              " ' an early highlevel programming language to be designed for a computer was plankalkül',\n",
              " ' developed for the german z by konrad zuse between and ',\n",
              " ' however',\n",
              " ' it was not implemented until and ',\n",
              " \"john mauchly's short code\",\n",
              " ' proposed in ',\n",
              " ' was one of the first highlevel languages ever developed for an electronic computer',\n",
              " ' unlike machine code',\n",
              " ' short code statements represented mathematical expressions in understandable form',\n",
              " ' however',\n",
              " ' the program had to be translated into machine code every time it ran',\n",
              " ' making the process much slower than running the equivalent machine code',\n",
              " ' at the university of manchester',\n",
              " ' alick glennie developed autocode in the early s',\n",
              " ' as a programming language',\n",
              " ' it used a compiler to automatically convert the language into machine code',\n",
              " ' the first code and compiler was developed in for the mark computer at the university of manchester and is considered to be the first compiled highlevel programming language',\n",
              " 'the second autocode was developed for the mark by r',\n",
              " ' a',\n",
              " ' brooker in and was called the \"mark autocode\"',\n",
              " ' brooker also developed an autocode for the ferranti mercury in the s in conjunction with the university of manchester',\n",
              " ' the version for the edsac was devised by d',\n",
              " ' f',\n",
              " ' hartley of university of cambridge mathematical laboratory in ',\n",
              " ' known as edsac autocode',\n",
              " ' it was a straight development from mercury autocode adapted for local circumstances and was noted for its object code optimisation and sourcelanguage diagnostics which were advanced for the time',\n",
              " ' a contemporary but separate thread of development',\n",
              " ' atlas autocode was developed for the university of manchester atlas machine',\n",
              " ' in ',\n",
              " ' fortran was invented at ibm by john backus',\n",
              " ' it was the first widely used highlevel general purpose programming language to have a functional implementation',\n",
              " ' as opposed to just a design on paper',\n",
              " \" it is still a popular language for highperformance computing and is used for programs that benchmark and rank the world's fastest supercomputers\",\n",
              " 'another early programming language was devised by grace hopper in the us',\n",
              " ' called flowmatic',\n",
              " ' it was developed for the univac i at remington rand during the period from until ',\n",
              " ' hopper found that business data processing customers were uncomfortable with mathematical notation',\n",
              " ' and in early ',\n",
              " ' she and her team wrote a specification for an english programming language and implemented a prototype',\n",
              " ' the flowmatic compiler became publicly available in early and was substantially complete in ',\n",
              " ' flowmatic was a major influence in the design of cobol',\n",
              " ' since only it and its direct descendant aimaco were in actual use at the time',\n",
              " ' refinement the increased use of highlevel languages introduced a requirement for lowlevel programming languages or system programming languages',\n",
              " ' these languages',\n",
              " ' to varying degrees',\n",
              " ' provide facilities between assembly languages and highlevel languages',\n",
              " ' they can be used to perform tasks that require direct access to hardware facilities but still provide higherlevel control structures and errorchecking',\n",
              " ' the period from the s to the late s brought the development of the major language paradigms now in use apl introduced array programming and influenced functional programming',\n",
              " ' algol refined both structured procedural programming and the discipline of language specification the \"revised report on the algorithmic language algol \" became a model for how later language specifications were written',\n",
              " ' lisp',\n",
              " ' implemented in ',\n",
              " ' was the first dynamically typed functional programming language',\n",
              " ' in the s',\n",
              " ' simula was the first language designed to support objectoriented programming in the mid s',\n",
              " ' smalltalk followed with the first \"purely\" objectoriented language',\n",
              " ' c was developed between and as a system programming language for the unix operating system and remains popular',\n",
              " ' prolog',\n",
              " ' designed in ',\n",
              " ' was the first logic programming language',\n",
              " ' in ',\n",
              " ' ml built a polymorphic type system on top of lisp',\n",
              " ' pioneering statically typed functional programming languages',\n",
              " 'each of these languages spawned descendants',\n",
              " ' and most modern programming languages count at least one of them in their ancestry',\n",
              " ' the s and s also saw considerable debate over the merits of structured programming',\n",
              " ' and whether programming languages should be designed to support it',\n",
              " ' edsger dijkstra',\n",
              " ' in a famous letter published in the communications of the acm',\n",
              " ' argued that goto statements should be eliminated from all \"higher level\" programming languages',\n",
              " ' consolidation and growth the s were years of relative consolidation',\n",
              " ' c++ combined objectoriented and systems programming',\n",
              " ' the united states government standardized ada',\n",
              " ' a systems programming language derived from pascal and intended for use by defense contractors',\n",
              " ' in japan and elsewhere',\n",
              " ' vast sums were spent investigating the socalled \"fifthgeneration\" languages that incorporated logic programming constructs',\n",
              " ' the functional languages community moved to standardize ml and lisp',\n",
              " ' rather than inventing new paradigms',\n",
              " ' all of these movements elaborated upon the ideas invented in the previous decades',\n",
              " ' one important trend in language design for programming largescale systems during the s was an increased focus on the use of modules or largescale organizational units of code',\n",
              " ' modula ',\n",
              " ' ada',\n",
              " ' and ml all developed notable module systems in the s',\n",
              " ' which were often wedded to generic programming constructs',\n",
              " 'the rapid growth of the internet in the mid s created opportunities for new languages',\n",
              " ' perl',\n",
              " ' originally a unix scripting tool first released in ',\n",
              " ' became common in dynamic websites',\n",
              " ' java came to be used for serverside programming',\n",
              " ' and bytecode virtual machines became popular again in commercial settings with their promise of \"write once',\n",
              " ' run anywhere\" ucsd pascal had been popular for a time in the early s',\n",
              " ' these developments were not fundamentally novel rather',\n",
              " ' they were refinements of many existing languages and paradigms although their syntax was often based on the c family of programming languages',\n",
              " ' programming language evolution continues',\n",
              " ' in both industry and research',\n",
              " ' current directions include security and reliability verification',\n",
              " ' new kinds of modularity mixins',\n",
              " ' delegates',\n",
              " ' aspects',\n",
              " \" and database integration such as microsoft's linq\",\n",
              " ' fourthgeneration programming languages gl are computer programming languages that aim to provide a higher level of abstraction of the internal computer hardware details than gls',\n",
              " ' fifthgeneration programming languages gl are programming languages based on solving problems using constraints given to the program',\n",
              " ' rather than using an algorithm written by a programmer',\n",
              " ' elements all programming languages have some primitive building blocks for the description of data and the processes or transformations applied to them like the addition of two numbers or the selection of an item from a collection',\n",
              " ' these primitives are defined by syntactic and semantic rules which describe their structure and meaning respectively',\n",
              " \" syntax a programming language's surface form is known as its syntax\",\n",
              " ' most programming languages are purely textual they use sequences of text including words',\n",
              " ' numbers',\n",
              " ' and punctuation',\n",
              " ' much like written natural languages',\n",
              " ' on the other hand',\n",
              " ' there are some programming languages which are more graphical in nature',\n",
              " ' using visual relationships between symbols to specify a program',\n",
              " ' the syntax of a language describes the possible combinations of symbols that form a syntactically correct program',\n",
              " ' the meaning given to a combination of symbols is handled by semantics either formal or hardcoded in a reference implementation',\n",
              " ' since most languages are textual',\n",
              " ' this article discusses textual syntax',\n",
              " ' programming language syntax is usually defined using a combination of regular expressions for lexical structure and backus–naur form for grammatical structure',\n",
              " ' below is a simple grammar',\n",
              " ' based on lisp this grammar specifies the following an expression is either an atom or a list an atom is either a number or a symbol a number is an unbroken sequence of one or more decimal digits',\n",
              " ' optionally preceded by a plus or minus sign a symbol is a letter followed by zero or more of any characters excluding whitespace and a list is a matched pair of parentheses',\n",
              " ' with zero or more expressions inside it',\n",
              " 'the following are examples of wellformed token sequences in this grammar ',\n",
              " ' and a b c ',\n",
              " ' not all syntactically correct programs are semantically correct',\n",
              " ' many syntactically correct programs are nonetheless illformed',\n",
              " \" per the language's rules and may depending on the language specification and the soundness of the implementation result in an error on translation or execution\",\n",
              " ' in some cases',\n",
              " ' such programs may exhibit undefined behavior',\n",
              " ' even when a program is welldefined within a language',\n",
              " ' it may still have a meaning that is not intended by the person who wrote it',\n",
              " ' using natural language as an example',\n",
              " ' it may not be possible to assign a meaning to a grammatically correct sentence or the sentence may be false \"colorless green ideas sleep furiously',\n",
              " '\" is grammatically wellformed but has no generally accepted meaning',\n",
              " ' \"john is a married bachelor',\n",
              " '\" is grammatically wellformed but expresses a meaning that cannot be true',\n",
              " 'the following c language fragment is syntactically correct',\n",
              " ' but performs operations that are not semantically defined the operation p has no meaning for a value having a complex type and pi am is not defined because the value of p is the null pointer if the type declaration on the first line were omitted',\n",
              " ' the program would trigger an error on undefined variable p during compilation',\n",
              " ' however',\n",
              " ' the program would still be syntactically correct since type declarations provide only semantic information',\n",
              " ' the grammar needed to specify a programming language can be classified by its position in the chomsky hierarchy',\n",
              " ' the syntax of most programming languages can be specified using a type grammar',\n",
              " ' i',\n",
              " 'e',\n",
              " '',\n",
              " ' they are contextfree grammars',\n",
              " ' some languages',\n",
              " ' including perl and lisp',\n",
              " ' contain constructs that allow execution during the parsing phase',\n",
              " ' languages that have constructs that allow the programmer to alter the behavior of the parser make syntax analysis an undecidable problem',\n",
              " ' and generally blur the distinction between parsing and execution',\n",
              " \" in contrast to lisp's macro system and perl's begin blocks\",\n",
              " ' which may contain general computations',\n",
              " ' c macros are merely string replacements and do not require code execution',\n",
              " ' semantics the term semantics refers to the meaning of languages',\n",
              " ' as opposed to their form syntax',\n",
              " ' static semantics the static semantics defines restrictions on the structure of valid texts that are hard or impossible to express in standard syntactic formalisms',\n",
              " ' for compiled languages',\n",
              " ' static semantics essentially include those semantic rules that can be checked at compile time',\n",
              " ' examples include checking that every identifier is declared before it is used in languages that require such declarations or that the labels on the arms of a case statement are distinct',\n",
              " ' many important restrictions of this type',\n",
              " ' like checking that identifiers are used in the appropriate context e',\n",
              " 'g',\n",
              " ' not adding an integer to a function name',\n",
              " ' or that subroutine calls have the appropriate number and type of arguments',\n",
              " ' can be enforced by defining them as rules in a logic called a type system',\n",
              " ' other forms of static analyses like data flow analysis may also be part of static semantics',\n",
              " ' newer programming languages like java and c# have definite assignment analysis',\n",
              " ' a form of data flow analysis',\n",
              " ' as part of their static semantics',\n",
              " ' dynamic semantics once data has been specified',\n",
              " ' the machine must be instructed to perform operations on the data',\n",
              " ' for example',\n",
              " ' the semantics may define the strategy by which expressions are evaluated to values',\n",
              " ' or the manner in which control structures conditionally execute statements',\n",
              " ' the dynamic semantics also known as execution semantics of a language defines how and when the various constructs of a language should produce a program behavior',\n",
              " ' there are many ways of defining execution semantics',\n",
              " ' natural language is often used to specify the execution semantics of languages commonly used in practice',\n",
              " ' a significant amount of academic research went into formal semantics of programming languages',\n",
              " ' which allow execution semantics to be specified in a formal manner',\n",
              " ' results from this field of research have seen limited application to programming language design and implementation outside academia',\n",
              " ' type system a type system defines how a programming language classifies values and expressions into types',\n",
              " ' how it can manipulate those types and how they interact',\n",
              " ' the goal of a type system is to verify and usually enforce a certain level of correctness in programs written in that language by detecting certain incorrect operations',\n",
              " ' any decidable type system involves a tradeoff while it rejects many incorrect programs',\n",
              " ' it can also prohibit some correct',\n",
              " ' albeit unusual programs',\n",
              " ' in order to bypass this downside',\n",
              " ' a number of languages have type loopholes',\n",
              " ' usually unchecked casts that may be used by the programmer to explicitly allow a normally disallowed operation between different types',\n",
              " ' in most typed languages',\n",
              " ' the type system is used only to type check programs',\n",
              " ' but a number of languages',\n",
              " ' usually functional ones',\n",
              " ' infer types',\n",
              " ' relieving the programmer from the need to write type annotations',\n",
              " ' the formal design and study of type systems is known as type theory',\n",
              " ' typed versus untyped languages a language is typed if the specification of every operation defines types of data to which the operation is applicable',\n",
              " ' for example',\n",
              " ' the data represented by \"this text between the quotes\" is a string',\n",
              " ' and in many programming languages dividing a number by a string has no meaning and will not be executed',\n",
              " ' the invalid operation may be detected when the program is compiled \"static\" type checking and will be rejected by the compiler with a compilation error message',\n",
              " ' or it may be detected while the program is running \"dynamic\" type checking',\n",
              " ' resulting in a runtime exception',\n",
              " ' many languages allow a function called an exception handler to handle this exception and',\n",
              " ' for example',\n",
              " ' always return \" \" as the result',\n",
              " ' a special case of typed languages are the singletyped languages',\n",
              " ' these are often scripting or markup languages',\n",
              " ' such as rexx or sgml',\n",
              " ' and have only one data type–—most commonly character strings which are used for both symbolic and numeric data',\n",
              " ' in contrast',\n",
              " ' an untyped language',\n",
              " ' such as most assembly languages',\n",
              " ' allows any operation to be performed on any data',\n",
              " ' generally sequences of bits of various lengths',\n",
              " ' highlevel untyped languages include bcpl',\n",
              " ' tcl',\n",
              " ' and some varieties of forth',\n",
              " ' in practice',\n",
              " ' while few languages are considered typed from the type theory verifying or rejecting all operations',\n",
              " ' most modern languages offer a degree of typing',\n",
              " ' many production languages provide means to bypass or subvert the type system',\n",
              " \" trading typesafety for finer control over the program's execution see casting\",\n",
              " ' static visàvis dynamic typing in static typing',\n",
              " ' all expressions have their types determined prior to when the program is executed',\n",
              " ' typically at compiletime',\n",
              " ' for example',\n",
              " ' and + are integer expressions they cannot be passed to a function that expects a string',\n",
              " ' or stored in a variable that is defined to hold dates',\n",
              " 'statically typed languages can be either manifestly typed or typeinferred',\n",
              " ' in the first case',\n",
              " ' the programmer must explicitly write types at certain textual positions for example',\n",
              " ' at variable declarations',\n",
              " ' in the second case',\n",
              " ' the compiler infers the types of expressions and declarations based on context',\n",
              " ' most mainstream statically typed languages',\n",
              " ' such as c++',\n",
              " ' c# and java',\n",
              " ' are manifestly typed',\n",
              " ' complete type inference has traditionally been associated with less mainstream languages',\n",
              " ' such as haskell and ml',\n",
              " ' however',\n",
              " ' many manifestly typed languages support partial type inference for example',\n",
              " ' c++',\n",
              " ' java and c# all infer types in certain limited cases',\n",
              " ' additionally',\n",
              " ' some programming languages allow for some types to be automatically converted to other types for example',\n",
              " ' an int can be used where the program expects a float',\n",
              " ' dynamic typing',\n",
              " ' also called latent typing',\n",
              " ' determines the typesafety of operations at run time in other words',\n",
              " ' types are associated with runtime values rather than textual expressions',\n",
              " ' as with typeinferred languages',\n",
              " ' dynamically typed languages do not require the programmer to write explicit type annotations on expressions',\n",
              " ' among other things',\n",
              " ' this may permit a single variable to refer to values of different types at different points in the program execution',\n",
              " ' however',\n",
              " ' type errors cannot be automatically detected until a piece of code is actually executed',\n",
              " ' potentially making debugging more difficult',\n",
              " ' lisp',\n",
              " ' smalltalk',\n",
              " ' perl',\n",
              " ' python',\n",
              " ' javascript',\n",
              " ' and ruby are all examples of dynamically typed languages',\n",
              " ' weak and strong typing weak typing allows a value of one type to be treated as another',\n",
              " ' for example treating a string as a number',\n",
              " ' this can occasionally be useful',\n",
              " ' but it can also allow some kinds of program faults to go undetected at compile time and even at run time',\n",
              " ' strong typing prevents these program faults',\n",
              " ' an attempt to perform an operation on the wrong type of value raises an error',\n",
              " ' strongly typed languages are often termed typesafe or safe',\n",
              " ' an alternative definition for \"weakly typed\" refers to languages',\n",
              " ' such as perl and javascript',\n",
              " ' which permit a large number of implicit type conversions',\n",
              " ' in javascript',\n",
              " ' for example',\n",
              " ' the expression x implicitly converts x to a number',\n",
              " ' and this conversion succeeds even if x is null',\n",
              " ' undefined',\n",
              " ' an array',\n",
              " ' or a string of letters',\n",
              " ' such implicit conversions are often useful',\n",
              " ' but they can mask programming errors',\n",
              " ' strong and static are now generally considered orthogonal concepts',\n",
              " ' but usage in the literature differs',\n",
              " ' some use the term strongly typed to mean strongly',\n",
              " ' statically typed',\n",
              " ' or',\n",
              " ' even more confusingly',\n",
              " ' to mean simply statically typed',\n",
              " ' thus c has been called both strongly typed and weakly',\n",
              " ' statically typed',\n",
              " 'it may seem odd to some professional programmers that c could be \"weakly',\n",
              " ' statically typed\"',\n",
              " ' however',\n",
              " ' notice that the use of the generic pointer',\n",
              " ' the void pointer',\n",
              " ' does allow for casting of pointers to other pointers without needing to do an explicit cast',\n",
              " ' this is extremely similar to somehow casting an array of bytes to any kind of datatype in c without using an explicit cast',\n",
              " ' such as int or char',\n",
              " \" standard library and runtime system most programming languages have an associated core library sometimes known as the 'standard library'\",\n",
              " ' especially if it is included as part of the published language standard',\n",
              " ' which is conventionally made available by all implementations of the language',\n",
              " ' core libraries typically include definitions for commonly used algorithms',\n",
              " ' data structures',\n",
              " ' and mechanisms for input and output',\n",
              " ' the line between a language and its core library differs from language to language',\n",
              " ' in some cases',\n",
              " ' the language designers may treat the library as a separate entity from the language',\n",
              " ' however',\n",
              " \" a language's core library is often treated as part of the language by its users\",\n",
              " ' and some language specifications even require that this library be made available in all implementations',\n",
              " ' indeed',\n",
              " ' some languages are designed so that the meanings of certain syntactic constructs cannot even be described without referring to the core library',\n",
              " ' for example',\n",
              " ' in java',\n",
              " ' a string literal is defined as an instance of the java',\n",
              " 'lang',\n",
              " 'string class similarly',\n",
              " ' in smalltalk',\n",
              " ' an anonymous function expression a \"block\" constructs an instance of the library\\'s blockcontext class',\n",
              " ' conversely',\n",
              " ' scheme contains multiple coherent subsets that suffice to construct the rest of the language as library macros',\n",
              " ' and so the language designers do not even bother to say which portions of the language must be implemented as language constructs',\n",
              " ' and which must be implemented as parts of a library',\n",
              " ' design and implementation programming languages share properties with natural languages related to their purpose as vehicles for communication',\n",
              " ' having a syntactic form separate from its semantics',\n",
              " ' and showing language families of related languages branching one from another',\n",
              " ' but as artificial constructs',\n",
              " ' they also differ in fundamental ways from languages that have evolved through usage',\n",
              " ' a significant difference is that a programming language can be fully described and studied in its entirety since it has a precise and finite definition',\n",
              " ' by contrast',\n",
              " ' natural languages have changing meanings given by their users in different communities',\n",
              " ' while constructed languages are also artificial languages designed from the ground up with a specific purpose',\n",
              " ' they lack the precise and complete semantic definition that a programming language has',\n",
              " ' many programming languages have been designed from scratch',\n",
              " ' altered to meet new needs',\n",
              " ' and combined with other languages',\n",
              " ' many have eventually fallen into disuse',\n",
              " ' although there have been attempts to design one \"universal\" programming language that serves all purposes',\n",
              " ' all of them have failed to be generally accepted as filling this role',\n",
              " ' the need for diverse programming languages arises from the diversity of contexts in which languages are used programs range from tiny scripts written by individual hobbyists to huge systems written by hundreds of programmers',\n",
              " ' programmers range in expertise from novices who need simplicity above all else to experts who may be comfortable with considerable complexity',\n",
              " ' programs must balance speed',\n",
              " ' size',\n",
              " ' and simplicity on systems ranging from microcontrollers to supercomputers',\n",
              " ' programs may be written once and not change for generations',\n",
              " ' or they may undergo continual modification',\n",
              " ' programmers may simply differ in their tastes they may be accustomed to discussing problems and expressing them in a particular language',\n",
              " 'one common trend in the development of programming languages has been to add more ability to solve problems using a higher level of abstraction',\n",
              " ' the earliest programming languages were tied very closely to the underlying hardware of the computer',\n",
              " ' as new programming languages have developed',\n",
              " ' features have been added that let programmers express ideas that are more remote from simple translation into underlying hardware instructions',\n",
              " ' because programmers are less tied to the complexity of the computer',\n",
              " ' their programs can do more computing with less effort from the programmer',\n",
              " ' this let us them write more functionality per time unit',\n",
              " ' natural language programming has been proposed as a way to eliminate the need for a specialized language for programming',\n",
              " ' however',\n",
              " ' this goal remains distant and its benefits are open to debate',\n",
              " ' edsger w',\n",
              " ' dijkstra took the position that the use of a formal language is essential to prevent the introduction of meaningless constructs',\n",
              " ' and dismissed natural language programming as \"foolish\"',\n",
              " ' alan perlis was similarly dismissive of the idea',\n",
              " ' hybrid approaches have been taken in structured english and sql',\n",
              " \" a language's designers and users must construct a number of artifacts that govern and enable the practice of programming\",\n",
              " ' the most important of these artifacts are the language specification and implementation',\n",
              " ' specification the specification of a programming language is an artifact that the language users and the implementors can use to agree upon whether a piece of source code is a valid program in that language',\n",
              " ' and if so what its behavior shall be',\n",
              " ' a programming language specification can take several forms',\n",
              " ' including the following an explicit definition of the syntax',\n",
              " ' static semantics',\n",
              " ' and execution semantics of the language',\n",
              " ' while syntax is commonly specified using a formal grammar',\n",
              " ' semantic definitions may be written in natural language e',\n",
              " 'g',\n",
              " '',\n",
              " ' as in the c language',\n",
              " ' or a formal semantics e',\n",
              " 'g',\n",
              " '',\n",
              " ' as in standard ml and scheme specifications',\n",
              " ' a description of the behavior of a translator for the language e',\n",
              " 'g',\n",
              " '',\n",
              " ' the c++ and fortran specifications',\n",
              " ' the syntax and semantics of the language have to be inferred from this description',\n",
              " ' which may be written in natural or a formal language',\n",
              " ' a reference or model implementation',\n",
              " ' sometimes written in the language being specified e',\n",
              " 'g',\n",
              " '',\n",
              " ' prolog or ansi rexx',\n",
              " ' the syntax and semantics of the language are explicit in the behavior of the reference implementation',\n",
              " ' implementation an implementation of a programming language provides a way to write programs in that language and execute them on one or more configurations of hardware and software',\n",
              " ' there are',\n",
              " ' broadly',\n",
              " ' two approaches to programming language implementation compilation and interpretation',\n",
              " ' it is generally possible to implement a language using either technique',\n",
              " ' the output of a compiler may be executed by hardware or a program called an interpreter',\n",
              " ' in some implementations that make use of the interpreter approach there is no distinct boundary between compiling and interpreting',\n",
              " ' for instance',\n",
              " ' some implementations of basic compile and then execute the source a line at a time',\n",
              " ' programs that are executed directly on the hardware usually run much faster than those that are interpreted in software',\n",
              " 'one technique for improving the performance of interpreted programs is justintime compilation',\n",
              " ' here the virtual machine',\n",
              " ' just before execution',\n",
              " ' translates the blocks of bytecode which are going to be used to machine code',\n",
              " ' for direct execution on the hardware',\n",
              " ' proprietary languages although most of the most commonly used programming languages have fully open specifications and implementations',\n",
              " ' many programming languages exist only as proprietary programming languages with the implementation available only from a single vendor',\n",
              " ' which may claim that such a proprietary language is their intellectual property',\n",
              " ' proprietary programming languages are commonly domain specific languages or internal scripting languages for a single product some proprietary languages are used only internally within a vendor',\n",
              " ' while others are available to external users',\n",
              " ' some programming languages exist on the border between proprietary and open for example',\n",
              " ' oracle corporation asserts proprietary rights to some aspects of the java programming language',\n",
              " \" and microsoft's c# programming language\",\n",
              " ' which has open implementations of most parts of the system',\n",
              " ' also has common language runtime clr as a closed environment',\n",
              " 'many proprietary languages are widely used',\n",
              " ' in spite of their proprietary nature examples include matlab',\n",
              " ' vbscript',\n",
              " ' and wolfram language',\n",
              " ' some languages may make the transition from closed to open for example',\n",
              " \" erlang was originally an ericsson's internal programming language\",\n",
              " ' use thousands of different programming languages have been created',\n",
              " ' mainly in the computing field',\n",
              " ' individual software projects commonly use five programming languages or more',\n",
              " 'programming languages differ from most other forms of human expression in that they require a greater degree of precision and completeness',\n",
              " ' when using a natural language to communicate with other people',\n",
              " ' human authors and speakers can be ambiguous and make small errors',\n",
              " ' and still expect their intent to be understood',\n",
              " ' however',\n",
              " ' figuratively speaking',\n",
              " ' computers \"do exactly what they are told to do\"',\n",
              " ' and cannot \"understand\" what code the programmer intended to write',\n",
              " ' the combination of the language definition',\n",
              " ' a program',\n",
              " \" and the program's inputs must fully specify the external behavior that occurs when the program is executed\",\n",
              " ' within the domain of control of that program',\n",
              " ' on the other hand',\n",
              " ' ideas about an algorithm can be communicated to humans without the precision required for execution by using pseudocode',\n",
              " ' which interleaves natural language with code written in a programming language',\n",
              " ' a programming language provides a structured mechanism for defining pieces of data',\n",
              " ' and the operations or transformations that may be carried out automatically on that data',\n",
              " ' a programmer uses the abstractions present in the language to represent the concepts involved in a computation',\n",
              " ' these concepts are represented as a collection of the simplest elements available called primitives',\n",
              " ' programming is the process by which programmers combine these primitives to compose new programs',\n",
              " ' or adapt existing ones to new uses or a changing environment',\n",
              " ' programs for a computer might be executed in a batch process without human interaction',\n",
              " ' or a user might type commands in an interactive session of an interpreter',\n",
              " ' in this case the \"commands\" are simply programs',\n",
              " ' whose execution is chained together',\n",
              " ' when a language can run its commands through an interpreter such as a unix she will or other commandline interface',\n",
              " ' without compiling',\n",
              " ' it is called a scripting language',\n",
              " ' measuring language usage determining which is the most widely used programming language is difficult since the definition of usage varies by context',\n",
              " ' one language may occupy the greater number of programmer hours',\n",
              " ' a different one has more lines of code',\n",
              " ' and a third may consume the most cpu time',\n",
              " ' some languages are very popular for particular kinds of applications',\n",
              " ' for example',\n",
              " ' cobol is still strong in the corporate data center',\n",
              " ' often on large mainframes fortran in scientific and engineering applications ada in aerospace',\n",
              " ' transportation',\n",
              " ' military',\n",
              " ' realtime and embedded applications and c in embedded applications and operating systems',\n",
              " ' other languages are regularly used to write many different kinds of applications',\n",
              " ' various methods of measuring language popularity',\n",
              " ' each subject to a different bias over what is measured',\n",
              " ' have been proposed counting the number of job advertisements that mention the language the number of books sold that teach or describe the language estimates of the number of existing lines of code written in the language – which may underestimate languages not often found in public searches counts of language references i',\n",
              " 'e',\n",
              " '',\n",
              " ' to the name of the language found using a web search engine',\n",
              " 'combining and averaging information from various internet sites',\n",
              " ' stackify',\n",
              " 'com reported the ten most popular programming languages as in descending order by overall popularity java',\n",
              " ' c',\n",
              " ' c++',\n",
              " ' python',\n",
              " ' c#',\n",
              " ' javascript',\n",
              " ' vb ',\n",
              " 'net',\n",
              " ' r',\n",
              " ' php',\n",
              " ' and matlab',\n",
              " ' dialects',\n",
              " ' flavors and implementations a dialect of a programming language or a data exchange language is a relatively small variation or extension of the language that does not change its intrinsic nature',\n",
              " ' with languages such as scheme and forth',\n",
              " ' standards may be considered insufficient',\n",
              " ' inadequate or illegitimate by implementors',\n",
              " ' so often they will deviate from the standard',\n",
              " ' making a new dialect',\n",
              " ' in other cases',\n",
              " ' a dialect is created for use in a domainspecific language',\n",
              " ' often a subset',\n",
              " ' in the lisp world',\n",
              " ' most languages that use basic sexpression syntax and lisplike semantics are considered lisp dialects',\n",
              " ' although they vary wildly',\n",
              " ' as do',\n",
              " ' say',\n",
              " ' racket and clojure',\n",
              " ' as it is common for one language to have several dialects',\n",
              " ' it can become quite difficult for an inexperienced programmer to find the right documentation',\n",
              " ' the basic programming language has many dialects',\n",
              " ' taxonomies there is no overarching classification scheme for programming languages',\n",
              " ' a given programming language does not usually have a single ancestor language',\n",
              " ' languages commonly arise by combining the elements of several predecessor languages with new ideas in circulation at the time',\n",
              " ' ideas that originate in one language will diffuse throughout a family of related languages',\n",
              " ' and then leap suddenly across familial gaps to appear in an entirely different family',\n",
              " ' the task is further complicated by the fact that languages can be classified along multiple axes',\n",
              " ' for example',\n",
              " ' java is both an objectoriented language because it encourages objectoriented organization and a concurrent language because it contains builtin constructs for running multiple threads in parallel',\n",
              " ' python is an objectoriented scripting language',\n",
              " ' in broad strokes',\n",
              " ' programming languages divide into programming paradigms and a classification by intended domain of use',\n",
              " ' with generalpurpose programming languages distinguished from domainspecific programming languages',\n",
              " ' traditionally',\n",
              " ' programming languages have been regarded as describing computation in terms of imperative sentences',\n",
              " ' i',\n",
              " 'e',\n",
              " ' issuing commands',\n",
              " ' these are generally called imperative programming languages',\n",
              " ' a great deal of research in programming languages has been aimed at blurring the distinction between a program as a set of instructions and a program as an assertion about the desired answer',\n",
              " ' which is the main feature of declarative programming',\n",
              " ' more refined paradigms include procedural programming',\n",
              " ' objectoriented programming',\n",
              " ' functional programming',\n",
              " ' and logic programming some languages are hybrids of paradigms or multiparadigmatic',\n",
              " ' an assembly language is not so much a paradigm as a direct model of an underlying machine architecture',\n",
              " ' by purpose',\n",
              " ' programming languages might be considered general purpose',\n",
              " ' system programming languages',\n",
              " ' scripting languages',\n",
              " ' domainspecific languages',\n",
              " ' or concurrentdistributed languages or a combination of these',\n",
              " ' some general purpose languages were designed largely with educational goals',\n",
              " 'a programming language may also be classified by factors unrelated to programming paradigm',\n",
              " ' for instance',\n",
              " ' most programming languages use english language keywords',\n",
              " ' while a minority do not',\n",
              " ' other languages may be classified as being deliberately esoteric or not',\n",
              " ' see also references further reading external links ']"
            ]
          },
          "metadata": {},
          "execution_count": 45
        }
      ]
    },
    {
      "cell_type": "code",
      "source": [
        "sentences_map ={}"
      ],
      "metadata": {
        "id": "JroBH42wyKXW"
      },
      "execution_count": 46,
      "outputs": []
    },
    {
      "cell_type": "markdown",
      "source": [
        "**two ways for extracting sentences mapping**"
      ],
      "metadata": {
        "id": "bRacL8Rx7gQv"
      }
    },
    {
      "cell_type": "code",
      "source": [
        "for keyphrase in final_keyphrase:\n",
        "  sentences = []\n",
        "  for sentence in splitted_data:\n",
        "    if sentence.find(keyphrase)!= -1:\n",
        "      sentences.append(sentence)\n",
        "  sentences_map[keyphrase] = sentences"
      ],
      "metadata": {
        "id": "rffeL5IqzZEQ"
      },
      "execution_count": 47,
      "outputs": []
    },
    {
      "cell_type": "code",
      "source": [
        "# for keyphrase in final_keyphrase:\n",
        "#   sentences = []\n",
        "#   for sentence in splitted_data:\n",
        "#     if sentence.find(keyphrase)!= -1:\n",
        "#       if keyphrase in sentences_map.keys():\n",
        "#         sentences_map[keyphrase].append(sentence)\n",
        "#       else:\n",
        "#         sentences_map[keyphrase] = [sentence]"
      ],
      "metadata": {
        "id": "V8znHmBtsUZ-"
      },
      "execution_count": 48,
      "outputs": []
    },
    {
      "cell_type": "code",
      "source": [
        "sentences_map"
      ],
      "metadata": {
        "colab": {
          "base_uri": "https://localhost:8080/"
        },
        "id": "OEKAuUx-pill",
        "outputId": "35eef49a-48c3-44ab-d70f-11f87c754ee1"
      },
      "execution_count": 49,
      "outputs": [
        {
          "output_type": "execute_result",
          "data": {
            "text/plain": [
              "{'computer language': [' they are a kind of computer language',\n",
              "  ' computer languages vs programming languages the term computer language is sometimes used interchangeably with programming language',\n",
              "  ' one usage describes programming languages as a subset of computer languages',\n",
              "  ' languages used in computing that have a different goal than expressing computer programs are generically designated computer languages',\n",
              "  ' markup languages are sometimes referred to as computer languages to emphasize that they are not meant to be used for programming',\n",
              "  ' one way of classifying computer languages is by the computations they are capable of expressing',\n",
              "  ' and computer languages as the subset thereof that runs on physical computers'],\n",
              " 'computer programming languages': [' fourthgeneration programming languages gl are computer programming languages that aim to provide a higher level of abstraction of the internal computer hardware details than gls'],\n",
              " 'computer programs': ['a programming language is a system of notation for writing computer programs',\n",
              "  ' languages used in computing that have a different goal than expressing computer programs are generically designated computer languages'],\n",
              " 'formal languages': [' most programming languages are textbased formal languages'],\n",
              " 'implementation programming languages': [' design and implementation programming languages share properties with natural languages related to their purpose as vehicles for communication'],\n",
              " 'programmer': [' this principle is sometimes formulated as a recommendation to the programmer to make proper use of such abstractions',\n",
              "  ' where the programmer writes each instruction in a numeric form the hardware can execute directly',\n",
              "  ' these served to make the program much more humanreadable and relieved the programmer of tedious and errorprone address calculations',\n",
              "  ' rather than using an algorithm written by a programmer',\n",
              "  ' languages that have constructs that allow the programmer to alter the behavior of the parser make syntax analysis an undecidable problem',\n",
              "  ' usually unchecked casts that may be used by the programmer to explicitly allow a normally disallowed operation between different types',\n",
              "  ' relieving the programmer from the need to write type annotations',\n",
              "  ' the programmer must explicitly write types at certain textual positions for example',\n",
              "  ' dynamically typed languages do not require the programmer to write explicit type annotations on expressions',\n",
              "  'it may seem odd to some professional programmers that c could be \"weakly',\n",
              "  ' the need for diverse programming languages arises from the diversity of contexts in which languages are used programs range from tiny scripts written by individual hobbyists to huge systems written by hundreds of programmers',\n",
              "  ' programmers range in expertise from novices who need simplicity above all else to experts who may be comfortable with considerable complexity',\n",
              "  ' programmers may simply differ in their tastes they may be accustomed to discussing problems and expressing them in a particular language',\n",
              "  ' features have been added that let programmers express ideas that are more remote from simple translation into underlying hardware instructions',\n",
              "  ' because programmers are less tied to the complexity of the computer',\n",
              "  ' their programs can do more computing with less effort from the programmer',\n",
              "  ' and cannot \"understand\" what code the programmer intended to write',\n",
              "  ' a programmer uses the abstractions present in the language to represent the concepts involved in a computation',\n",
              "  ' programming is the process by which programmers combine these primitives to compose new programs',\n",
              "  ' one language may occupy the greater number of programmer hours',\n",
              "  ' it can become quite difficult for an inexperienced programmer to find the right documentation'],\n",
              " 'programming': ['a programming language is a system of notation for writing computer programs',\n",
              "  ' most programming languages are textbased formal languages',\n",
              "  ' the description of a programming language is usually split into the two components of syntax form and semantics meaning',\n",
              "  ' the c programming language is specified by an iso standard while other languages such as perl have a dominant implementation that is treated as a reference',\n",
              "  ' programming language theory is a subfield of computer science that deals with the design',\n",
              "  ' and classification of programming languages',\n",
              "  ' definitions there are many considerations when defining what constitutes a programming language',\n",
              "  ' computer languages vs programming languages the term computer language is sometimes used interchangeably with programming language',\n",
              "  ' one usage describes programming languages as a subset of computer languages',\n",
              "  ' markup languages are sometimes referred to as computer languages to emphasize that they are not meant to be used for programming',\n",
              "  ' the majority of practical programming languages are turing complete',\n",
              "  ' yet are often called programming languages',\n",
              "  ' some authors restrict the term \"programming language\" to turing complete languages',\n",
              "  'another usage regards programming languages as theoretical constructs for programming abstract machines',\n",
              "  ' reynolds emphasizes that formal specification languages are just as much programming languages as are the languages intended for execution',\n",
              "  ' he also argues that textual and even graphical input formats that affect the behavior of a computer are programming languages',\n",
              "  ' and remarks that ignorance of programming language concepts is the reason for many flaws in input formats',\n",
              "  ' a programming language involves a computer consequently',\n",
              "  ' programming languages are usually defined and studied this way',\n",
              "  ' programming languages differ from natural languages in that natural languages are only used for interaction between people',\n",
              "  ' while programming languages also allow humans to communicate instructions to machines',\n",
              "  ' are not usually considered programming languages',\n",
              "  ' programming languages may',\n",
              "  ' abstractions programming languages usually contain abstractions for defining and manipulating data structures or controlling the flow of execution',\n",
              "  ' the practical necessity that a programming language support adequate abstractions is expressed by the abstraction principle',\n",
              "  ' machine languages were later termed firstgeneration programming languages gl',\n",
              "  ' the next step was the development of the socalled secondgeneration programming languages gl or assembly languages',\n",
              "  ' the first highlevel programming languages',\n",
              "  ' or thirdgeneration programming languages gl',\n",
              "  ' an early highlevel programming language to be designed for a computer was plankalkül',\n",
              "  ' as a programming language',\n",
              "  ' the first code and compiler was developed in for the mark computer at the university of manchester and is considered to be the first compiled highlevel programming language',\n",
              "  ' it was the first widely used highlevel general purpose programming language to have a functional implementation',\n",
              "  'another early programming language was devised by grace hopper in the us',\n",
              "  ' she and her team wrote a specification for an english programming language and implemented a prototype',\n",
              "  ' refinement the increased use of highlevel languages introduced a requirement for lowlevel programming languages or system programming languages',\n",
              "  ' the period from the s to the late s brought the development of the major language paradigms now in use apl introduced array programming and influenced functional programming',\n",
              "  ' algol refined both structured procedural programming and the discipline of language specification the \"revised report on the algorithmic language algol \" became a model for how later language specifications were written',\n",
              "  ' was the first dynamically typed functional programming language',\n",
              "  ' simula was the first language designed to support objectoriented programming in the mid s',\n",
              "  ' c was developed between and as a system programming language for the unix operating system and remains popular',\n",
              "  ' was the first logic programming language',\n",
              "  ' pioneering statically typed functional programming languages',\n",
              "  ' and most modern programming languages count at least one of them in their ancestry',\n",
              "  ' the s and s also saw considerable debate over the merits of structured programming',\n",
              "  ' and whether programming languages should be designed to support it',\n",
              "  ' argued that goto statements should be eliminated from all \"higher level\" programming languages',\n",
              "  ' c++ combined objectoriented and systems programming',\n",
              "  ' a systems programming language derived from pascal and intended for use by defense contractors',\n",
              "  ' vast sums were spent investigating the socalled \"fifthgeneration\" languages that incorporated logic programming constructs',\n",
              "  ' one important trend in language design for programming largescale systems during the s was an increased focus on the use of modules or largescale organizational units of code',\n",
              "  ' which were often wedded to generic programming constructs',\n",
              "  ' java came to be used for serverside programming',\n",
              "  ' they were refinements of many existing languages and paradigms although their syntax was often based on the c family of programming languages',\n",
              "  ' programming language evolution continues',\n",
              "  ' fourthgeneration programming languages gl are computer programming languages that aim to provide a higher level of abstraction of the internal computer hardware details than gls',\n",
              "  ' fifthgeneration programming languages gl are programming languages based on solving problems using constraints given to the program',\n",
              "  ' elements all programming languages have some primitive building blocks for the description of data and the processes or transformations applied to them like the addition of two numbers or the selection of an item from a collection',\n",
              "  \" syntax a programming language's surface form is known as its syntax\",\n",
              "  ' most programming languages are purely textual they use sequences of text including words',\n",
              "  ' there are some programming languages which are more graphical in nature',\n",
              "  ' programming language syntax is usually defined using a combination of regular expressions for lexical structure and backus–naur form for grammatical structure',\n",
              "  ' the grammar needed to specify a programming language can be classified by its position in the chomsky hierarchy',\n",
              "  ' the syntax of most programming languages can be specified using a type grammar',\n",
              "  ' newer programming languages like java and c# have definite assignment analysis',\n",
              "  ' a significant amount of academic research went into formal semantics of programming languages',\n",
              "  ' results from this field of research have seen limited application to programming language design and implementation outside academia',\n",
              "  ' type system a type system defines how a programming language classifies values and expressions into types',\n",
              "  ' and in many programming languages dividing a number by a string has no meaning and will not be executed',\n",
              "  ' some programming languages allow for some types to be automatically converted to other types for example',\n",
              "  ' but they can mask programming errors',\n",
              "  \" standard library and runtime system most programming languages have an associated core library sometimes known as the 'standard library'\",\n",
              "  ' design and implementation programming languages share properties with natural languages related to their purpose as vehicles for communication',\n",
              "  ' a significant difference is that a programming language can be fully described and studied in its entirety since it has a precise and finite definition',\n",
              "  ' they lack the precise and complete semantic definition that a programming language has',\n",
              "  ' many programming languages have been designed from scratch',\n",
              "  ' although there have been attempts to design one \"universal\" programming language that serves all purposes',\n",
              "  ' the need for diverse programming languages arises from the diversity of contexts in which languages are used programs range from tiny scripts written by individual hobbyists to huge systems written by hundreds of programmers',\n",
              "  'one common trend in the development of programming languages has been to add more ability to solve problems using a higher level of abstraction',\n",
              "  ' the earliest programming languages were tied very closely to the underlying hardware of the computer',\n",
              "  ' as new programming languages have developed',\n",
              "  ' natural language programming has been proposed as a way to eliminate the need for a specialized language for programming',\n",
              "  ' and dismissed natural language programming as \"foolish\"',\n",
              "  \" a language's designers and users must construct a number of artifacts that govern and enable the practice of programming\",\n",
              "  ' specification the specification of a programming language is an artifact that the language users and the implementors can use to agree upon whether a piece of source code is a valid program in that language',\n",
              "  ' a programming language specification can take several forms',\n",
              "  ' implementation an implementation of a programming language provides a way to write programs in that language and execute them on one or more configurations of hardware and software',\n",
              "  ' two approaches to programming language implementation compilation and interpretation',\n",
              "  ' proprietary languages although most of the most commonly used programming languages have fully open specifications and implementations',\n",
              "  ' many programming languages exist only as proprietary programming languages with the implementation available only from a single vendor',\n",
              "  ' proprietary programming languages are commonly domain specific languages or internal scripting languages for a single product some proprietary languages are used only internally within a vendor',\n",
              "  ' some programming languages exist on the border between proprietary and open for example',\n",
              "  ' oracle corporation asserts proprietary rights to some aspects of the java programming language',\n",
              "  \" and microsoft's c# programming language\",\n",
              "  \" erlang was originally an ericsson's internal programming language\",\n",
              "  ' use thousands of different programming languages have been created',\n",
              "  ' individual software projects commonly use five programming languages or more',\n",
              "  'programming languages differ from most other forms of human expression in that they require a greater degree of precision and completeness',\n",
              "  ' which interleaves natural language with code written in a programming language',\n",
              "  ' a programming language provides a structured mechanism for defining pieces of data',\n",
              "  ' programming is the process by which programmers combine these primitives to compose new programs',\n",
              "  ' measuring language usage determining which is the most widely used programming language is difficult since the definition of usage varies by context',\n",
              "  'com reported the ten most popular programming languages as in descending order by overall popularity java',\n",
              "  ' flavors and implementations a dialect of a programming language or a data exchange language is a relatively small variation or extension of the language that does not change its intrinsic nature',\n",
              "  ' the basic programming language has many dialects',\n",
              "  ' taxonomies there is no overarching classification scheme for programming languages',\n",
              "  ' a given programming language does not usually have a single ancestor language',\n",
              "  ' programming languages divide into programming paradigms and a classification by intended domain of use',\n",
              "  ' with generalpurpose programming languages distinguished from domainspecific programming languages',\n",
              "  ' programming languages have been regarded as describing computation in terms of imperative sentences',\n",
              "  ' these are generally called imperative programming languages',\n",
              "  ' a great deal of research in programming languages has been aimed at blurring the distinction between a program as a set of instructions and a program as an assertion about the desired answer',\n",
              "  ' which is the main feature of declarative programming',\n",
              "  ' more refined paradigms include procedural programming',\n",
              "  ' objectoriented programming',\n",
              "  ' functional programming',\n",
              "  ' and logic programming some languages are hybrids of paradigms or multiparadigmatic',\n",
              "  ' programming languages might be considered general purpose',\n",
              "  ' system programming languages',\n",
              "  'a programming language may also be classified by factors unrelated to programming paradigm',\n",
              "  ' most programming languages use english language keywords'],\n",
              " 'programming language': ['a programming language is a system of notation for writing computer programs',\n",
              "  ' most programming languages are textbased formal languages',\n",
              "  ' the description of a programming language is usually split into the two components of syntax form and semantics meaning',\n",
              "  ' the c programming language is specified by an iso standard while other languages such as perl have a dominant implementation that is treated as a reference',\n",
              "  ' programming language theory is a subfield of computer science that deals with the design',\n",
              "  ' and classification of programming languages',\n",
              "  ' definitions there are many considerations when defining what constitutes a programming language',\n",
              "  ' computer languages vs programming languages the term computer language is sometimes used interchangeably with programming language',\n",
              "  ' one usage describes programming languages as a subset of computer languages',\n",
              "  ' the majority of practical programming languages are turing complete',\n",
              "  ' yet are often called programming languages',\n",
              "  ' some authors restrict the term \"programming language\" to turing complete languages',\n",
              "  'another usage regards programming languages as theoretical constructs for programming abstract machines',\n",
              "  ' reynolds emphasizes that formal specification languages are just as much programming languages as are the languages intended for execution',\n",
              "  ' he also argues that textual and even graphical input formats that affect the behavior of a computer are programming languages',\n",
              "  ' and remarks that ignorance of programming language concepts is the reason for many flaws in input formats',\n",
              "  ' a programming language involves a computer consequently',\n",
              "  ' programming languages are usually defined and studied this way',\n",
              "  ' programming languages differ from natural languages in that natural languages are only used for interaction between people',\n",
              "  ' while programming languages also allow humans to communicate instructions to machines',\n",
              "  ' are not usually considered programming languages',\n",
              "  ' programming languages may',\n",
              "  ' abstractions programming languages usually contain abstractions for defining and manipulating data structures or controlling the flow of execution',\n",
              "  ' the practical necessity that a programming language support adequate abstractions is expressed by the abstraction principle',\n",
              "  ' machine languages were later termed firstgeneration programming languages gl',\n",
              "  ' the next step was the development of the socalled secondgeneration programming languages gl or assembly languages',\n",
              "  ' the first highlevel programming languages',\n",
              "  ' or thirdgeneration programming languages gl',\n",
              "  ' an early highlevel programming language to be designed for a computer was plankalkül',\n",
              "  ' as a programming language',\n",
              "  ' the first code and compiler was developed in for the mark computer at the university of manchester and is considered to be the first compiled highlevel programming language',\n",
              "  ' it was the first widely used highlevel general purpose programming language to have a functional implementation',\n",
              "  'another early programming language was devised by grace hopper in the us',\n",
              "  ' she and her team wrote a specification for an english programming language and implemented a prototype',\n",
              "  ' refinement the increased use of highlevel languages introduced a requirement for lowlevel programming languages or system programming languages',\n",
              "  ' was the first dynamically typed functional programming language',\n",
              "  ' c was developed between and as a system programming language for the unix operating system and remains popular',\n",
              "  ' was the first logic programming language',\n",
              "  ' pioneering statically typed functional programming languages',\n",
              "  ' and most modern programming languages count at least one of them in their ancestry',\n",
              "  ' and whether programming languages should be designed to support it',\n",
              "  ' argued that goto statements should be eliminated from all \"higher level\" programming languages',\n",
              "  ' a systems programming language derived from pascal and intended for use by defense contractors',\n",
              "  ' they were refinements of many existing languages and paradigms although their syntax was often based on the c family of programming languages',\n",
              "  ' programming language evolution continues',\n",
              "  ' fourthgeneration programming languages gl are computer programming languages that aim to provide a higher level of abstraction of the internal computer hardware details than gls',\n",
              "  ' fifthgeneration programming languages gl are programming languages based on solving problems using constraints given to the program',\n",
              "  ' elements all programming languages have some primitive building blocks for the description of data and the processes or transformations applied to them like the addition of two numbers or the selection of an item from a collection',\n",
              "  \" syntax a programming language's surface form is known as its syntax\",\n",
              "  ' most programming languages are purely textual they use sequences of text including words',\n",
              "  ' there are some programming languages which are more graphical in nature',\n",
              "  ' programming language syntax is usually defined using a combination of regular expressions for lexical structure and backus–naur form for grammatical structure',\n",
              "  ' the grammar needed to specify a programming language can be classified by its position in the chomsky hierarchy',\n",
              "  ' the syntax of most programming languages can be specified using a type grammar',\n",
              "  ' newer programming languages like java and c# have definite assignment analysis',\n",
              "  ' a significant amount of academic research went into formal semantics of programming languages',\n",
              "  ' results from this field of research have seen limited application to programming language design and implementation outside academia',\n",
              "  ' type system a type system defines how a programming language classifies values and expressions into types',\n",
              "  ' and in many programming languages dividing a number by a string has no meaning and will not be executed',\n",
              "  ' some programming languages allow for some types to be automatically converted to other types for example',\n",
              "  \" standard library and runtime system most programming languages have an associated core library sometimes known as the 'standard library'\",\n",
              "  ' design and implementation programming languages share properties with natural languages related to their purpose as vehicles for communication',\n",
              "  ' a significant difference is that a programming language can be fully described and studied in its entirety since it has a precise and finite definition',\n",
              "  ' they lack the precise and complete semantic definition that a programming language has',\n",
              "  ' many programming languages have been designed from scratch',\n",
              "  ' although there have been attempts to design one \"universal\" programming language that serves all purposes',\n",
              "  ' the need for diverse programming languages arises from the diversity of contexts in which languages are used programs range from tiny scripts written by individual hobbyists to huge systems written by hundreds of programmers',\n",
              "  'one common trend in the development of programming languages has been to add more ability to solve problems using a higher level of abstraction',\n",
              "  ' the earliest programming languages were tied very closely to the underlying hardware of the computer',\n",
              "  ' as new programming languages have developed',\n",
              "  ' specification the specification of a programming language is an artifact that the language users and the implementors can use to agree upon whether a piece of source code is a valid program in that language',\n",
              "  ' a programming language specification can take several forms',\n",
              "  ' implementation an implementation of a programming language provides a way to write programs in that language and execute them on one or more configurations of hardware and software',\n",
              "  ' two approaches to programming language implementation compilation and interpretation',\n",
              "  ' proprietary languages although most of the most commonly used programming languages have fully open specifications and implementations',\n",
              "  ' many programming languages exist only as proprietary programming languages with the implementation available only from a single vendor',\n",
              "  ' proprietary programming languages are commonly domain specific languages or internal scripting languages for a single product some proprietary languages are used only internally within a vendor',\n",
              "  ' some programming languages exist on the border between proprietary and open for example',\n",
              "  ' oracle corporation asserts proprietary rights to some aspects of the java programming language',\n",
              "  \" and microsoft's c# programming language\",\n",
              "  \" erlang was originally an ericsson's internal programming language\",\n",
              "  ' use thousands of different programming languages have been created',\n",
              "  ' individual software projects commonly use five programming languages or more',\n",
              "  'programming languages differ from most other forms of human expression in that they require a greater degree of precision and completeness',\n",
              "  ' which interleaves natural language with code written in a programming language',\n",
              "  ' a programming language provides a structured mechanism for defining pieces of data',\n",
              "  ' measuring language usage determining which is the most widely used programming language is difficult since the definition of usage varies by context',\n",
              "  'com reported the ten most popular programming languages as in descending order by overall popularity java',\n",
              "  ' flavors and implementations a dialect of a programming language or a data exchange language is a relatively small variation or extension of the language that does not change its intrinsic nature',\n",
              "  ' the basic programming language has many dialects',\n",
              "  ' taxonomies there is no overarching classification scheme for programming languages',\n",
              "  ' a given programming language does not usually have a single ancestor language',\n",
              "  ' programming languages divide into programming paradigms and a classification by intended domain of use',\n",
              "  ' with generalpurpose programming languages distinguished from domainspecific programming languages',\n",
              "  ' programming languages have been regarded as describing computation in terms of imperative sentences',\n",
              "  ' these are generally called imperative programming languages',\n",
              "  ' a great deal of research in programming languages has been aimed at blurring the distinction between a program as a set of instructions and a program as an assertion about the desired answer',\n",
              "  ' programming languages might be considered general purpose',\n",
              "  ' system programming languages',\n",
              "  'a programming language may also be classified by factors unrelated to programming paradigm',\n",
              "  ' most programming languages use english language keywords'],\n",
              " 'system programming languages': [' refinement the increased use of highlevel languages introduced a requirement for lowlevel programming languages or system programming languages',\n",
              "  ' system programming languages']}"
            ]
          },
          "metadata": {},
          "execution_count": 49
        }
      ]
    },
    {
      "cell_type": "code",
      "source": [
        "for key in final_keyphrase:\n",
        "  sentences_map[key]= \", \".join([sentence for sentence in sentences_map[key] ])"
      ],
      "metadata": {
        "id": "F8kMtVAsykD5"
      },
      "execution_count": 50,
      "outputs": []
    },
    {
      "cell_type": "code",
      "source": [
        "sentences_map"
      ],
      "metadata": {
        "colab": {
          "base_uri": "https://localhost:8080/"
        },
        "id": "YoqmwgXr0vHZ",
        "outputId": "240951b9-09aa-47fe-dfc9-305d58aa192c"
      },
      "execution_count": 51,
      "outputs": [
        {
          "output_type": "execute_result",
          "data": {
            "text/plain": [
              "{'computer language': ' they are a kind of computer language,  computer languages vs programming languages the term computer language is sometimes used interchangeably with programming language,  one usage describes programming languages as a subset of computer languages,  languages used in computing that have a different goal than expressing computer programs are generically designated computer languages,  markup languages are sometimes referred to as computer languages to emphasize that they are not meant to be used for programming,  one way of classifying computer languages is by the computations they are capable of expressing,  and computer languages as the subset thereof that runs on physical computers',\n",
              " 'computer programming languages': ' fourthgeneration programming languages gl are computer programming languages that aim to provide a higher level of abstraction of the internal computer hardware details than gls',\n",
              " 'computer programs': 'a programming language is a system of notation for writing computer programs,  languages used in computing that have a different goal than expressing computer programs are generically designated computer languages',\n",
              " 'formal languages': ' most programming languages are textbased formal languages',\n",
              " 'implementation programming languages': ' design and implementation programming languages share properties with natural languages related to their purpose as vehicles for communication',\n",
              " 'programmer': ' this principle is sometimes formulated as a recommendation to the programmer to make proper use of such abstractions,  where the programmer writes each instruction in a numeric form the hardware can execute directly,  these served to make the program much more humanreadable and relieved the programmer of tedious and errorprone address calculations,  rather than using an algorithm written by a programmer,  languages that have constructs that allow the programmer to alter the behavior of the parser make syntax analysis an undecidable problem,  usually unchecked casts that may be used by the programmer to explicitly allow a normally disallowed operation between different types,  relieving the programmer from the need to write type annotations,  the programmer must explicitly write types at certain textual positions for example,  dynamically typed languages do not require the programmer to write explicit type annotations on expressions, it may seem odd to some professional programmers that c could be \"weakly,  the need for diverse programming languages arises from the diversity of contexts in which languages are used programs range from tiny scripts written by individual hobbyists to huge systems written by hundreds of programmers,  programmers range in expertise from novices who need simplicity above all else to experts who may be comfortable with considerable complexity,  programmers may simply differ in their tastes they may be accustomed to discussing problems and expressing them in a particular language,  features have been added that let programmers express ideas that are more remote from simple translation into underlying hardware instructions,  because programmers are less tied to the complexity of the computer,  their programs can do more computing with less effort from the programmer,  and cannot \"understand\" what code the programmer intended to write,  a programmer uses the abstractions present in the language to represent the concepts involved in a computation,  programming is the process by which programmers combine these primitives to compose new programs,  one language may occupy the greater number of programmer hours,  it can become quite difficult for an inexperienced programmer to find the right documentation',\n",
              " 'programming': 'a programming language is a system of notation for writing computer programs,  most programming languages are textbased formal languages,  the description of a programming language is usually split into the two components of syntax form and semantics meaning,  the c programming language is specified by an iso standard while other languages such as perl have a dominant implementation that is treated as a reference,  programming language theory is a subfield of computer science that deals with the design,  and classification of programming languages,  definitions there are many considerations when defining what constitutes a programming language,  computer languages vs programming languages the term computer language is sometimes used interchangeably with programming language,  one usage describes programming languages as a subset of computer languages,  markup languages are sometimes referred to as computer languages to emphasize that they are not meant to be used for programming,  the majority of practical programming languages are turing complete,  yet are often called programming languages,  some authors restrict the term \"programming language\" to turing complete languages, another usage regards programming languages as theoretical constructs for programming abstract machines,  reynolds emphasizes that formal specification languages are just as much programming languages as are the languages intended for execution,  he also argues that textual and even graphical input formats that affect the behavior of a computer are programming languages,  and remarks that ignorance of programming language concepts is the reason for many flaws in input formats,  a programming language involves a computer consequently,  programming languages are usually defined and studied this way,  programming languages differ from natural languages in that natural languages are only used for interaction between people,  while programming languages also allow humans to communicate instructions to machines,  are not usually considered programming languages,  programming languages may,  abstractions programming languages usually contain abstractions for defining and manipulating data structures or controlling the flow of execution,  the practical necessity that a programming language support adequate abstractions is expressed by the abstraction principle,  machine languages were later termed firstgeneration programming languages gl,  the next step was the development of the socalled secondgeneration programming languages gl or assembly languages,  the first highlevel programming languages,  or thirdgeneration programming languages gl,  an early highlevel programming language to be designed for a computer was plankalkül,  as a programming language,  the first code and compiler was developed in for the mark computer at the university of manchester and is considered to be the first compiled highlevel programming language,  it was the first widely used highlevel general purpose programming language to have a functional implementation, another early programming language was devised by grace hopper in the us,  she and her team wrote a specification for an english programming language and implemented a prototype,  refinement the increased use of highlevel languages introduced a requirement for lowlevel programming languages or system programming languages,  the period from the s to the late s brought the development of the major language paradigms now in use apl introduced array programming and influenced functional programming,  algol refined both structured procedural programming and the discipline of language specification the \"revised report on the algorithmic language algol \" became a model for how later language specifications were written,  was the first dynamically typed functional programming language,  simula was the first language designed to support objectoriented programming in the mid s,  c was developed between and as a system programming language for the unix operating system and remains popular,  was the first logic programming language,  pioneering statically typed functional programming languages,  and most modern programming languages count at least one of them in their ancestry,  the s and s also saw considerable debate over the merits of structured programming,  and whether programming languages should be designed to support it,  argued that goto statements should be eliminated from all \"higher level\" programming languages,  c++ combined objectoriented and systems programming,  a systems programming language derived from pascal and intended for use by defense contractors,  vast sums were spent investigating the socalled \"fifthgeneration\" languages that incorporated logic programming constructs,  one important trend in language design for programming largescale systems during the s was an increased focus on the use of modules or largescale organizational units of code,  which were often wedded to generic programming constructs,  java came to be used for serverside programming,  they were refinements of many existing languages and paradigms although their syntax was often based on the c family of programming languages,  programming language evolution continues,  fourthgeneration programming languages gl are computer programming languages that aim to provide a higher level of abstraction of the internal computer hardware details than gls,  fifthgeneration programming languages gl are programming languages based on solving problems using constraints given to the program,  elements all programming languages have some primitive building blocks for the description of data and the processes or transformations applied to them like the addition of two numbers or the selection of an item from a collection,  syntax a programming language\\'s surface form is known as its syntax,  most programming languages are purely textual they use sequences of text including words,  there are some programming languages which are more graphical in nature,  programming language syntax is usually defined using a combination of regular expressions for lexical structure and backus–naur form for grammatical structure,  the grammar needed to specify a programming language can be classified by its position in the chomsky hierarchy,  the syntax of most programming languages can be specified using a type grammar,  newer programming languages like java and c# have definite assignment analysis,  a significant amount of academic research went into formal semantics of programming languages,  results from this field of research have seen limited application to programming language design and implementation outside academia,  type system a type system defines how a programming language classifies values and expressions into types,  and in many programming languages dividing a number by a string has no meaning and will not be executed,  some programming languages allow for some types to be automatically converted to other types for example,  but they can mask programming errors,  standard library and runtime system most programming languages have an associated core library sometimes known as the \\'standard library\\',  design and implementation programming languages share properties with natural languages related to their purpose as vehicles for communication,  a significant difference is that a programming language can be fully described and studied in its entirety since it has a precise and finite definition,  they lack the precise and complete semantic definition that a programming language has,  many programming languages have been designed from scratch,  although there have been attempts to design one \"universal\" programming language that serves all purposes,  the need for diverse programming languages arises from the diversity of contexts in which languages are used programs range from tiny scripts written by individual hobbyists to huge systems written by hundreds of programmers, one common trend in the development of programming languages has been to add more ability to solve problems using a higher level of abstraction,  the earliest programming languages were tied very closely to the underlying hardware of the computer,  as new programming languages have developed,  natural language programming has been proposed as a way to eliminate the need for a specialized language for programming,  and dismissed natural language programming as \"foolish\",  a language\\'s designers and users must construct a number of artifacts that govern and enable the practice of programming,  specification the specification of a programming language is an artifact that the language users and the implementors can use to agree upon whether a piece of source code is a valid program in that language,  a programming language specification can take several forms,  implementation an implementation of a programming language provides a way to write programs in that language and execute them on one or more configurations of hardware and software,  two approaches to programming language implementation compilation and interpretation,  proprietary languages although most of the most commonly used programming languages have fully open specifications and implementations,  many programming languages exist only as proprietary programming languages with the implementation available only from a single vendor,  proprietary programming languages are commonly domain specific languages or internal scripting languages for a single product some proprietary languages are used only internally within a vendor,  some programming languages exist on the border between proprietary and open for example,  oracle corporation asserts proprietary rights to some aspects of the java programming language,  and microsoft\\'s c# programming language,  erlang was originally an ericsson\\'s internal programming language,  use thousands of different programming languages have been created,  individual software projects commonly use five programming languages or more, programming languages differ from most other forms of human expression in that they require a greater degree of precision and completeness,  which interleaves natural language with code written in a programming language,  a programming language provides a structured mechanism for defining pieces of data,  programming is the process by which programmers combine these primitives to compose new programs,  measuring language usage determining which is the most widely used programming language is difficult since the definition of usage varies by context, com reported the ten most popular programming languages as in descending order by overall popularity java,  flavors and implementations a dialect of a programming language or a data exchange language is a relatively small variation or extension of the language that does not change its intrinsic nature,  the basic programming language has many dialects,  taxonomies there is no overarching classification scheme for programming languages,  a given programming language does not usually have a single ancestor language,  programming languages divide into programming paradigms and a classification by intended domain of use,  with generalpurpose programming languages distinguished from domainspecific programming languages,  programming languages have been regarded as describing computation in terms of imperative sentences,  these are generally called imperative programming languages,  a great deal of research in programming languages has been aimed at blurring the distinction between a program as a set of instructions and a program as an assertion about the desired answer,  which is the main feature of declarative programming,  more refined paradigms include procedural programming,  objectoriented programming,  functional programming,  and logic programming some languages are hybrids of paradigms or multiparadigmatic,  programming languages might be considered general purpose,  system programming languages, a programming language may also be classified by factors unrelated to programming paradigm,  most programming languages use english language keywords',\n",
              " 'programming language': 'a programming language is a system of notation for writing computer programs,  most programming languages are textbased formal languages,  the description of a programming language is usually split into the two components of syntax form and semantics meaning,  the c programming language is specified by an iso standard while other languages such as perl have a dominant implementation that is treated as a reference,  programming language theory is a subfield of computer science that deals with the design,  and classification of programming languages,  definitions there are many considerations when defining what constitutes a programming language,  computer languages vs programming languages the term computer language is sometimes used interchangeably with programming language,  one usage describes programming languages as a subset of computer languages,  the majority of practical programming languages are turing complete,  yet are often called programming languages,  some authors restrict the term \"programming language\" to turing complete languages, another usage regards programming languages as theoretical constructs for programming abstract machines,  reynolds emphasizes that formal specification languages are just as much programming languages as are the languages intended for execution,  he also argues that textual and even graphical input formats that affect the behavior of a computer are programming languages,  and remarks that ignorance of programming language concepts is the reason for many flaws in input formats,  a programming language involves a computer consequently,  programming languages are usually defined and studied this way,  programming languages differ from natural languages in that natural languages are only used for interaction between people,  while programming languages also allow humans to communicate instructions to machines,  are not usually considered programming languages,  programming languages may,  abstractions programming languages usually contain abstractions for defining and manipulating data structures or controlling the flow of execution,  the practical necessity that a programming language support adequate abstractions is expressed by the abstraction principle,  machine languages were later termed firstgeneration programming languages gl,  the next step was the development of the socalled secondgeneration programming languages gl or assembly languages,  the first highlevel programming languages,  or thirdgeneration programming languages gl,  an early highlevel programming language to be designed for a computer was plankalkül,  as a programming language,  the first code and compiler was developed in for the mark computer at the university of manchester and is considered to be the first compiled highlevel programming language,  it was the first widely used highlevel general purpose programming language to have a functional implementation, another early programming language was devised by grace hopper in the us,  she and her team wrote a specification for an english programming language and implemented a prototype,  refinement the increased use of highlevel languages introduced a requirement for lowlevel programming languages or system programming languages,  was the first dynamically typed functional programming language,  c was developed between and as a system programming language for the unix operating system and remains popular,  was the first logic programming language,  pioneering statically typed functional programming languages,  and most modern programming languages count at least one of them in their ancestry,  and whether programming languages should be designed to support it,  argued that goto statements should be eliminated from all \"higher level\" programming languages,  a systems programming language derived from pascal and intended for use by defense contractors,  they were refinements of many existing languages and paradigms although their syntax was often based on the c family of programming languages,  programming language evolution continues,  fourthgeneration programming languages gl are computer programming languages that aim to provide a higher level of abstraction of the internal computer hardware details than gls,  fifthgeneration programming languages gl are programming languages based on solving problems using constraints given to the program,  elements all programming languages have some primitive building blocks for the description of data and the processes or transformations applied to them like the addition of two numbers or the selection of an item from a collection,  syntax a programming language\\'s surface form is known as its syntax,  most programming languages are purely textual they use sequences of text including words,  there are some programming languages which are more graphical in nature,  programming language syntax is usually defined using a combination of regular expressions for lexical structure and backus–naur form for grammatical structure,  the grammar needed to specify a programming language can be classified by its position in the chomsky hierarchy,  the syntax of most programming languages can be specified using a type grammar,  newer programming languages like java and c# have definite assignment analysis,  a significant amount of academic research went into formal semantics of programming languages,  results from this field of research have seen limited application to programming language design and implementation outside academia,  type system a type system defines how a programming language classifies values and expressions into types,  and in many programming languages dividing a number by a string has no meaning and will not be executed,  some programming languages allow for some types to be automatically converted to other types for example,  standard library and runtime system most programming languages have an associated core library sometimes known as the \\'standard library\\',  design and implementation programming languages share properties with natural languages related to their purpose as vehicles for communication,  a significant difference is that a programming language can be fully described and studied in its entirety since it has a precise and finite definition,  they lack the precise and complete semantic definition that a programming language has,  many programming languages have been designed from scratch,  although there have been attempts to design one \"universal\" programming language that serves all purposes,  the need for diverse programming languages arises from the diversity of contexts in which languages are used programs range from tiny scripts written by individual hobbyists to huge systems written by hundreds of programmers, one common trend in the development of programming languages has been to add more ability to solve problems using a higher level of abstraction,  the earliest programming languages were tied very closely to the underlying hardware of the computer,  as new programming languages have developed,  specification the specification of a programming language is an artifact that the language users and the implementors can use to agree upon whether a piece of source code is a valid program in that language,  a programming language specification can take several forms,  implementation an implementation of a programming language provides a way to write programs in that language and execute them on one or more configurations of hardware and software,  two approaches to programming language implementation compilation and interpretation,  proprietary languages although most of the most commonly used programming languages have fully open specifications and implementations,  many programming languages exist only as proprietary programming languages with the implementation available only from a single vendor,  proprietary programming languages are commonly domain specific languages or internal scripting languages for a single product some proprietary languages are used only internally within a vendor,  some programming languages exist on the border between proprietary and open for example,  oracle corporation asserts proprietary rights to some aspects of the java programming language,  and microsoft\\'s c# programming language,  erlang was originally an ericsson\\'s internal programming language,  use thousands of different programming languages have been created,  individual software projects commonly use five programming languages or more, programming languages differ from most other forms of human expression in that they require a greater degree of precision and completeness,  which interleaves natural language with code written in a programming language,  a programming language provides a structured mechanism for defining pieces of data,  measuring language usage determining which is the most widely used programming language is difficult since the definition of usage varies by context, com reported the ten most popular programming languages as in descending order by overall popularity java,  flavors and implementations a dialect of a programming language or a data exchange language is a relatively small variation or extension of the language that does not change its intrinsic nature,  the basic programming language has many dialects,  taxonomies there is no overarching classification scheme for programming languages,  a given programming language does not usually have a single ancestor language,  programming languages divide into programming paradigms and a classification by intended domain of use,  with generalpurpose programming languages distinguished from domainspecific programming languages,  programming languages have been regarded as describing computation in terms of imperative sentences,  these are generally called imperative programming languages,  a great deal of research in programming languages has been aimed at blurring the distinction between a program as a set of instructions and a program as an assertion about the desired answer,  programming languages might be considered general purpose,  system programming languages, a programming language may also be classified by factors unrelated to programming paradigm,  most programming languages use english language keywords',\n",
              " 'system programming languages': ' refinement the increased use of highlevel languages introduced a requirement for lowlevel programming languages or system programming languages,  system programming languages'}"
            ]
          },
          "metadata": {},
          "execution_count": 51
        }
      ]
    },
    {
      "cell_type": "code",
      "source": [],
      "metadata": {
        "id": "y2yR6BeS0wk5"
      },
      "execution_count": 51,
      "outputs": []
    },
    {
      "cell_type": "markdown",
      "source": [
        "**pipeline notebook \"13_Question_generation_run\"**"
      ],
      "metadata": {
        "id": "RI5uArbgmVGX"
      }
    },
    {
      "cell_type": "markdown",
      "source": [
        "##**PIPELINE**"
      ],
      "metadata": {
        "id": "3qZOFMTVdwJs"
      }
    },
    {
      "cell_type": "code",
      "source": [
        "# !pip install pipelines"
      ],
      "metadata": {
        "colab": {
          "base_uri": "https://localhost:8080/"
        },
        "id": "c2i8m33Edvpj",
        "outputId": "ff538a69-66b8-46ea-b365-4fe052d88bff"
      },
      "execution_count": 52,
      "outputs": [
        {
          "output_type": "stream",
          "name": "stdout",
          "text": [
            "Looking in indexes: https://pypi.org/simple, https://us-python.pkg.dev/colab-wheels/public/simple/\n",
            "Collecting pipelines\n",
            "  Downloading pipelines-0.0.14.tar.gz (161 kB)\n",
            "\u001b[K     |████████████████████████████████| 161 kB 5.6 MB/s \n",
            "\u001b[?25hCollecting futures==3.0.5\n",
            "  Downloading futures-3.0.5.tar.gz (25 kB)\n",
            "\u001b[33mWARNING: Discarding https://files.pythonhosted.org/packages/55/db/97c1ca37edab586a1ae03d6892b6633d8eaa23b23ac40c7e5bbc55423c78/futures-3.0.5.tar.gz#sha256=0542525145d5afc984c88f914a0c85c77527f65946617edb5274f72406f981df (from https://pypi.org/simple/futures/). Command errored out with exit status 1: python setup.py egg_info Check the logs for full command output.\u001b[0m\n",
            "Collecting pipelines\n",
            "  Downloading pipelines-0.0.12.tar.gz (161 kB)\n",
            "\u001b[K     |████████████████████████████████| 161 kB 49.6 MB/s \n",
            "\u001b[?25h  Downloading pipelines-0.0.11.tar.gz (161 kB)\n",
            "\u001b[K     |████████████████████████████████| 161 kB 54.8 MB/s \n",
            "\u001b[?25h  Downloading pipelines-0.0.10.tar.gz (159 kB)\n",
            "\u001b[K     |████████████████████████████████| 159 kB 5.8 MB/s \n",
            "\u001b[?25h  Downloading pipelines-0.0.9.tar.gz (159 kB)\n",
            "\u001b[K     |████████████████████████████████| 159 kB 55.9 MB/s \n",
            "\u001b[?25h  Downloading pipelines-0.0.4.tar.gz (10 kB)\n",
            "  Downloading pipelines-0.0.3.tar.gz (9.6 kB)\n",
            "  Downloading pipelines-0.0.1.tar.gz (8.7 kB)\n",
            "Building wheels for collected packages: pipelines\n",
            "  Building wheel for pipelines (setup.py) ... \u001b[?25l\u001b[?25hdone\n",
            "  Created wheel for pipelines: filename=pipelines-0.0.1-py3-none-any.whl size=15783 sha256=c984a755cfa47a0065af8162075c5c6ef02654f0c8e6072f30205709a4e6c19e\n",
            "  Stored in directory: /root/.cache/pip/wheels/c0/8a/50/564066c923abb3bfbafe1cde0d19607085ab4c66f572c1b169\n",
            "Successfully built pipelines\n",
            "Installing collected packages: pipelines\n",
            "Successfully installed pipelines-0.0.1\n"
          ]
        }
      ]
    },
    {
      "cell_type": "code",
      "source": [
        "# from pipelines import pipeline\n",
        "# nlp = pipeline(\"question-generation\", model=\"valhalla/t5-base-qg-hl\")"
      ],
      "metadata": {
        "id": "k9AYxGr_c9UH"
      },
      "execution_count": 53,
      "outputs": []
    },
    {
      "cell_type": "code",
      "source": [
        "# document_assembler = nlp.DocumentAssembler().setInputCol(\"text\").setOutputCol(\"documents\")\n",
        "\n",
        "# t5 = nlp.T5Transformer().pretrained(\"t5_question_generation_small\").setTask(\"\").setMaxOutputLength(200).setInputCols([\"documents\"]).setOutputCol(\"question\")\n",
        "\n",
        "# # data_df = spark.createDataFrame([[\"EMV will pay\"]]).toDF(\"text\")\n",
        "\n",
        "# pipeline = Pipeline().setStages([document_assembler, t5])\n",
        "# results = pipeline.fit(sentences_map).transform(sentences_map)\n",
        "\n",
        "# results.select(\"question.result\").show(truncate=False)"
      ],
      "metadata": {
        "id": "NJRxcBsbN3_S"
      },
      "execution_count": 54,
      "outputs": []
    },
    {
      "cell_type": "code",
      "source": [
        "# val documentAssembler = new nlp.DocumentAssembler().setInputCol(\"text\").setOutputCol(\"documents\")\n",
        "\n",
        "# val t5 = nlp.T5Transformer.pretrained(\"t5_question_generation_small\").setTask(\"\").setMaxOutputLength(200).setInputCols(\"documents\").setOutputCol(\"question\")\n",
        "\n",
        "# val pipeline = new Pipeline().setStages(Array(documentAssembler, t5))\n",
        "\n",
        "# val data = Seq(\"EMV will pay\").toDF(\"text\")\n",
        "\n",
        "# val result = pipeline.fit(data).transform(data)\n",
        "\n",
        "# result.select(\"question.result\").show(false)"
      ],
      "metadata": {
        "id": "8S11uIBZcyna"
      },
      "execution_count": 55,
      "outputs": []
    },
    {
      "cell_type": "markdown",
      "source": [
        "##**T5 model**"
      ],
      "metadata": {
        "id": "P8zojpZ0NMXT"
      }
    },
    {
      "cell_type": "code",
      "source": [
        "!pip install --quiet transformers==4.5.0\n",
        "!pip install --quiet pytorch-lightning==1.2.7\n",
        " "
      ],
      "metadata": {
        "id": "rjObuMLhN5tj",
        "colab": {
          "base_uri": "https://localhost:8080/"
        },
        "outputId": "ec4a7859-5aec-49ed-ddd3-000dff9790a4"
      },
      "execution_count": 56,
      "outputs": [
        {
          "output_type": "stream",
          "name": "stdout",
          "text": [
            "\u001b[K     |████████████████████████████████| 2.1 MB 5.2 MB/s \n",
            "\u001b[K     |████████████████████████████████| 880 kB 43.9 MB/s \n",
            "\u001b[K     |████████████████████████████████| 3.3 MB 35.0 MB/s \n",
            "\u001b[?25h  Building wheel for sacremoses (setup.py) ... \u001b[?25l\u001b[?25hdone\n",
            "\u001b[K     |████████████████████████████████| 830 kB 5.2 MB/s \n",
            "\u001b[K     |████████████████████████████████| 529 kB 40.7 MB/s \n",
            "\u001b[K     |████████████████████████████████| 829 kB 16.6 MB/s \n",
            "\u001b[?25h  Building wheel for future (setup.py) ... \u001b[?25l\u001b[?25hdone\n"
          ]
        }
      ]
    },
    {
      "cell_type": "code",
      "source": [
        "# !pip install --upgrade pip\n",
        "# !pip install tensorflow==2.0.0-rc1\n",
        "# !pip3 install --quiet tensorflow-hub\n",
        "# !pip3 install --quiet seaborn\n",
        "# !pip3 install sentencepiece\n",
        "# !pip3 install tf_sentencepiece"
      ],
      "metadata": {
        "id": "qj1-E-BHONZm"
      },
      "execution_count": 57,
      "outputs": []
    },
    {
      "cell_type": "code",
      "source": [
        "! pip install sentencepiece"
      ],
      "metadata": {
        "colab": {
          "base_uri": "https://localhost:8080/"
        },
        "id": "c6TREsG3OOIe",
        "outputId": "51464be6-5834-4889-f2ad-f224579653e0"
      },
      "execution_count": 58,
      "outputs": [
        {
          "output_type": "stream",
          "name": "stdout",
          "text": [
            "Looking in indexes: https://pypi.org/simple, https://us-python.pkg.dev/colab-wheels/public/simple/\n",
            "Collecting sentencepiece\n",
            "  Downloading sentencepiece-0.1.97-cp37-cp37m-manylinux_2_17_x86_64.manylinux2014_x86_64.whl (1.3 MB)\n",
            "\u001b[K     |████████████████████████████████| 1.3 MB 5.3 MB/s \n",
            "\u001b[?25hInstalling collected packages: sentencepiece\n",
            "Successfully installed sentencepiece-0.1.97\n"
          ]
        }
      ]
    },
    {
      "cell_type": "code",
      "source": [
        "! git clone https://github.com/google/sentencepiece.git \n",
        "! cd sentencepiece\n",
        "! mkdir build\n",
        "! cd build\n",
        "! cmake .. -DSPM_ENABLE_SHARED=OFF -DCMAKE_INSTALL_PREFIX=./root\n",
        "! make install\n",
        "! cd ../python\n",
        "! python setup.py bdist_wheel\n",
        "! pip install dist/sentencepiece*.whl"
      ],
      "metadata": {
        "colab": {
          "base_uri": "https://localhost:8080/"
        },
        "id": "6j_YOmEBOneM",
        "outputId": "6db82af6-aef5-4af9-af09-887c204aac05"
      },
      "execution_count": 59,
      "outputs": [
        {
          "output_type": "stream",
          "name": "stdout",
          "text": [
            "Cloning into 'sentencepiece'...\n",
            "remote: Enumerating objects: 4519, done.\u001b[K\n",
            "remote: Counting objects: 100% (1142/1142), done.\u001b[K\n",
            "remote: Compressing objects: 100% (216/216), done.\u001b[K\n",
            "remote: Total 4519 (delta 998), reused 947 (delta 921), pack-reused 3377\u001b[K\n",
            "Receiving objects: 100% (4519/4519), 26.62 MiB | 21.48 MiB/s, done.\n",
            "Resolving deltas: 100% (3147/3147), done.\n",
            "\u001b[0mCMake Error: The source directory \"/\" does not appear to contain CMakeLists.txt.\n",
            "Specify --help for usage, or press the help button on the CMake GUI.\u001b[0m\n",
            "make: *** No rule to make target 'install'.  Stop.\n",
            "/bin/bash: line 0: cd: ../python: No such file or directory\n",
            "python3: can't open file 'setup.py': [Errno 2] No such file or directory\n",
            "\u001b[33mWARNING: Requirement 'dist/sentencepiece*.whl' looks like a filename, but the file does not exist\u001b[0m\n",
            "\u001b[31mERROR: sentencepiece*.whl is not a valid wheel filename.\u001b[0m\n"
          ]
        }
      ]
    },
    {
      "cell_type": "markdown",
      "source": [
        "##**t5 tokenizer**"
      ],
      "metadata": {
        "id": "glsT5sHb3FOY"
      }
    },
    {
      "cell_type": "code",
      "source": [
        "for i in range(0,len(final_keyphrase)):\n",
        "  print(final_keyphrase[i])"
      ],
      "metadata": {
        "colab": {
          "base_uri": "https://localhost:8080/"
        },
        "id": "E8DtaCFzqdfN",
        "outputId": "b1956b67-b78b-46fb-d653-0f8188895b09"
      },
      "execution_count": 60,
      "outputs": [
        {
          "output_type": "stream",
          "name": "stdout",
          "text": [
            "computer language\n",
            "computer programming languages\n",
            "computer programs\n",
            "formal languages\n",
            "implementation programming languages\n",
            "programmer\n",
            "programming\n",
            "programming language\n",
            "system programming languages\n"
          ]
        }
      ]
    },
    {
      "cell_type": "code",
      "source": [
        "from transformers import AutoModelWithLMHead, AutoTokenizer\n",
        "import sentencepiece\n",
        "from transformers import AutoTokenizer\n",
        "from transformers import AutoConfig, AutoModel\n",
        "from transformers import AutoTokenizer, T5ForConditionalGeneration\n",
        "\n",
        "model_name = \"mrm8488/t5-base-finetuned-question-generation-ap\" # you can specify the model size here\n",
        "tokenizer = AutoTokenizer.from_pretrained(model_name)\n",
        "model = T5ForConditionalGeneration.from_pretrained(model_name)\n",
        "\n",
        "# tokenizer = AutoTokenizer.from_pretrained(\"iarfmoose/t5-base-question-generator\")\n",
        "# model = AutoModelWithLMHead.from_pretrained(\"iarfmoose/t5-base-question-generator\")\n",
        "\n",
        "def get_question(answer, context, max_length=64):\n",
        "  input_text = \"answer: %s  context: %s </s>\" % (answer, context)\n",
        "  features = tokenizer([input_text], return_tensors='pt')\n",
        "\n",
        "  output = model.generate(input_ids=features['input_ids'], \n",
        "               attention_mask=features['attention_mask'],\n",
        "               max_length=max_length)\n",
        "\n",
        "  return tokenizer.decode(output[0])\n",
        "\n",
        "for key_ph in final_keyphrase:\n",
        "  print('Key_phrase :' + key_ph + '\\nQuestion: '+get_question(key_ph,sentences_map[key_ph]))\n",
        "\n",
        "# context = \"Manuel has created RuPERTa-base with the support of HF-Transformers and Google\"\n",
        "# answer = \"Manuel\"\n",
        "\n",
        "# get_question(answer, context)"
      ],
      "metadata": {
        "colab": {
          "base_uri": "https://localhost:8080/",
          "height": 0,
          "referenced_widgets": [
            "9c1da11ec90d4b3eb5a8ad3ba1029a2c",
            "8f994fdf570c4ca79cd03861e7d3ca3a",
            "abe3fa87e9c74893b8fce9c14630fd77",
            "28b5c973cb2c45a2938bb8f764e1a7f8",
            "769cc4b286dd41d3a6cca99462125a7b",
            "a0bcb69a00d44964b1800467746779fb",
            "396a59387df9459d8f2ce80d9845036b",
            "a64f90773d4c4931ae3c241109a4d89e",
            "0656b5ec2cc144168ee953412506953b",
            "19f56093e21642bb9acc56490584cfd5",
            "66aaaedb68a1457fa5ad23c8162af90a",
            "054a3adf53f8431ab7833c1d8de24e32",
            "a8ea4486b3e54e73a9181540604377ba",
            "e730efe3af29454eb8c3a7cdc65b8270",
            "5d9ef3af23234979bcc1df2a2cd0d7b3",
            "53c2bf6678bb467ea54bf93100f787e1",
            "43ba65f08d1b43dba71da2d578c6f69e",
            "ec105440dce0435eb98ea6468a3e3c53",
            "061261ea634145c7ab3259f8f5da3059",
            "0a91ba6ce4bb45d1ad0248826252bb57",
            "440aebcf0b5b4b2681c5098a41c0575e",
            "b8d2faf3705147e98ef9af6e0708f17d",
            "5427a997687143f8a11f217457d7b764",
            "d64f4eda1b01432ca22b8acfc5255afa",
            "6db4a3929e8248b38d318ae2e36af9bd",
            "5cc93eea14e54020a0255689b9e7698b",
            "c17baefc8c074505abd1959299d54c3a",
            "25ee713d43de467e8d32e109ef6b4228",
            "b6c23bb89a0943d78ac24c03dc024bac",
            "d035c95f3a684a0ca51af52cc68b61da",
            "b22a5b90f7ca4dae85597ba7d2fd34ff",
            "39a80a73674448eba636bb620a052bbe",
            "8877099300d941c0b4f8869417fc67f1",
            "8418e861d3654d4688d3dfec222c314d",
            "a0f905a475174997bebd21b358181007",
            "10fe6421c6624f86945c15d302f5a72a",
            "665f359bc1094323aea2c18f69086cdb",
            "777838627fcf40c788767e15ff6b3540",
            "ae4c80dcb17d42fb8270a71b6a273d9f",
            "bd6089c513d643a7b2adae0738c7255e",
            "bd513414e47e4ece9fdda100e214e4e3",
            "21f6ecfa63ed43e2bb145fba56493042",
            "0170f38cfd2943929997b6c1a2a8c2f7",
            "487520ee352d4579a8e1a359e1dd2518",
            "51ade7ff86b84141adebf8043aea9230",
            "eb40fa6578fd4453a2cc9dd885306704",
            "d850303179fa4c7cb92a6148abe07435",
            "6a72d09a746841c2ad95aca2f96c734b",
            "fb6150781c7f48c9a8c3270fac339925",
            "8455e0e272f44090a071a46d315d14b2",
            "73a7b0169e6c474c8cd12f3d1e48e265",
            "87d975ef81d542d1bc188d3a68359c63",
            "ae4430d2c1ff4fecae74f5e6cfb81bca",
            "d5ca7c98b21e41d190aef32d07bcb9fd",
            "6d93cc9d13a14aa7ba7bb45581b1f478"
          ]
        },
        "id": "7Y6pT5TVNOov",
        "outputId": "18a34c18-4c2f-4e70-978f-c7077b1f3c5e"
      },
      "execution_count": 61,
      "outputs": [
        {
          "output_type": "display_data",
          "data": {
            "text/plain": [
              "Downloading:   0%|          | 0.00/1.23k [00:00<?, ?B/s]"
            ],
            "application/vnd.jupyter.widget-view+json": {
              "version_major": 2,
              "version_minor": 0,
              "model_id": "9c1da11ec90d4b3eb5a8ad3ba1029a2c"
            }
          },
          "metadata": {}
        },
        {
          "output_type": "stream",
          "name": "stderr",
          "text": [
            "The `xla_device` argument has been deprecated in v4.4.0 of Transformers. It is ignored and you can safely remove it from your `config.json` file.\n"
          ]
        },
        {
          "output_type": "display_data",
          "data": {
            "text/plain": [
              "Downloading:   0%|          | 0.00/792k [00:00<?, ?B/s]"
            ],
            "application/vnd.jupyter.widget-view+json": {
              "version_major": 2,
              "version_minor": 0,
              "model_id": "054a3adf53f8431ab7833c1d8de24e32"
            }
          },
          "metadata": {}
        },
        {
          "output_type": "display_data",
          "data": {
            "text/plain": [
              "Downloading:   0%|          | 0.00/1.79k [00:00<?, ?B/s]"
            ],
            "application/vnd.jupyter.widget-view+json": {
              "version_major": 2,
              "version_minor": 0,
              "model_id": "5427a997687143f8a11f217457d7b764"
            }
          },
          "metadata": {}
        },
        {
          "output_type": "display_data",
          "data": {
            "text/plain": [
              "Downloading:   0%|          | 0.00/25.0 [00:00<?, ?B/s]"
            ],
            "application/vnd.jupyter.widget-view+json": {
              "version_major": 2,
              "version_minor": 0,
              "model_id": "8418e861d3654d4688d3dfec222c314d"
            }
          },
          "metadata": {}
        },
        {
          "output_type": "stream",
          "name": "stderr",
          "text": [
            "The `xla_device` argument has been deprecated in v4.4.0 of Transformers. It is ignored and you can safely remove it from your `config.json` file.\n"
          ]
        },
        {
          "output_type": "display_data",
          "data": {
            "text/plain": [
              "Downloading:   0%|          | 0.00/1.19G [00:00<?, ?B/s]"
            ],
            "application/vnd.jupyter.widget-view+json": {
              "version_major": 2,
              "version_minor": 0,
              "model_id": "51ade7ff86b84141adebf8043aea9230"
            }
          },
          "metadata": {}
        },
        {
          "output_type": "stream",
          "name": "stdout",
          "text": [
            "Key_phrase :computer language\n",
            "Question: <pad> question: What is the term for a kind of what?</s>\n",
            "Key_phrase :computer programming languages\n",
            "Question: <pad> question: What are gls?</s>\n",
            "Key_phrase :computer programs\n",
            "Question: <pad> question: What is a programming language used for writing?</s>\n",
            "Key_phrase :formal languages\n",
            "Question: <pad> question: What type of languages are most programming languages?</s>\n",
            "Key_phrase :implementation programming languages\n",
            "Question: <pad> question: What share properties with natural languages?</s>\n"
          ]
        },
        {
          "output_type": "stream",
          "name": "stderr",
          "text": [
            "Token indices sequence length is longer than the specified maximum sequence length for this model (2162 > 512). Running this sequence through the model will result in indexing errors\n"
          ]
        },
        {
          "output_type": "stream",
          "name": "stdout",
          "text": [
            "Key_phrase :programmer\n",
            "Question: <pad> question: Who is the person who wrote the algorithm?</s>\n",
            "Key_phrase :programming\n",
            "Question: <pad> question: What is the process by which programmers combine these primitives to compose new programs?</s>\n",
            "Key_phrase :programming language\n",
            "Question: <pad> question: What is a system of notation for writing computer programs?</s>\n",
            "Key_phrase :system programming languages\n",
            "Question: <pad> question: What is another name for lowlevel programming languages?</s>\n"
          ]
        }
      ]
    },
    {
      "cell_type": "markdown",
      "source": [
        "**add question in dictionary**"
      ],
      "metadata": {
        "id": "kJhfZ1e_ths5"
      }
    },
    {
      "cell_type": "code",
      "source": [
        "Questions = []\n",
        "for i in range(0,len(final_keyphrase)):\n",
        "  Ques = get_question(final_keyphrase[i],sentences_map[final_keyphrase[i]]).split(': ')\n",
        "  Ques = Ques[1].split('<')\n",
        "  Ques = Ques[0]\n",
        "  Questions.append(Ques)"
      ],
      "metadata": {
        "id": "mKRH7CyaqM2F"
      },
      "execution_count": 62,
      "outputs": []
    },
    {
      "cell_type": "code",
      "source": [
        "Questions"
      ],
      "metadata": {
        "colab": {
          "base_uri": "https://localhost:8080/"
        },
        "id": "eoOT7XfzsPXK",
        "outputId": "58299309-e5b2-41ac-daee-4d63d4b509e3"
      },
      "execution_count": 63,
      "outputs": [
        {
          "output_type": "execute_result",
          "data": {
            "text/plain": [
              "['What is the term for a kind of what?',\n",
              " 'What are gls?',\n",
              " 'What is a programming language used for writing?',\n",
              " 'What type of languages are most programming languages?',\n",
              " 'What share properties with natural languages?',\n",
              " 'Who is the person who wrote the algorithm?',\n",
              " 'What is the process by which programmers combine these primitives to compose new programs?',\n",
              " 'What is a system of notation for writing computer programs?',\n",
              " 'What is another name for lowlevel programming languages?']"
            ]
          },
          "metadata": {},
          "execution_count": 63
        }
      ]
    },
    {
      "cell_type": "code",
      "source": [
        "Questions[0]"
      ],
      "metadata": {
        "colab": {
          "base_uri": "https://localhost:8080/",
          "height": 0
        },
        "id": "exwpeEqror1v",
        "outputId": "d07634af-2841-486a-9091-656023556f70"
      },
      "execution_count": 64,
      "outputs": [
        {
          "output_type": "execute_result",
          "data": {
            "text/plain": [
              "'What is the term for a kind of what?'"
            ],
            "application/vnd.google.colaboratory.intrinsic+json": {
              "type": "string"
            }
          },
          "metadata": {},
          "execution_count": 64
        }
      ]
    },
    {
      "cell_type": "markdown",
      "source": [
        "##**CSV File**"
      ],
      "metadata": {
        "id": "x5Ovc-ogm09G"
      }
    },
    {
      "cell_type": "code",
      "source": [
        "import csv \n",
        "    \n",
        "# field names \n",
        "fields = [\"Question Using T5 Model\",\"Answer (Key_phrases)\", \"Context\"]\n",
        "rows = []    \n",
        "i = 0\n",
        "# data rows of csv file \n",
        "for key_ph in final_keyphrase:\n",
        "  rows.append([[Questions[i]], [key_ph] , [sentences_map[key_ph]]])\n",
        "  i+=1\n",
        "\n",
        "    \n",
        "# name of csv file \n",
        "filename = \"/content/NLP.csv\"\n",
        "    \n",
        "# writing to csv file \n",
        "with open(filename, 'w') as csvfile: \n",
        "    # creating a csv writer object \n",
        "    csvwriter = csv.writer(csvfile) \n",
        "        \n",
        "    # writing the fields \n",
        "    csvwriter.writerow(fields) \n",
        "        \n",
        "    # writing the data rows \n",
        "    csvwriter.writerows(rows)"
      ],
      "metadata": {
        "id": "qUvjORpUnDmc"
      },
      "execution_count": 65,
      "outputs": []
    },
    {
      "cell_type": "code",
      "source": [
        "import pandas as pd\n",
        "df = pd.read_csv('/content/NLP.csv')\n",
        "df"
      ],
      "metadata": {
        "colab": {
          "base_uri": "https://localhost:8080/",
          "height": 332
        },
        "id": "Grg6WbK6m0dI",
        "outputId": "5078900b-f1c9-4ae4-a512-e7a8522b006f"
      },
      "execution_count": 66,
      "outputs": [
        {
          "output_type": "execute_result",
          "data": {
            "text/plain": [
              "                             Question Using T5 Model  \\\n",
              "0           ['What is the term for a kind of what?']   \n",
              "1                                  ['What are gls?']   \n",
              "2  ['What is a programming language used for writ...   \n",
              "3  ['What type of languages are most programming ...   \n",
              "4  ['What share properties with natural languages?']   \n",
              "5     ['Who is the person who wrote the algorithm?']   \n",
              "6  ['What is the process by which programmers com...   \n",
              "7  ['What is a system of notation for writing com...   \n",
              "8  ['What is another name for lowlevel programmin...   \n",
              "\n",
              "                       Answer (Key_phrases)  \\\n",
              "0                     ['computer language']   \n",
              "1        ['computer programming languages']   \n",
              "2                     ['computer programs']   \n",
              "3                      ['formal languages']   \n",
              "4  ['implementation programming languages']   \n",
              "5                            ['programmer']   \n",
              "6                           ['programming']   \n",
              "7                  ['programming language']   \n",
              "8          ['system programming languages']   \n",
              "\n",
              "                                             Context  \n",
              "0  [' they are a kind of computer language,  comp...  \n",
              "1  [' fourthgeneration programming languages gl a...  \n",
              "2  ['a programming language is a system of notati...  \n",
              "3  [' most programming languages are textbased fo...  \n",
              "4  [' design and implementation programming langu...  \n",
              "5  [' this principle is sometimes formulated as a...  \n",
              "6  ['a programming language is a system of notati...  \n",
              "7  ['a programming language is a system of notati...  \n",
              "8  [' refinement the increased use of highlevel l...  "
            ],
            "text/html": [
              "\n",
              "  <div id=\"df-0e574fe9-487d-4c4f-a324-9956c31a0ac7\">\n",
              "    <div class=\"colab-df-container\">\n",
              "      <div>\n",
              "<style scoped>\n",
              "    .dataframe tbody tr th:only-of-type {\n",
              "        vertical-align: middle;\n",
              "    }\n",
              "\n",
              "    .dataframe tbody tr th {\n",
              "        vertical-align: top;\n",
              "    }\n",
              "\n",
              "    .dataframe thead th {\n",
              "        text-align: right;\n",
              "    }\n",
              "</style>\n",
              "<table border=\"1\" class=\"dataframe\">\n",
              "  <thead>\n",
              "    <tr style=\"text-align: right;\">\n",
              "      <th></th>\n",
              "      <th>Question Using T5 Model</th>\n",
              "      <th>Answer (Key_phrases)</th>\n",
              "      <th>Context</th>\n",
              "    </tr>\n",
              "  </thead>\n",
              "  <tbody>\n",
              "    <tr>\n",
              "      <th>0</th>\n",
              "      <td>['What is the term for a kind of what?']</td>\n",
              "      <td>['computer language']</td>\n",
              "      <td>[' they are a kind of computer language,  comp...</td>\n",
              "    </tr>\n",
              "    <tr>\n",
              "      <th>1</th>\n",
              "      <td>['What are gls?']</td>\n",
              "      <td>['computer programming languages']</td>\n",
              "      <td>[' fourthgeneration programming languages gl a...</td>\n",
              "    </tr>\n",
              "    <tr>\n",
              "      <th>2</th>\n",
              "      <td>['What is a programming language used for writ...</td>\n",
              "      <td>['computer programs']</td>\n",
              "      <td>['a programming language is a system of notati...</td>\n",
              "    </tr>\n",
              "    <tr>\n",
              "      <th>3</th>\n",
              "      <td>['What type of languages are most programming ...</td>\n",
              "      <td>['formal languages']</td>\n",
              "      <td>[' most programming languages are textbased fo...</td>\n",
              "    </tr>\n",
              "    <tr>\n",
              "      <th>4</th>\n",
              "      <td>['What share properties with natural languages?']</td>\n",
              "      <td>['implementation programming languages']</td>\n",
              "      <td>[' design and implementation programming langu...</td>\n",
              "    </tr>\n",
              "    <tr>\n",
              "      <th>5</th>\n",
              "      <td>['Who is the person who wrote the algorithm?']</td>\n",
              "      <td>['programmer']</td>\n",
              "      <td>[' this principle is sometimes formulated as a...</td>\n",
              "    </tr>\n",
              "    <tr>\n",
              "      <th>6</th>\n",
              "      <td>['What is the process by which programmers com...</td>\n",
              "      <td>['programming']</td>\n",
              "      <td>['a programming language is a system of notati...</td>\n",
              "    </tr>\n",
              "    <tr>\n",
              "      <th>7</th>\n",
              "      <td>['What is a system of notation for writing com...</td>\n",
              "      <td>['programming language']</td>\n",
              "      <td>['a programming language is a system of notati...</td>\n",
              "    </tr>\n",
              "    <tr>\n",
              "      <th>8</th>\n",
              "      <td>['What is another name for lowlevel programmin...</td>\n",
              "      <td>['system programming languages']</td>\n",
              "      <td>[' refinement the increased use of highlevel l...</td>\n",
              "    </tr>\n",
              "  </tbody>\n",
              "</table>\n",
              "</div>\n",
              "      <button class=\"colab-df-convert\" onclick=\"convertToInteractive('df-0e574fe9-487d-4c4f-a324-9956c31a0ac7')\"\n",
              "              title=\"Convert this dataframe to an interactive table.\"\n",
              "              style=\"display:none;\">\n",
              "        \n",
              "  <svg xmlns=\"http://www.w3.org/2000/svg\" height=\"24px\"viewBox=\"0 0 24 24\"\n",
              "       width=\"24px\">\n",
              "    <path d=\"M0 0h24v24H0V0z\" fill=\"none\"/>\n",
              "    <path d=\"M18.56 5.44l.94 2.06.94-2.06 2.06-.94-2.06-.94-.94-2.06-.94 2.06-2.06.94zm-11 1L8.5 8.5l.94-2.06 2.06-.94-2.06-.94L8.5 2.5l-.94 2.06-2.06.94zm10 10l.94 2.06.94-2.06 2.06-.94-2.06-.94-.94-2.06-.94 2.06-2.06.94z\"/><path d=\"M17.41 7.96l-1.37-1.37c-.4-.4-.92-.59-1.43-.59-.52 0-1.04.2-1.43.59L10.3 9.45l-7.72 7.72c-.78.78-.78 2.05 0 2.83L4 21.41c.39.39.9.59 1.41.59.51 0 1.02-.2 1.41-.59l7.78-7.78 2.81-2.81c.8-.78.8-2.07 0-2.86zM5.41 20L4 18.59l7.72-7.72 1.47 1.35L5.41 20z\"/>\n",
              "  </svg>\n",
              "      </button>\n",
              "      \n",
              "  <style>\n",
              "    .colab-df-container {\n",
              "      display:flex;\n",
              "      flex-wrap:wrap;\n",
              "      gap: 12px;\n",
              "    }\n",
              "\n",
              "    .colab-df-convert {\n",
              "      background-color: #E8F0FE;\n",
              "      border: none;\n",
              "      border-radius: 50%;\n",
              "      cursor: pointer;\n",
              "      display: none;\n",
              "      fill: #1967D2;\n",
              "      height: 32px;\n",
              "      padding: 0 0 0 0;\n",
              "      width: 32px;\n",
              "    }\n",
              "\n",
              "    .colab-df-convert:hover {\n",
              "      background-color: #E2EBFA;\n",
              "      box-shadow: 0px 1px 2px rgba(60, 64, 67, 0.3), 0px 1px 3px 1px rgba(60, 64, 67, 0.15);\n",
              "      fill: #174EA6;\n",
              "    }\n",
              "\n",
              "    [theme=dark] .colab-df-convert {\n",
              "      background-color: #3B4455;\n",
              "      fill: #D2E3FC;\n",
              "    }\n",
              "\n",
              "    [theme=dark] .colab-df-convert:hover {\n",
              "      background-color: #434B5C;\n",
              "      box-shadow: 0px 1px 3px 1px rgba(0, 0, 0, 0.15);\n",
              "      filter: drop-shadow(0px 1px 2px rgba(0, 0, 0, 0.3));\n",
              "      fill: #FFFFFF;\n",
              "    }\n",
              "  </style>\n",
              "\n",
              "      <script>\n",
              "        const buttonEl =\n",
              "          document.querySelector('#df-0e574fe9-487d-4c4f-a324-9956c31a0ac7 button.colab-df-convert');\n",
              "        buttonEl.style.display =\n",
              "          google.colab.kernel.accessAllowed ? 'block' : 'none';\n",
              "\n",
              "        async function convertToInteractive(key) {\n",
              "          const element = document.querySelector('#df-0e574fe9-487d-4c4f-a324-9956c31a0ac7');\n",
              "          const dataTable =\n",
              "            await google.colab.kernel.invokeFunction('convertToInteractive',\n",
              "                                                     [key], {});\n",
              "          if (!dataTable) return;\n",
              "\n",
              "          const docLinkHtml = 'Like what you see? Visit the ' +\n",
              "            '<a target=\"_blank\" href=https://colab.research.google.com/notebooks/data_table.ipynb>data table notebook</a>'\n",
              "            + ' to learn more about interactive tables.';\n",
              "          element.innerHTML = '';\n",
              "          dataTable['output_type'] = 'display_data';\n",
              "          await google.colab.output.renderOutput(dataTable, element);\n",
              "          const docLink = document.createElement('div');\n",
              "          docLink.innerHTML = docLinkHtml;\n",
              "          element.appendChild(docLink);\n",
              "        }\n",
              "      </script>\n",
              "    </div>\n",
              "  </div>\n",
              "  "
            ]
          },
          "metadata": {},
          "execution_count": 66
        }
      ]
    },
    {
      "cell_type": "code",
      "source": [
        "# # Import generic wrappers\n",
        "# from transformers import AutoModel, AutoTokenizer \n",
        "\n",
        "\n",
        "# # Define the model repo\n",
        "# model_name = \"iarfmoose/t5-base-question-generator\" \n",
        "\n",
        "\n",
        "# # Download pytorch model\n",
        "# model = AutoModel.from_pretrained(model_name)\n",
        "# tokenizer = AutoTokenizer.from_pretrained(model_name)\n",
        "\n",
        "\n",
        "# # Transform input tokens \n",
        "# inputs = tokenizer(\"Hello world!\", return_tensors=\"pt\")\n",
        "# # inputs\n",
        "# # Model apply\n",
        "# outputs = model(**inputs)"
      ],
      "metadata": {
        "id": "R7IW39P1iUVx"
      },
      "execution_count": null,
      "outputs": []
    },
    {
      "cell_type": "markdown",
      "source": [
        "##**Allen NLP in notebook :**"
      ],
      "metadata": {
        "id": "xJQ5ZPcyo_uN"
      }
    },
    {
      "cell_type": "markdown",
      "source": [
        "##**AllenNLP**"
      ],
      "metadata": {
        "id": "tdd0Da9iEGdt"
      }
    },
    {
      "cell_type": "code",
      "source": [
        "# !pip install allennlp==2.1.0 allennlp-models==2.1.0"
      ],
      "metadata": {
        "id": "2InvDrZ7ERYv"
      },
      "execution_count": null,
      "outputs": []
    },
    {
      "cell_type": "code",
      "source": [
        "# !echo '{\"passage\": \"The Matrix is a 1999 science fiction action film written and directed by The Wachowskis, starring Keanu Reeves, Laurence Fishburne, Carrie-Anne Moss, Hugo Weaving, and Joe Pantoliano.\", \"question\": \"Who stars in The Matrix?\"}' | \\\n",
        "# allennlp predict https://storage.googleapis.com/allennlp-public-models/bidaf-elmo.2021-02-11.tar.gz -"
      ],
      "metadata": {
        "id": "pEIG13s0ERWC"
      },
      "execution_count": null,
      "outputs": []
    },
    {
      "cell_type": "code",
      "source": [
        "# !pip install spacy"
      ],
      "metadata": {
        "id": "hkBCoKrkERTW"
      },
      "execution_count": null,
      "outputs": []
    },
    {
      "cell_type": "code",
      "source": [
        "# !python -m spacy download en_core_web_sm"
      ],
      "metadata": {
        "id": "4aLIt_SkERPJ"
      },
      "execution_count": null,
      "outputs": []
    },
    {
      "cell_type": "code",
      "source": [
        "# from allennlp.predictors.predictor import Predictor\n",
        "# import allennlp_models.rc\n",
        "# Allen_Answers = []\n",
        "# predictor = Predictor.from_path(\"https://storage.googleapis.com/allennlp-public-models/bidaf-elmo.2021-02-11.tar.gz\")\n",
        "# for item in df['Context'].size:\n",
        "#   Allen_Answers.append(predictor.predict(\n",
        "#       passage=df['Context'][item],\n",
        "#       question=df['Question Using T5 Model'][item]))"
      ],
      "metadata": {
        "id": "vXKCVZwqEMoR"
      },
      "execution_count": 67,
      "outputs": []
    },
    {
      "cell_type": "code",
      "source": [
        "# Allen_Answers"
      ],
      "metadata": {
        "id": "-6uStLu9r4IV"
      },
      "execution_count": null,
      "outputs": []
    },
    {
      "cell_type": "code",
      "source": [],
      "metadata": {
        "id": "nCab0TGfspIT"
      },
      "execution_count": null,
      "outputs": []
    },
    {
      "cell_type": "markdown",
      "source": [
        "##**Roberta-QA**"
      ],
      "metadata": {
        "id": "g6WG6eTqDR6m"
      }
    },
    {
      "cell_type": "code",
      "source": [
        "# # Install the latest release of Haystack in your own environment\n",
        "# #! pip install farm-haystack\n",
        "\n",
        "# # Install the latest main of Haystack\n",
        "# !pip install --upgrade pip\n",
        "# !pip install git+https://github.com/deepset-ai/haystack.git#egg=farm-haystack[colab]"
      ],
      "metadata": {
        "id": "aUxkHjK5G3nv"
      },
      "execution_count": null,
      "outputs": []
    },
    {
      "cell_type": "code",
      "source": [
        "# import logging\n",
        "\n",
        "# logging.basicConfig(format=\"%(levelname)s - %(name)s -  %(message)s\", level=logging.WARNING)\n",
        "# logging.getLogger(\"haystack\").setLevel(logging.INFO)"
      ],
      "metadata": {
        "id": "LNqvGFNfG3kE"
      },
      "execution_count": null,
      "outputs": []
    },
    {
      "cell_type": "code",
      "source": [
        "# # Imports needed to run this notebook\n",
        "\n",
        "# from pprint import pprint\n",
        "# from tqdm import tqdm\n",
        "# from haystack.nodes import QuestionGenerator, BM25Retriever, FARMReader\n",
        "# from haystack.document_stores import ElasticsearchDocumentStore\n",
        "# from haystack.pipelines import (\n",
        "#     QuestionGenerationPipeline,\n",
        "#     RetrieverQuestionGenerationPipeline,\n",
        "#     QuestionAnswerGenerationPipeline,\n",
        "# )\n",
        "# from haystack.utils import launch_es, print_questions"
      ],
      "metadata": {
        "id": "w6mzvNnNG3g3"
      },
      "execution_count": null,
      "outputs": []
    },
    {
      "cell_type": "code",
      "source": [
        "# # Option 1: Start Elasticsearch service via Docker\n",
        "# launch_es()"
      ],
      "metadata": {
        "id": "_rdUuoLAG3aP"
      },
      "execution_count": null,
      "outputs": []
    },
    {
      "cell_type": "code",
      "source": [
        "# # Option 2: In Colab / No Docker environments: Start Elasticsearch from source\n",
        "# ! wget https://artifacts.elastic.co/downloads/elasticsearch/elasticsearch-7.9.2-linux-x86_64.tar.gz -q\n",
        "# ! tar -xzf elasticsearch-7.9.2-linux-x86_64.tar.gz\n",
        "# ! chown -R daemon:daemon elasticsearch-7.9.2\n",
        "\n",
        "# import os\n",
        "# from subprocess import Popen, PIPE, STDOUT\n",
        "\n",
        "# es_server = Popen(\n",
        "#     [\"elasticsearch-7.9.2/bin/elasticsearch\"], stdout=PIPE, stderr=STDOUT, preexec_fn=lambda: os.setuid(1)  # as daemon\n",
        "# )\n",
        "# # wait until ES has started\n",
        "# ! sleep 30"
      ],
      "metadata": {
        "id": "VHOWu2ClHFwu"
      },
      "execution_count": null,
      "outputs": []
    },
    {
      "cell_type": "code",
      "source": [
        "# text1 = \"Python is an interpreted, high-level, general-purpose programming language. Created by Guido van Rossum and first released in 1991, Python's design philosophy emphasizes code readability with its notable use of significant whitespace.\"\n",
        "# text2 = \"Princess Arya Stark is the third child and second daughter of Lord Eddard Stark and his wife, Lady Catelyn Stark. She is the sister of the incumbent Westerosi monarchs, Sansa, Queen in the North, and Brandon, King of the Andals and the First Men. After narrowly escaping the persecution of House Stark by House Lannister, Arya is trained as a Faceless Man at the House of Black and White in Braavos, using her abilities to avenge her family. Upon her return to Westeros, she exacts retribution for the Red Wedding by exterminating the Frey male line.\"\n",
        "# text3 = \"Dry Cleaning are an English post-punk band who formed in South London in 2018.[3] The band is composed of vocalist Florence Shaw, guitarist Tom Dowse, bassist Lewis Maynard and drummer Nick Buxton. They are noted for their use of spoken word primarily in lieu of sung vocals, as well as their unconventional lyrics. Their musical stylings have been compared to Wire, Magazine and Joy Division.[4] The band released their debut single, 'Magic of Meghan' in 2019. Shaw wrote the song after going through a break-up and moving out of her former partner's apartment the same day that Meghan Markle and Prince Harry announced they were engaged.[5] This was followed by the release of two EPs that year: Sweet Princess in August and Boundary Road Snacks and Drinks in October. The band were included as part of the NME 100 of 2020,[6] as well as DIY magazine's Class of 2020.[7] The band signed to 4AD in late 2020 and shared a new single, 'Scratchcard Lanyard'.[8] In February 2021, the band shared details of their debut studio album, New Long Leg. They also shared the single 'Strong Feelings'.[9] The album, which was produced by John Parish, was released on 2 April 2021.[10]\"\n",
        "\n",
        "# docs = [{\"content\": text1}, {\"content\": text2}, {\"content\": text3}]\n",
        "\n",
        "# # Initialize document store and write in the documents\n",
        "# document_store = ElasticsearchDocumentStore()\n",
        "# document_store.delete_documents()\n",
        "# document_store.write_documents(docs)\n",
        "\n",
        "# # Initialize Question Generator\n",
        "# question_generator = QuestionGenerator()"
      ],
      "metadata": {
        "id": "EPNem534HFtI"
      },
      "execution_count": null,
      "outputs": []
    },
    {
      "cell_type": "code",
      "source": [
        "# reader = FARMReader(\"deepset/roberta-base-squad2\")\n",
        "# results = []\n",
        "# qag_pipeline = QuestionAnswerGenerationPipeline(question_generator, reader)\n",
        "# for idx, document in enumerate(tqdm(document_store)):\n",
        "\n",
        "#     print(f\"\\n * Generating questions and answers for document {idx}: {document.content[:100]}...\\n\")\n",
        "#     result_c = qag_pipeline.run(documents=[document])\n",
        "#     results.append(result_c)\n",
        "#     print_questions(result_c)\n"
      ],
      "metadata": {
        "id": "5MGAdeDmDWQ3"
      },
      "execution_count": null,
      "outputs": []
    },
    {
      "cell_type": "code",
      "source": [
        "# q = []\n",
        "# a = []\n",
        "# c = []\n",
        "# q__ = []\n",
        "# for i in range (3):\n",
        "#   q.append(results[i][\"queries\"])\n",
        "#   for j in range(3):\n",
        "#     aa=results[i][\"answers\"][j][0].answer\n",
        "#     a.append(aa)\n",
        "#     cc=results[i][\"documents\"][j][0].content\n",
        "#     c.append(cc)\n",
        "# q__.append({\"Question\":q,\"Answer\":a, \"Comtext\":c})"
      ],
      "metadata": {
        "id": "71Eau3imHX66"
      },
      "execution_count": null,
      "outputs": []
    },
    {
      "cell_type": "code",
      "source": [
        "# q__"
      ],
      "metadata": {
        "id": "8bBwYe_pHY1B"
      },
      "execution_count": null,
      "outputs": []
    },
    {
      "cell_type": "markdown",
      "source": [
        "##**deberta-v3-large for QA**"
      ],
      "metadata": {
        "id": "dGDPEzkeHeuG"
      }
    },
    {
      "cell_type": "code",
      "source": [
        "# import torch\n",
        "# import pytorch_warmup as warmup\n",
        "\n",
        "# optimizer = torch.optim.AdamW(params, lr=0.001, betas=(0.9, 0.999), weight_decay=0.01)\n",
        "# num_steps = len(dataloader) * num_epochs\n",
        "# lr_scheduler = torch.optim.lr_scheduler.CosineAnnealingLR(optimizer, T_max=num_steps)\n",
        "# warmup_scheduler = warmup.UntunedLinearWarmup(optimizer)\n",
        "# for epoch in range(1,num_epochs+1):\n",
        "#     for batch in dataloader:\n",
        "#         optimizer.zero_grad()\n",
        "#         loss = ...\n",
        "#         loss.backward()\n",
        "#         optimizer.step()\n",
        "#         with warmup_scheduler.dampening():\n",
        "#             lr_scheduler.step()"
      ],
      "metadata": {
        "id": "m3_ecGajIi4S"
      },
      "execution_count": null,
      "outputs": []
    },
    {
      "cell_type": "code",
      "source": [],
      "metadata": {
        "id": "aURxY-kKJEtA"
      },
      "execution_count": null,
      "outputs": []
    },
    {
      "cell_type": "code",
      "source": [
        "# class FARMReader(BaseReader):\n",
        "#   def __init__(model_name_or_path: str,\n",
        "#               model_version: Optional[str] = None,\n",
        "#               context_window_size: int = 150,\n",
        "#               batch_size: int = 50,\n",
        "#               use_gpu: bool = True,\n",
        "#               devices: Optional[List[Union[str, torch.device]]] = None,\n",
        "#               no_ans_boost: float = 0.0,\n",
        "#               return_no_answer: bool = False,\n",
        "#               top_k: int = 10,\n",
        "#               top_k_per_candidate: int = 3,\n",
        "#               top_k_per_sample: int = 1,\n",
        "#               num_processes: Optional[int] = None,\n",
        "#               max_seq_len: int = 256,\n",
        "#               doc_stride: int = 128,\n",
        "#               progress_bar: bool = True,\n",
        "#               duplicate_filtering: int = 0,\n",
        "#               use_confidence_scores: bool = True,\n",
        "#               confidence_threshold: Optional[float] = None,\n",
        "#               proxies: Optional[Dict[str, str]] = None,\n",
        "#               local_files_only=False,\n",
        "#               force_download=False,\n",
        "#               use_auth_token: Optional[Union[str, bool]] = None):\n",
        "#   def train(data_dir: str,\n",
        "#             train_filename: str,\n",
        "#             dev_filename: Optional[str] = None,\n",
        "#             test_filename: Optional[str] = None,\n",
        "#             use_gpu: Optional[bool] = None,\n",
        "#             devices: List[torch.device] = [],\n",
        "#             batch_size: int = 10,\n",
        "#             n_epochs: int = 2,\n",
        "#             learning_rate: float = 1e-5,\n",
        "#             max_seq_len: Optional[int] = None,\n",
        "#             warmup_proportion: float = 0.2,\n",
        "#             dev_split: float = 0,\n",
        "#             evaluate_every: int = 300,\n",
        "#             save_dir: Optional[str] = None,\n",
        "#             num_processes: Optional[int] = None,\n",
        "#             use_amp: str = None,\n",
        "#             checkpoint_root_dir: Path = Path(\"model_checkpoints\"),\n",
        "#             checkpoint_every: Optional[int] = None,\n",
        "#             checkpoints_to_keep: int = 3,\n",
        "#             caching: bool = False,\n",
        "#             cache_path: Path = Path(\"cache/data_silo\"),\n",
        "#             grad_acc_steps: int = 1,\n",
        "#             early_stopping: Optional[EarlyStopping] = None):\n",
        "#   def distil_prediction_layer_from(\n",
        "#           teacher_model: \"FARMReader\",\n",
        "#           data_dir: str,\n",
        "#           train_filename: str,\n",
        "#           dev_filename: Optional[str] = None,\n",
        "#           test_filename: Optional[str] = None,\n",
        "#           use_gpu: Optional[bool] = None,\n",
        "#           devices: List[torch.device] = [],\n",
        "#           student_batch_size: int = 10,\n",
        "#           teacher_batch_size: Optional[int] = None,\n",
        "#           n_epochs: int = 2,\n",
        "#           learning_rate: float = 3e-5,\n",
        "#           max_seq_len: Optional[int] = None,\n",
        "#           warmup_proportion: float = 0.2,\n",
        "#           dev_split: float = 0,\n",
        "#           evaluate_every: int = 300,\n",
        "#           save_dir: Optional[str] = None,\n",
        "#           num_processes: Optional[int] = None,\n",
        "#           use_amp: str = None,\n",
        "#           checkpoint_root_dir: Path = Path(\"model_checkpoints\"),\n",
        "#           checkpoint_every: Optional[int] = None,\n",
        "#           checkpoints_to_keep: int = 3,\n",
        "#           caching: bool = False,\n",
        "#           cache_path: Path = Path(\"cache/data_silo\"),\n",
        "#           distillation_loss_weight: float = 0.5,\n",
        "#           distillation_loss: Union[str, Callable[[torch.Tensor, torch.Tensor],\n",
        "#                                                 torch.Tensor]] = \"kl_div\",\n",
        "#           temperature: float = 1.0,\n",
        "#           grad_acc_steps: int = 1,\n",
        "#           early_stopping: Optional[EarlyStopping] = None):\n"
      ],
      "metadata": {
        "id": "kA6XclzsJFlu"
      },
      "execution_count": null,
      "outputs": []
    },
    {
      "cell_type": "code",
      "source": [
        "# batch_size = 2\n",
        "# grad_acc_steps = 32\n",
        "# n_epochs = 6\n",
        "# base_LM_model = \"microsoft/deberta-v3-large\"\n",
        "# max_seq_len = 512\n",
        "# learning_rate = 7e-6\n",
        "# # lr_schedule = LinearWarmup()\n",
        "# warmup_proportion = 0.2\n",
        "# doc_stride=128\n",
        "# max_query_length=64"
      ],
      "metadata": {
        "id": "f76zAesGHl9x"
      },
      "execution_count": null,
      "outputs": []
    },
    {
      "cell_type": "code",
      "source": [
        "# reader = FARMReader(model_name_or_path=\"deepset/deberta-v3-large-squad2\")\n",
        "# # or \n",
        "# reader = TransformersReader(model_name_or_path=\"deepset/deberta-v3-large-squad2\",tokenizer=\"deepset/deberta-v3-large-squad2\")"
      ],
      "metadata": {
        "id": "0CpXgQTAIJNJ"
      },
      "execution_count": 68,
      "outputs": []
    },
    {
      "cell_type": "code",
      "source": [
        "# from transformers import AutoModelForQuestionAnswering, AutoTokenizer, pipeline\n",
        "\n",
        "# model_name = \"deepset/deberta-v3-large-squad2\"\n",
        "\n",
        "# # a) Get predictions\n",
        "# nlp = pipeline('question-answering', model=model_name, tokenizer=model_name)\n",
        "# QA_input = {\n",
        "#     'question': 'Why is model conversion important?',\n",
        "#     'context': 'The option to convert models between FARM and transformers gives freedom to the user and let people easily switch between frameworks.'\n",
        "# }\n",
        "# res = nlp(QA_input)\n",
        "\n",
        "# # b) Load model & tokenizer\n",
        "# model = AutoModelForQuestionAnswering.from_pretrained(model_name)\n",
        "# tokenizer = AutoTokenizer.from_pretrained(model_name)"
      ],
      "metadata": {
        "id": "4xxkFormIJJq"
      },
      "execution_count": null,
      "outputs": []
    },
    {
      "cell_type": "code",
      "source": [],
      "metadata": {
        "id": "hzzuQ6HyIJHO"
      },
      "execution_count": null,
      "outputs": []
    },
    {
      "cell_type": "code",
      "source": [],
      "metadata": {
        "id": "_3Z-zXnEIJFJ"
      },
      "execution_count": null,
      "outputs": []
    }
  ]
}